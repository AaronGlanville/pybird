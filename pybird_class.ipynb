{
 "cells": [
  {
   "cell_type": "code",
   "execution_count": 1019,
   "metadata": {},
   "outputs": [],
   "source": [
    "import os\n",
    "from time import time\n",
    "import numpy as np\n",
    "from numpy import pi, sin, log\n",
    "from numpy.fft import rfft\n",
    "from scipy.interpolate import interp1d\n",
    "from scipy.special import gamma\n",
    "from scipy.integrate import quad\n",
    "import matplotlib.pyplot as plt"
   ]
  },
  {
   "cell_type": "code",
   "execution_count": 1020,
   "metadata": {},
   "outputs": [],
   "source": [
    "mu = {\n",
    "    0: { 0: 1., 2: 0., 4: 0. },\n",
    "    2: { 0: 1./3., 2: 2./3., 4: 0. },\n",
    "    4: { 0: 1./5., 2: 4./7., 4: 8./35. },\n",
    "    6: { 0: 1./7., 2: 10./21., 4: 24./77. },\n",
    "    8: { 0: 1./9., 2: 40./99., 4: 48./148. }\n",
    "}\n",
    "\n",
    "M13b = {\n",
    "    0: lambda n1: 1.125,\n",
    "    1: lambda n1: -(1/(1 + n1)),\n",
    "    2: lambda n1: 2.25,\n",
    "    3: lambda n1: (3*(-1 + 3*n1))/(4.*(1 + n1)),\n",
    "    4: lambda n1: -(1/(1 + n1)),\n",
    "    5: lambda n1: -9/(4 + 4*n1),\n",
    "    6: lambda n1: (9 + 18*n1)/(4 + 4*n1),\n",
    "    7: lambda n1: (3*(-5 + 3*n1))/(8.*(1 + n1)),\n",
    "    8: lambda n1: -9/(4 + 4*n1),\n",
    "    9: lambda n1: (9*n1)/(4 + 4*n1),\n",
    "}\n",
    "\n",
    "def M13a(n1):\n",
    "    return np.tan(n1*np.pi)/(14.*(-3 + n1)*(-2 + n1)*(-1 + n1)*n1*np.pi)\n",
    "\n",
    "M22b = {\n",
    "    0: lambda n1, n2: (6 + n1**4*(4 - 24*n2) - 7*n2 + 8*n1**5*n2 - 13*n2**2 + 4*n2**3 + 4*n2**4 + n1**2*(-13 + 38*n2 + 12*n2**2 - 8*n2**3) + 2*n1**3*(2 - 5*n2 - 4*n2**2 + 8*n2**3) + n1*(-7 - 6*n2 + 38*n2**2 - 10*n2**3 - 24*n2**4 + 8*n2**5))/(4.*n1*(1 + n1)*(-1 + 2*n1)*n2*(1 + n2)*(-1 + 2*n2)),\n",
    "    1: lambda n1, n2: (-18 + n1**2*(1 - 11*n2) - 12*n2 + n2**2 + 10*n2**3 + 2*n1**3*(5 + 7*n2) + n1*(-12 - 38*n2 - 11*n2**2 + 14*n2**3))/(7.*n1*(1 + n1)*n2*(1 + n2)),\n",
    "    2: lambda n1, n2: (-3*n1 + 2*n1**2 + n2*(-3 + 2*n2))/(n1*n2),\n",
    "    3: lambda n1, n2: (-4*(-24 + n2 + 10*n2**2) + 2*n1*(-2 + 51*n2 + 21*n2**2) + n1**2*(-40 + 42*n2 + 98*n2**2))/(49.*n1*(1 + n1)*n2*(1 + n2)),\n",
    "    4: lambda n1, n2: (4*(3 - 2*n2 + n1*(-2 + 7*n2)))/(7.*n1*n2),\n",
    "    5: lambda n1, n2: 2,\n",
    "    6: lambda n1, n2: ((-3 + 2*n1 + 2*n2)*(-2 + 3*n2 + 4*n1**4*n2 + 3*n2**2 - 2*n2**3 + n1**3*(-2 - 2*n2 + 4*n2**2) + n1**2*(3 - 10*n2 - 4*n2**2 + 4*n2**3) + n1*(3 + 2*n2 - 10*n2**2 - 2*n2**3 + 4*n2**4)))/(2.*n1*(1 + n1)*(-1 + 2*n1)*n2*(1 + n2)*(-1 + 2*n2)),\n",
    "    7: lambda n1, n2: ((-3 + 2*n1 + 2*n2)*(2 + 4*n2 + 5*n2**2 + n1**2*(5 + 7*n2) + n1*(4 + 10*n2 + 7*n2**2)))/(7.*n1*(1 + n1)*n2*(1 + n2)),\n",
    "    8: lambda n1, n2: ((n1 + n2)*(-3 + 2*n1 + 2*n2))/(n1*n2),\n",
    "    9: lambda n1, n2: ((-3 + 2*n1 + 2*n2)*(10 - 23*n2 + 28*n1**4*n2 + 5*n2**2 + 2*n2**3 + n1**3*(2 - 46*n2 + 28*n2**2) + n1**2*(5 - 38*n2 - 28*n2**2 + 28*n2**3) + n1*(-23 + 94*n2 - 38*n2**2 - 46*n2**3 + 28*n2**4)))/(14.*n1*(1 + n1)*(-1 + 2*n1)*n2*(1 + n2)*(-1 + 2*n2)),\n",
    "    10: lambda n1, n2: ((-3 + 2*n1 + 2*n2)*(-58 + 4*n2 + 35*n2**2 + 7*n1**2*(5 + 7*n2) + n1*(4 + 14*n2 + 49*n2**2)))/(49.*n1*(1 + n1)*n2*(1 + n2)),\n",
    "    11: lambda n1, n2: ((-3 + 2*n1 + 2*n2)*(-8 + 7*n1 + 7*n2))/(7.*n1*n2),\n",
    "    12: lambda n1, n2: ((-3 + 2*n1 + 2*n2)*(-1 + 2*n1 + 2*n2)*(2 + 2*n1**3 - n2 - n2**2 + 2*n2**3 - n1**2*(1 + 2*n2) - n1*(1 + 2*n2 + 2*n2**2)))/(8.*n1*(1 + n1)*(-1 + 2*n1)*n2*(1 + n2)*(-1 + 2*n2)),\n",
    "    13: lambda n1, n2: ((1 + n1 + n2)*(2 + n1 + n2)*(-3 + 2*n1 + 2*n2)*(-1 + 2*n1 + 2*n2))/(8.*n1*(1 + n1)*n2*(1 + n2)),\n",
    "    14: lambda n1, n2: -((-3 + 2*n1 + 2*n2)*(-6 - n1 + 2*n1**2 - n2 + 2*n2**2))/(8.*n1*(1 + n1)*n2*(1 + n2)),\n",
    "    15: lambda n1, n2: ((-3 + 2*n1 + 2*n2)*(-1 + 2*n1 + 2*n2)*(38 + 41*n2 + 112*n1**3*n2 - 66*n2**2 + 2*n1**2*(-33 - 18*n2 + 56*n2**2) + n1*(41 - 232*n2 - 36*n2**2 + 112*n2**3)))/(56.*n1*(1 + n1)*(-1 + 2*n1)*n2*(1 + n2)*(-1 + 2*n2)),\n",
    "    16: lambda n1, n2: -((-3 + 2*n1 + 2*n2)*(9 + 3*n1 + 3*n2 + 7*n1*n2))/(14.*n1*(1 + n1)*n2*(1 + n2)),\n",
    "    17: lambda n1, n2: ((-3 + 2*n1 + 2*n2)*(-1 + 2*n1 + 2*n2)*(5 + 5*n1 + 5*n2 + 7*n1*n2))/(14.*n1*(1 + n1)*n2*(1 + n2)),\n",
    "    18: lambda n1, n2: (3 - 2*n1 - 2*n2)/(2.*n1*n2),\n",
    "    19: lambda n1, n2: ((-3 + 2*n1 + 2*n2)*(-1 + 2*n1 + 2*n2))/(2.*n1*n2),\n",
    "    20: lambda n1, n2: ((-3 + 2*n1 + 2*n2)*(-1 + 2*n1 + 2*n2)*(50 - 9*n2 + 98*n1**3*n2 - 35*n2**2 + 7*n1**2*(-5 - 18*n2 + 28*n2**2) + n1*(-9 - 66*n2 - 126*n2**2 + 98*n2**3)))/(196.*n1*(1 + n1)*(-1 + 2*n1)*n2*(1 + n2)*(-1 + 2*n2)),\n",
    "    21: lambda n1, n2: ((-3 + 2*n1 + 2*n2)*(-1 + 2*n1 + 2*n2)*(2 + n1 + 4*n1**3 + n2 - 8*n1*n2 - 8*n1**2*n2 - 8*n1*n2**2 + 4*n2**3))/(8.*n1*(1 + n1)*(-1 + 2*n1)*n2*(1 + n2)*(-1 + 2*n2)),\n",
    "    22: lambda n1, n2: ((2 + n1 + n2)*(-3 + 2*n1 + 2*n2)*(-1 + 2*n1 + 2*n2)*(1 + 2*n1 + 2*n2))/(8.*n1*(1 + n1)*n2*(1 + n2)),\n",
    "    23: lambda n1, n2: -((-3 + 2*n1 + 2*n2)*(-1 + 2*n1 + 2*n2)*(-2 + 7*n1 + 7*n2))/(56.*n1*(1 + n1)*n2*(1 + n2)),\n",
    "    24: lambda n1, n2: ((-3 + 2*n1 + 2*n2)*(-1 + 2*n1 + 2*n2)*(26 + 9*n2 + 56*n1**3*n2 - 38*n2**2 + 2*n1**2*(-19 - 18*n2 + 56*n2**2) + n1*(9 - 84*n2 - 36*n2**2 + 56*n2**3)))/(56.*n1*(1 + n1)*(-1 + 2*n1)*n2*(1 + n2)*(-1 + 2*n2)),\n",
    "    25: lambda n1, n2: (3*(-3 + 2*n1 + 2*n2)*(-1 + 2*n1 + 2*n2))/(32.*n1*(1 + n1)*n2*(1 + n2)),\n",
    "    26: lambda n1, n2: ((-3 + 2*n1 + 2*n2)*(-1 + 2*n1 + 2*n2)*(1 + 2*n1 + 2*n2)*(1 + 2*n1**2 - 8*n1*n2 + 2*n2**2))/(16.*n1*(1 + n1)*(-1 + 2*n1)*n2*(1 + n2)*(-1 + 2*n2)),\n",
    "    27: lambda n1, n2: ((-3 + 2*n1 + 2*n2)*(-1 + 2*n1 + 2*n2)*(1 + 2*n1 + 2*n2)*(3 + 2*n1 + 2*n2))/(32.*n1*(1 + n1)*n2*(1 + n2)),\n",
    "}\n",
    "\n",
    "def M22a(n1, n2):\n",
    "    return (gamma(1.5 - n1)*gamma(1.5 - n2)*gamma(-1.5 + n1 + n2))/(8.*np.pi**1.5*gamma(n1)*gamma(3 - n1 - n2)*gamma(n2))\n",
    "\n",
    "### matrix for spherical bessel transform from Power spectrum to Correlation function\n",
    "def MPC(l, pn):\n",
    "    return np.pi**-1.5 * 2.**(-2.*pn) * gamma(1.5+l/2.-pn) / gamma(l/2.+pn)\n",
    "\n",
    "def cH(Om,a):\n",
    "    return np.sqrt(Om/a+a**2*(1-Om))\n",
    "def DgN(Om,a):\n",
    "    return 5./2*Om*cH(Om,a)/a*quad(lambda x:cH(Om,x)**-3,0,a)[0]\n",
    "def fN(Om,z):\n",
    "    a = 1./(1.+z)\n",
    "    return (Om*(5*a - 3*DgN(Om,a)))/(2.*(a**3*(1 - Om) + Om)*DgN(Om,a))"
   ]
  },
  {
   "cell_type": "code",
   "execution_count": 1192,
   "metadata": {
    "scrolled": true
   },
   "outputs": [
    {
     "data": {
      "text/plain": [
       "[<matplotlib.lines.Line2D at 0x18439c4a90>]"
      ]
     },
     "execution_count": 1192,
     "metadata": {},
     "output_type": "execute_result"
    },
    {
     "data": {
      "image/png": "[encoded data removed]",
      "text/plain": [
       "<Figure size 432x288 with 1 Axes>"
      ]
     },
     "metadata": {
      "needs_background": "light"
     },
     "output_type": "display_data"
    }
   ],
   "source": [
    "def CoefWindow(N, window=1):\n",
    "    n = np.arange(-N//2,N//2+1)\n",
    "    if window is 1: n_cut = N//2\n",
    "    else: n_cut = int(window*N//2.)\n",
    "    \n",
    "    n_right = n[-1] - n_cut\n",
    "    n_left = n[0]+ n_cut \n",
    "\n",
    "    n_r=n[ n[:]  > n_right ] \n",
    "    n_l=n[ n[:]  <  n_left ] \n",
    "\n",
    "    theta_right=(n[-1]-n_r)/float(n[-1]-n_right-1) \n",
    "    theta_left=(n_l - n[0])/float(n_left-n[0]-1)\n",
    "    \n",
    "    W=np.ones(n.size)\n",
    "    W[n[:] > n_right]= theta_right - 1/(2*pi)*sin(2*pi*theta_right)\n",
    "    W[n[:] < n_left]= theta_left - 1/(2*pi)*sin(2*pi*theta_left)\n",
    "    \n",
    "    return W\n",
    "\n",
    "class FFTLog(object):\n",
    "    def __init__(self, **kwargs):\n",
    "        self.Nmax = kwargs['Nmax']\n",
    "        self.xmin = kwargs['xmin']\n",
    "        self.xmax = kwargs['xmax']\n",
    "        self.bias = kwargs['bias']\n",
    "        self.dx = np.log(self.xmax/self.xmin) / (self.Nmax-1.)\n",
    "        self.setx()\n",
    "        self.setPow()\n",
    "    \n",
    "    def setx(self):\n",
    "        self.x = np.empty(self.Nmax)\n",
    "        for i in range(self.Nmax): \n",
    "            self.x[i] = self.xmin * np.exp(i*self.dx)\n",
    "    \n",
    "    def setPow(self):\n",
    "        self.Pow = np.empty(self.Nmax+1, dtype = complex)\n",
    "        for i in range(self.Nmax+1): \n",
    "            self.Pow[i] = self.bias + 1j * 2.*np.pi / (self.Nmax*self.dx) * (i - self.Nmax/2.)\n",
    "    \n",
    "    def Coef(self, xin, f, window=1, co=common):\n",
    "        \n",
    "        interpfunc = interp1d(xin, f)\n",
    "        \n",
    "        if xin[0] > self.x[0]:\n",
    "            #print ('low extrapolation')\n",
    "            nslow = (log(f[1])-log(f[0])) / (log(xin[1])-log(xin[0]))\n",
    "            Aslow = f[0] / xin[0]**nslow\n",
    "        if xin[-1] < self.x[-1]:\n",
    "            #print ('high extrapolation')\n",
    "            nshigh = (log(f[-1])-log(f[-2])) / (log(xin[-1])-log(xin[-2]))\n",
    "            Ashigh = f[-1] / xin[-1]**nshigh\n",
    "        \n",
    "        fx = np.empty(self.Nmax)\n",
    "        tmp = np.empty(int(self.Nmax/2+1), dtype = complex)\n",
    "        Coef = np.empty(self.Nmax+1, dtype = complex)\n",
    "        \n",
    "        for i in range(self.Nmax): \n",
    "            if xin[0] > self.x[i]: fx[i] = Aslow * self.x[i]**nslow * np.exp(-self.bias*i*self.dx)\n",
    "            elif xin[-1] < self.x[i]: fx[i] = Ashigh * self.x[i]**nshigh * np.exp(-self.bias*i*self.dx)\n",
    "            else: fx[i] = interpfunc(self.x[i]) * np.exp(-self.bias*i*self.dx)\n",
    "                \n",
    "        tmp = rfft(fx)\n",
    "        \n",
    "        for i in range(self.Nmax+1):\n",
    "            if (i < self.Nmax/2): Coef[i] = np.conj(tmp[int(self.Nmax/2-i)]) * self.xmin**(-self.Pow[i]) / float(self.Nmax)\n",
    "            else: Coef[i] = tmp[int(i-self.Nmax/2)] * self.xmin**(-self.Pow[i]) / float(self.Nmax)\n",
    "                \n",
    "        Coef[0] /= 2.\n",
    "        Coef[self.Nmax] /= 2.\n",
    "        \n",
    "        if window is not None: Coef = Coef*CoefWindow(self.Nmax, window=window)\n",
    "\n",
    "        return Coef\n",
    "        #return self.x, \n",
    "    \n",
    "    def sumCoefxPow(self, xin, f, x, window=1):    \n",
    "        Coef = self.Coef(xin, f, window=window)\n",
    "        fFFT = np.empty_like(x)\n",
    "        for i, xi in enumerate(x):\n",
    "            fFFT[i] = np.real( np.sum(Coef * xi**self.Pow) )\n",
    "        return fFFT\n",
    "\n",
    "kin, Plin = np.loadtxt('output/PlinearDS1_matterpower.dat', unpack = True)\n",
    "idhigh = np.where(kin > 1.)[0][0]\n",
    "idlow = np.where(kin < 1e-3)[0][-1]\n",
    "kin2 = kin[idlow:idhigh]\n",
    "Plin2 = Plin[idlow:idhigh]\n",
    "\n",
    "#fftPlin = dict(Nmax=256, xmin=1.5e-5, xmax=10., bias=-1.6)\n",
    "fftPlin = dict(Nmax=256, xmin=1.5e-5, xmax=100., bias=-1.6)\n",
    "P11 = FFTLog(**fftPlin)\n",
    "plt.loglog(kin, Plin)\n",
    "kplot = np.geomspace(1.e-4, 1e2, 100)\n",
    "plt.loglog(kplot, P11.sumCoefxPow(kin2, Plin2, kplot, window=1), '.')\n",
    "\n"
   ]
  },
  {
   "cell_type": "code",
   "execution_count": null,
   "metadata": {},
   "outputs": [],
   "source": []
  },
  {
   "cell_type": "code",
   "execution_count": 1040,
   "metadata": {},
   "outputs": [],
   "source": [
    "class Common(object):\n",
    "    def __init__(self, Nl=3, kmin=0.001, kmax=0.5):\n",
    "        self.Nl = Nl\n",
    "        self.N11 = 3\n",
    "        self.N22 = 28 # number of 22-loops\n",
    "        self.N13 = 10 # number of 13-loops\n",
    "        self.k = np.arange(kmin, kmax, 0.01)\n",
    "        self.Nk = self.k.shape[0]\n",
    "        self.s = np.geomspace(1e-2, 1e3, 200)\n",
    "        self.Ns = self.s.shape[0]\n",
    "\n",
    "common = Common()\n",
    "\n",
    "class Bird(object):\n",
    "    def __init__(self, kin, Plin, Omega_m, z, co=common):\n",
    "        self.kin = kin\n",
    "        self.Pin = Plin\n",
    "        self.Plin = interp1d(kin, Plin)\n",
    "        self.P11 = self.Plin(co.k)\n",
    "        self.f = 0.#fN(Omega_m, z)\n",
    "        self.P22 = np.empty(shape=(co.N22, co.Nk))\n",
    "        self.P13 = np.empty(shape=(co.N13, co.Nk))\n",
    "        self.C11 = np.empty(shape=(co.Nl, co.N11, co.Ns))\n",
    "        self.C22 = np.empty(shape=(co.Nl, co.N22, co.Ns))\n",
    "        self.C13 = np.empty(shape=(co.Nl, co.N13, co.Ns))\n",
    "        self.b11 = np.empty(shape=(co.Nl, co.N11))\n",
    "        self.b13 = np.empty(shape=(co.Nl, co.N13))\n",
    "        self.b22 = np.empty(shape=(co.Nl, co.N22))\n",
    "    \n",
    "    def setBias(self, bs, co=common):\n",
    "        b1, b2, b3, b4 = bs\n",
    "        f = self.f\n",
    "        for i in range(co.Nl):\n",
    "            l = 2*i\n",
    "            self.b11[i] = np.array([b1**2, 2.*b1*f*mu[2][l], f**2*mu[4][l]])\n",
    "            self.b22[i] = np.array([ b1**2*mu[0][l], b1*b2*mu[0][l], b1*b4*mu[0][l], b2**2*mu[0][l], b2*b4*mu[0][l], b4**2*mu[0][l], b1**2*f*mu[2][l], b1*b2*f*mu[2][l], b1*b4*f*mu[2][l], b1*f*mu[2][l], b2*f*mu[2][l], b4*f*mu[2][l], b1**2*f**2*mu[2][l], b1**2*f**2*mu[4][l], b1*f**2*mu[2][l], b1*f**2*mu[4][l], b2*f**2*mu[2][l], b2*f**2*mu[4][l], b4*f**2*mu[2][l], b4*f**2*mu[4][l], f**2*mu[4][l], b1*f**3*mu[4][l], b1*f**3*mu[6][l], f**3*mu[4][l], f**3*mu[6][l], f**4*mu[4][l], f**4*mu[6][l], f**4*mu[8][l] ])\n",
    "            self.b13[i] = np.array([ b1**2*mu[0][l], b1*b3*mu[0][l], b1**2*f*mu[2][l], b1*f*mu[2][l], b3*f*mu[2][l], b1*f**2*mu[2][l], b1*f**2*mu[4][l], f**2*mu[4][l], f**3*mu[4][l], f**3*mu[6][l] ])\n",
    "    \n",
    "    def powerspectrum(self, bs, co=common):\n",
    "        self.setBias(bs, co=co)\n",
    "        ps11 = np.einsum('l,x->lx', np.sum(self.b11, axis=1), self.P11)\n",
    "        ps22 = np.einsum('lb,bx->lx', self.b22, self.P22)\n",
    "        for l in range(co.Nl): ps22[l] -= ps22[l,0]\n",
    "        ps13 = np.einsum('lb,bx->lx', self.b13, self.P13)\n",
    "        return ps11, ps22 + ps13\n",
    "    \n",
    "    def correlationfunction(self, bs, co=common):\n",
    "        self.setBias(bs, co=co)\n",
    "        cf11 = self.C11#np.einsum('l,lx->lx', np.sum(self.b11, axis=1), self.C11)\n",
    "        cf22 = np.einsum('lb,lbx->lx', self.b22, self.C22)\n",
    "        #for l in range(co.Nl): ps22[l] -= ps22[l,0]\n",
    "        cf13 = np.einsum('lb,lbx->lx', self.b13, self.C13)\n",
    "        return cf11, cf22 + cf13\n",
    "\n",
    "        "
   ]
  },
  {
   "cell_type": "code",
   "execution_count": 1202,
   "metadata": {},
   "outputs": [
    {
     "name": "stdout",
     "output_type": "stream",
     "text": [
      "0.0006601810455322266\n"
     ]
    }
   ],
   "source": [
    "Omega_m = 0.0\n",
    "z = 0.5\n",
    "t1 = time()\n",
    "bird = Bird(kin2, Plin2, Omega_m, z)\n",
    "t2 = time()\n",
    "print (t2-t1)"
   ]
  },
  {
   "cell_type": "code",
   "execution_count": 1208,
   "metadata": {},
   "outputs": [],
   "source": [
    "class NonLinear(object):\n",
    "    def __init__(self, co=common, load=True, save=True, path='./'):\n",
    "        \n",
    "        self.fftsettings = dict(Nmax=256, xmin=1.5e-5, xmax=100., bias=-1.6)\n",
    "        self.fft = FFTLog(**self.fftsettings)\n",
    "        \n",
    "        if load is True:\n",
    "            try:\n",
    "                L = np.load(os.path.join(path, 'pyegg.npz'))\n",
    "                if (self.fft.Pow-L['Pow']).any():\n",
    "                    print ('Loaded loop matrices do not correspond to asked FFTLog configuration. \\n Computing new matrices.')\n",
    "                    load = False\n",
    "                else:\n",
    "                    self.M22, self.M13, self.Mcf11, self.Mcf22, self.Mcf13 = L['M22'], L['M13'], L['Mcf11'], L['Mcf22'], L['Mcf13']\n",
    "            except:\n",
    "                print ('Can\\'t load loop matrices at %s. \\n Computing new matrices.'%path)\n",
    "                load = False\n",
    "        \n",
    "        if load is False:\n",
    "            self.setM22()\n",
    "            self.setM13()\n",
    "            self.setMl()\n",
    "            self.setMcf11()\n",
    "            self.setMcf22()\n",
    "            self.setMcf13()\n",
    "        \n",
    "        if save is True:\n",
    "            try:\n",
    "                np.savez( os.path.join(path, 'pyegg.npz'), Pow=self.fft.Pow,\n",
    "                     M22=self.M22, M13=self.M13, Mcf11=self.Mcf11, Mcf22=self.Mcf22, Mcf13=self.Mcf13 )\n",
    "            except:\n",
    "                print ('Can\\'t save loop matrices at %s.'%path)\n",
    "        \n",
    "        self.setkPow(co=co)\n",
    "        self.setsPow(co=co)\n",
    "        \n",
    "        # To speed-up matrix multiplication:\n",
    "        self.optipathP22 = np.einsum_path('nk,mk,bnm->bk', self.kPow, self.kPow, self.M22, optimize='optimal')[0]\n",
    "        self.optipathC13 = np.einsum_path('ns,ms,blnm->bls', self.sPow, self.sPow, self.Mcf22, optimize='optimal')[0]\n",
    "        self.optipathC22 = np.einsum_path('ns,ms,blnm->bls', self.sPow, self.sPow, self.Mcf13, optimize='optimal')[0]\n",
    "        \n",
    "    def setM22(self, co=common):\n",
    "        self.M22 = np.empty(shape=(co.N22, self.fft.Pow.shape[0], self.fft.Pow.shape[0]), dtype='complex')\n",
    "        # common piece of M22\n",
    "        Ma = np.empty(shape=(self.fft.Pow.shape[0], self.fft.Pow.shape[0]), dtype='complex')\n",
    "        for u, n1 in enumerate(-0.5*self.fft.Pow):\n",
    "            for v, n2 in enumerate(-0.5*self.fft.Pow):\n",
    "                Ma[u,v] = M22a(n1, n2)\n",
    "        for i in range(co.N22): \n",
    "            # singular piece of M22\n",
    "            Mb = np.empty(shape=(self.fft.Pow.shape[0], self.fft.Pow.shape[0]), dtype='complex')\n",
    "            for u, n1 in enumerate(-0.5*self.fft.Pow):\n",
    "                for v, n2 in enumerate(-0.5*self.fft.Pow):\n",
    "                    Mb[u,v] = M22b[i](n1, n2)\n",
    "            self.M22[i] = Ma*Mb\n",
    "    \n",
    "    def setM13(self, co=common):\n",
    "        self.M13 = np.empty(shape=(co.N13, self.fft.Pow.shape[0]), dtype='complex')\n",
    "        Ma = M13a(-0.5*self.fft.Pow)\n",
    "        for i in range(co.N13): self.M13[i] = Ma*M13b[i](-0.5*self.fft.Pow)\n",
    "    \n",
    "    def setMcf11(self, co=common):\n",
    "        self.Mcf11 = np.empty(shape=(co.Nl, self.fft.Pow.shape[0]), dtype='complex')\n",
    "        for l in range(co.Nl):\n",
    "            for u, n1 in enumerate(-0.5*self.fft.Pow):\n",
    "                self.Mcf11[l,u] = MPC(2*l, n1)\n",
    "        \n",
    "    def setMl(self, co=common):\n",
    "        self.Ml = np.empty(shape=(co.Nl, self.fft.Pow.shape[0], self.fft.Pow.shape[0]), dtype='complex')\n",
    "        for l in range(co.Nl):\n",
    "            for u, n1 in enumerate(-0.5*self.fft.Pow):\n",
    "                for v, n2 in enumerate(-0.5*self.fft.Pow):\n",
    "                    self.Ml[l,u,v] = MPC(2*l, n1+n2-1.5)\n",
    "    \n",
    "    def setMcf22(self):\n",
    "        self.Mcf22 = np.einsum('lnm,bnm->blnm', self.Ml, self.M22)\n",
    "    \n",
    "    def setMcf13(self):\n",
    "        self.Mcf13 = np.einsum('lnm,bn,bm->blnm', self.Ml, self.M13, self.M13)\n",
    "    \n",
    "    def setkPow(self, co=common):\n",
    "        self.kPow = np.exp(np.einsum('n,k->nk', self.fft.Pow, np.log(co.k)))\n",
    "    \n",
    "    def setsPow(self, co=common):\n",
    "        self.sPow = np.exp(np.einsum('n,s->ns', -self.fft.Pow-3., np.log(co.s)))\n",
    "    \n",
    "    def CoefkPow(self, Coef):\n",
    "        return np.einsum('n,nk->nk', Coef, self.kPow )\n",
    "    \n",
    "    def CoefsPow(self, Coef):\n",
    "        return np.einsum('n,ns->ns', Coef, self.sPow )\n",
    "    \n",
    "    def makeP22(self, CoefkPow, bird, co=common):\n",
    "        bird.P22 = co.k**3 * np.real( np.einsum('nk,mk,bnm->bk', CoefkPow, CoefkPow, self.M22, optimize=self.optipathP22 ) )\n",
    "    \n",
    "    def makeP13(self, CoefkPow, bird, co=common):\n",
    "        bird.P13 = co.k**3 * bird.P11 * np.real( np.einsum('nk,bn->bk', CoefkPow, self.M13) )\n",
    "        \n",
    "    def makeC11(self, CoefsPow, bird):\n",
    "        bird.C11 = np.real( np.einsum('ns,ln->ls', CoefsPow, self.Mcf11) )\n",
    "        \n",
    "    def makeC22(self, CoefsPow, bird):\n",
    "        bird.C22 = np.real( np.einsum('ns,ms,blnm->lbs', CoefsPow, CoefsPow, self.Mcf22, optimize=self.optipathC22 ) )\n",
    "    \n",
    "    def makeC13(self, CoefsPow, bird):\n",
    "        bird.C13 = np.real( np.einsum('ns,ms,blnm->lbs', CoefsPow, CoefsPow, self.Mcf13, optimize=self.optipathC13 ) )\n",
    "        \n",
    "    def Coef(self, bird, window=None, co=common):\n",
    "#         if bird.kin[0] > self.fftsettings['xmin']: print ('Please provide a linear power spectrum with kmin < %s'%self.fftsettings['xmin'])\n",
    "#         if bird.kin[-1] < self.fftsettings['xmax']: print ('Please provide a linear power spectrum with kmax > %s'%self.fftsettings['xmax'])\n",
    "        return self.fft.Coef(bird.kin, bird.Pin, window=window)\n",
    "    \n",
    "    def Ps(self, bird, co=common):\n",
    "        coef = self.Coef(bird, co=co)\n",
    "        coefkPow = self.CoefkPow(coef)\n",
    "        self.makeP22(coefkPow, bird, co=co)\n",
    "        self.makeP13(coefkPow, bird, co=co)\n",
    "        \n",
    "    def Cf(self, bird, co=common):\n",
    "        coef = self.Coef(bird, co=co)\n",
    "        coefsPow = self.CoefsPow(coef)\n",
    "        self.makeC11(coefsPow, bird)\n",
    "        self.makeC22(coefsPow, bird)\n",
    "        self.makeC13(coefsPow, bird)\n",
    "    \n",
    "    def PsCf(self, bird, co=common):\n",
    "        coef = self.Coef(bird, co=co)\n",
    "        coefkPow = self.CoefkPow(coef)\n",
    "        coefsPow = self.CoefsPow(coef)\n",
    "        self.makeP22(coefkPow, bird, co=co)\n",
    "        self.makeP13(coefkPow, bird, co=co)\n",
    "        self.makeC11(coefsPow, bird)\n",
    "        self.makeC22(coefsPow, bird)\n",
    "        self.makeC13(coefsPow, bird)"
   ]
  },
  {
   "cell_type": "code",
   "execution_count": 1209,
   "metadata": {},
   "outputs": [],
   "source": [
    "nonlinear = NonLinear(load=True,save=True)"
   ]
  },
  {
   "cell_type": "code",
   "execution_count": 1205,
   "metadata": {},
   "outputs": [
    {
     "name": "stdout",
     "output_type": "stream",
     "text": [
      "0.38548803329467773\n"
     ]
    }
   ],
   "source": [
    "t1 = time()\n",
    "for i in range(1):\n",
    "    #nonlinear.Ps(bird)\n",
    "    #nonlinear.Cf(bird)\n",
    "    nonlinear.PsCf(bird)\n",
    "t2 = time()\n",
    "print (t2-t1)"
   ]
  },
  {
   "cell_type": "code",
   "execution_count": 1206,
   "metadata": {},
   "outputs": [
    {
     "data": {
      "text/plain": [
       "[<matplotlib.lines.Line2D at 0x184d87bef0>]"
      ]
     },
     "execution_count": 1206,
     "metadata": {},
     "output_type": "execute_result"
    },
    {
     "data": {
      "image/png": "[encoded data removed]",
      "text/plain": [
       "<Figure size 432x288 with 1 Axes>"
      ]
     },
     "metadata": {
      "needs_background": "light"
     },
     "output_type": "display_data"
    }
   ],
   "source": [
    "bs = np.array([2., 0.8, 0.5, 0.8])\n",
    "pslin, psloop = bird.powerspectrum(bs)\n",
    "plt.plot(common.k, common.k * pslin[0])\n",
    "plt.plot(common.k, psloop[0])\n",
    "plt.plot(common.k, common.k * (pslin[0]+psloop[0]))"
   ]
  },
  {
   "cell_type": "code",
   "execution_count": 1207,
   "metadata": {},
   "outputs": [
    {
     "data": {
      "text/plain": [
       "(-11, 42)"
      ]
     },
     "execution_count": 1207,
     "metadata": {},
     "output_type": "execute_result"
    },
    {
     "data": {
      "image/png": "[encoded data removed]",
      "text/plain": [
       "<Figure size 432x288 with 1 Axes>"
      ]
     },
     "metadata": {
      "needs_background": "light"
     },
     "output_type": "display_data"
    }
   ],
   "source": [
    "bs = np.array([1., 1., 1., 0.])\n",
    "cflin, cfloop = bird.correlationfunction(bs)\n",
    "plt.semilogx(common.s, common.s**2 * cflin[0])\n",
    "plt.semilogx(common.s, common.s**2 * cfloop[0])\n",
    "plt.ylim(-11,42)"
   ]
  },
  {
   "cell_type": "code",
   "execution_count": 924,
   "metadata": {},
   "outputs": [
    {
     "name": "stdout",
     "output_type": "stream",
     "text": [
      "0.8017332553863525\n"
     ]
    }
   ],
   "source": [
    "t1 = time()\n",
    "for i in range(100):\n",
    "    nonlinear.Coef(bird)\n",
    "t2 = time()\n",
    "print (t2-t1)"
   ]
  },
  {
   "cell_type": "code",
   "execution_count": null,
   "metadata": {},
   "outputs": [],
   "source": []
  }
 ],
 "metadata": {
  "kernelspec": {
   "display_name": "Python 3",
   "language": "python",
   "name": "python3"
  },
  "language_info": {
   "codemirror_mode": {
    "name": "ipython",
    "version": 3
   },
   "file_extension": ".py",
   "mimetype": "text/x-python",
   "name": "python",
   "nbconvert_exporter": "python",
   "pygments_lexer": "ipython3",
   "version": "3.7.3"
  }
 },
 "nbformat": 4,
 "nbformat_minor": 2
}
