{
 "cells": [
  {
   "cell_type": "code",
   "execution_count": 2,
   "metadata": {},
   "outputs": [],
   "source": [
    "# Import relevant modules\n",
    "import matplotlib\n",
    "import matplotlib.pyplot as plt\n",
    "import numpy as np\n",
    "from classy import Class\n",
    "import pybird"
   ]
  },
  {
   "cell_type": "code",
   "execution_count": 3,
   "metadata": {},
   "outputs": [
    {
     "data": {
      "text/plain": [
       "True"
      ]
     },
     "execution_count": 3,
     "metadata": {},
     "output_type": "execute_result"
    }
   ],
   "source": [
    "zpk = 0.9873\n",
    "\n",
    "M = Class()\n",
    "M.set({'ln10^{10}A_s': 3.064325065,\n",
    "       'n_s': 0.9667,\n",
    "       'h': 0.6774,\n",
    "       'omega_b': 0.02230,\n",
    "       'omega_cdm': 0.1188130,\n",
    "       'N_ur': 0.00641,\n",
    "       'N_ncdm': 3,\n",
    "       'm_ncdm': \"0.02, 0.02, 0.02\"\n",
    "      })\n",
    "\n",
    "M.set({'output': 'mPk',\n",
    "       'P_k_max_1/Mpc': 1.0,\n",
    "       'z_max_pk': zpk})"
   ]
  },
  {
   "cell_type": "code",
   "execution_count": null,
   "metadata": {},
   "outputs": [],
   "source": [
    "# k in h/Mpc\n",
    "kk = np.logspace(-5, 0, 200)\n",
    "\n",
    "# P(k) in (Mpc/h)**3\n",
    "Pk = [M.pk(ki*M.h(), zpk)*M.h()**3 for ki in kk]"
   ]
  },
  {
   "cell_type": "code",
   "execution_count": null,
   "metadata": {},
   "outputs": [],
   "source": []
  }
 ],
 "metadata": {
  "kernelspec": {
   "display_name": "Python 3",
   "language": "python",
   "name": "python3"
  },
  "language_info": {
   "codemirror_mode": {
    "name": "ipython",
    "version": 3
   },
   "file_extension": ".py",
   "mimetype": "text/x-python",
   "name": "python",
   "nbconvert_exporter": "python",
   "pygments_lexer": "ipython3",
   "version": "3.7.3"
  }
 },
 "nbformat": 4,
 "nbformat_minor": 2
}
