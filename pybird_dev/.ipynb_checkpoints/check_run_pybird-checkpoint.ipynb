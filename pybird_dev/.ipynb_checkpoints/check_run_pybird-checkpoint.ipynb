{
 "cells": [
  {
   "cell_type": "code",
   "execution_count": 1,
   "metadata": {},
   "outputs": [],
   "source": [
    "# Import relevant modules\n",
    "import matplotlib\n",
    "import matplotlib.pyplot as plt\n",
    "import numpy as np\n",
    "from classy import Class\n",
    "import pybird as pb"
   ]
  },
  {
   "cell_type": "markdown",
   "metadata": {},
   "source": [
    "Some aesthetic definitions for the plots"
   ]
  },
  {
   "cell_type": "code",
   "execution_count": 2,
   "metadata": {},
   "outputs": [],
   "source": [
    "font = {'size': 16, 'family': 'STIXGeneral'}\n",
    "axislabelfontsize='large'\n",
    "matplotlib.rc('font', **font)\n",
    "matplotlib.mathtext.rcParams['legend.fontsize']='medium'\n",
    "plt.rcParams[\"figure.figsize\"] = [8.0,6.0]"
   ]
  },
  {
   "cell_type": "markdown",
   "metadata": {},
   "source": [
    "## Linear power spectrum"
   ]
  },
  {
   "cell_type": "markdown",
   "metadata": {},
   "source": [
    "Instantiate a Class object, set parameters and compute"
   ]
  },
  {
   "cell_type": "code",
   "execution_count": 3,
   "metadata": {},
   "outputs": [],
   "source": [
    "zpk = 0.6\n",
    "\n",
    "M = Class()\n",
    "\n",
    "\n",
    "cosmo = {'ln10^{10}A_s': 3.044,\n",
    "       'n_s': 0.9649,\n",
    "       'h': 0.6736,\n",
    "       'omega_b': 0.02237,\n",
    "       'omega_cdm': 0.120,\n",
    "      }\n",
    "\n",
    "M.set(cosmo)\n",
    "\n",
    "M.set({'output': 'mPk',\n",
    "       'P_k_max_1/Mpc': 1.0,\n",
    "       'z_max_pk': zpk})\n",
    "\n",
    "M.compute()"
   ]
  },
  {
   "cell_type": "markdown",
   "metadata": {},
   "source": [
    "Get the linear power spectrum at redshift zpk, and plot it"
   ]
  },
  {
   "cell_type": "code",
   "execution_count": 4,
   "metadata": {},
   "outputs": [],
   "source": [
    "# k in h/Mpc\n",
    "kk = np.logspace(-5, 0, 200)\n",
    "\n",
    "# P(k) in (Mpc/h)**3\n",
    "Pk = [M.pk(ki*M.h(), zpk)*M.h()**3 for ki in kk]"
   ]
  },
  {
   "cell_type": "code",
   "execution_count": 5,
   "metadata": {},
   "outputs": [
    {
     "data": {
      "image/png": "[encoded data removed]",
      "text/plain": [
       "<Figure size 576x432 with 1 Axes>"
      ]
     },
     "metadata": {
      "needs_background": "light"
     },
     "output_type": "display_data"
    }
   ],
   "source": [
    "plt.figure()\n",
    "\n",
    "plt.plot(kk, Pk, 'C0-')\n",
    "\n",
    "plt.xscale('log')\n",
    "plt.yscale('log')\n",
    "\n",
    "plt.xlim(kk[0], kk[-1])\n",
    "\n",
    "plt.xlabel(r'$k \\, [h/\\mathrm{Mpc}]$')\n",
    "plt.ylabel(r'$P(k) \\, [\\mathrm{Mpc}/h]^3$')\n",
    "\n",
    "plt.show()"
   ]
  },
  {
   "cell_type": "markdown",
   "metadata": {},
   "source": [
    "## Loading PyBird"
   ]
  },
  {
   "cell_type": "markdown",
   "metadata": {},
   "source": [
    "Define a vector with the bias parameters bs = [b1, b2, b3, b4, cct, cr1, cr2]"
   ]
  },
  {
   "cell_type": "code",
   "execution_count": 31,
   "metadata": {},
   "outputs": [],
   "source": [
    "bs = [2., 0.8, 0.2, 0.8, 0.2, -4., 0]\n",
    "bdict = { \"b1\": bs[0], \"b2\": bs[1], \"b3\": bs[2], \"b4\": bs[3], \"cct\": bs[4], \"cr1\": bs[5], \"cr2\": bs[6] }\n",
    "bdict = { \"b1\": bs[0], \"b2\": bs[1], \"b3\": bs[2], \"b4\": bs[3], \"cct\": bs[4], \"cr1\": bs[5] }"
   ]
  },
  {
   "cell_type": "markdown",
   "metadata": {},
   "source": [
    "Define an object of the class Common, with settings for the pybird objects. \n",
    "\n",
    "In particular, choose the kmax (in h/Mpc) up to which to compute the nonlinear power spectrum and the number of multipoles Nl (2 or 3) to evaluate."
   ]
  },
  {
   "cell_type": "code",
   "execution_count": 32,
   "metadata": {},
   "outputs": [],
   "source": [
    "kmax = 0.3\n",
    "common = pb.Common(Nl=2, kmax=kmax, optiresum=True)"
   ]
  },
  {
   "cell_type": "markdown",
   "metadata": {},
   "source": [
    "Instantiate the class that calculates the nonlinear power spectrum.\n",
    "It will load precomputed FFTLog matrices if they are in the folder, otherwise it will compute new ones."
   ]
  },
  {
   "cell_type": "code",
   "execution_count": 33,
   "metadata": {},
   "outputs": [],
   "source": [
    "from time import time"
   ]
  },
  {
   "cell_type": "code",
   "execution_count": 34,
   "metadata": {},
   "outputs": [
    {
     "name": "stdout",
     "output_type": "stream",
     "text": [
      "0.19290709495544434\n"
     ]
    }
   ],
   "source": [
    "time1 = time()\n",
    "nonlinear = pb.NonLinear(load=True, save=True, co=common)\n",
    "print(time() - time1)"
   ]
  },
  {
   "cell_type": "markdown",
   "metadata": {},
   "source": [
    "Instantiate the class that calculates the resummed power spectrum"
   ]
  },
  {
   "cell_type": "code",
   "execution_count": 35,
   "metadata": {},
   "outputs": [],
   "source": [
    "resum = pb.Resum(co=common)"
   ]
  },
  {
   "cell_type": "markdown",
   "metadata": {},
   "source": [
    "Finally, instantiate the class that applies the Alcock-Paczynski (AP) effect, the window function, the fiber collisions, and interpolate on the data kbins"
   ]
  },
  {
   "cell_type": "code",
   "execution_count": 36,
   "metadata": {},
   "outputs": [],
   "source": [
    "kdata = np.linspace(0.005, 0.25, 50)\n",
    "Om_AP = 0.31\n",
    "z_AP = zpk"
   ]
  },
  {
   "cell_type": "code",
   "execution_count": 37,
   "metadata": {},
   "outputs": [],
   "source": [
    "projection = pb.Projection(kdata, Om_AP, z_AP, co=common)"
   ]
  },
  {
   "cell_type": "markdown",
   "metadata": {},
   "source": [
    "## Nonlinear power spectrum"
   ]
  },
  {
   "cell_type": "markdown",
   "metadata": {},
   "source": [
    "Now instantiate the main class"
   ]
  },
  {
   "cell_type": "code",
   "execution_count": 38,
   "metadata": {},
   "outputs": [],
   "source": [
    "DA = M.angular_distance(zpk) * M.Hubble(0.)\n",
    "H = M.Hubble(zpk) / M.Hubble(0.)\n",
    "f = M.scale_independent_growth_factor_f(zpk)\n",
    "\n",
    "cosmobird = { \"k11\": kk, \"P11\": Pk, \"f\": f, \"DA\": DA, \"H\": H }\n",
    "\n",
    "bird = pb.Bird(cosmobird, with_bias=True, co=common)"
   ]
  },
  {
   "cell_type": "markdown",
   "metadata": {},
   "source": [
    "Call the routine to get the power spectrum (and correlation function), and compute it in the bird object. The correlation function is useful for the IR-resummation."
   ]
  },
  {
   "cell_type": "code",
   "execution_count": 39,
   "metadata": {},
   "outputs": [
    {
     "name": "stdout",
     "output_type": "stream",
     "text": [
      "0.15923404693603516\n"
     ]
    }
   ],
   "source": [
    "time1 = time()\n",
    "nonlinear.PsCf(bird)\n",
    "bird.setPsCf(bdict)\n",
    "print(time()-time1)\n",
    "\n",
    "noresumPs = np.copy(bird.fullPs)"
   ]
  },
  {
   "cell_type": "markdown",
   "metadata": {},
   "source": [
    "Compute the resummed power spectrum"
   ]
  },
  {
   "cell_type": "code",
   "execution_count": 40,
   "metadata": {},
   "outputs": [
    {
     "name": "stdout",
     "output_type": "stream",
     "text": [
      "0.2923150062561035\n"
     ]
    }
   ],
   "source": [
    "time1 = time()\n",
    "resum.Ps(bird)\n",
    "print(time() - time1)\n",
    "\n",
    "resumPs = np.copy(bird.fullPs)"
   ]
  },
  {
   "cell_type": "code",
   "execution_count": 41,
   "metadata": {},
   "outputs": [
    {
     "data": {
      "image/png": "[encoded data removed]",
      "text/plain": [
       "<Figure size 576x432 with 1 Axes>"
      ]
     },
     "metadata": {
      "needs_background": "light"
     },
     "output_type": "display_data"
    }
   ],
   "source": [
    "plt.figure()\n",
    "\n",
    "plt.plot(common.k, common.k * noresumPs[0], 'C0-', label = 'mono noresum')\n",
    "plt.plot(common.k, common.k * noresumPs[1], 'C1-', label = 'quad noresum')\n",
    "\n",
    "plt.plot(common.k, common.k * resumPs[0], 'c-', label = 'mono resum')\n",
    "plt.plot(common.k, common.k * resumPs[1], 'y-', label = 'quad resum')\n",
    "\n",
    "plt.xlim(0.005, 0.25)\n",
    "\n",
    "plt.xlabel(r'$k \\, [h/\\mathrm{Mpc}]$')\n",
    "plt.ylabel(r'$k P_l(k) \\, [\\mathrm{Mpc}/h]^3$')\n",
    "\n",
    "plt.show()"
   ]
  },
  {
   "cell_type": "code",
   "execution_count": 42,
   "metadata": {},
   "outputs": [
    {
     "data": {
      "image/png": "[encoded data removed]",
      "text/plain": [
       "<Figure size 576x432 with 1 Axes>"
      ]
     },
     "metadata": {
      "needs_background": "light"
     },
     "output_type": "display_data"
    }
   ],
   "source": [
    "plt.figure()\n",
    "\n",
    "plt.plot(common.k, resumPs[0]/noresumPs[0], 'C0-', label = 'mono')\n",
    "plt.plot(common.k, resumPs[1]/noresumPs[1], 'C1-', label = 'quad')\n",
    "\n",
    "plt.xlim(0.005, 0.25)\n",
    "plt.ylim(0.94, 1.06)\n",
    "\n",
    "plt.xlabel(r'$k \\, [h/\\mathrm{Mpc}]$')\n",
    "plt.ylabel(r'$P_{\\rm resum}(k)/P_{\\rm resum}(k)$')\n",
    "\n",
    "plt.show()"
   ]
  },
  {
   "cell_type": "markdown",
   "metadata": {},
   "source": [
    "### New interface"
   ]
  },
  {
   "cell_type": "code",
   "execution_count": 21,
   "metadata": {},
   "outputs": [
    {
     "ename": "Exception",
     "evalue": "Please specify a dict of 6 biases: \\{ 'b1', 'b2', 'b3', 'b4', 'cct', 'cr1' \\}. ",
     "output_type": "error",
     "traceback": [
      "\u001b[0;31m---------------------------------------------------------------------------\u001b[0m",
      "\u001b[0;31mException\u001b[0m                                 Traceback (most recent call last)",
      "\u001b[0;32m<ipython-input-21-5b1e1e76a99f>\u001b[0m in \u001b[0;36m<module>\u001b[0;34m\u001b[0m\n\u001b[1;32m     20\u001b[0m })\n\u001b[1;32m     21\u001b[0m \u001b[0;34m\u001b[0m\u001b[0m\n\u001b[0;32m---> 22\u001b[0;31m \u001b[0mnewpk\u001b[0m \u001b[0;34m=\u001b[0m \u001b[0mcorrelator\u001b[0m\u001b[0;34m.\u001b[0m\u001b[0mget\u001b[0m\u001b[0;34m(\u001b[0m\u001b[0;34m)\u001b[0m\u001b[0;34m\u001b[0m\u001b[0;34m\u001b[0m\u001b[0m\n\u001b[0m",
      "\u001b[0;32m~/Documents/github/pybird/pybird_dev/pybird.py\u001b[0m in \u001b[0;36mget\u001b[0;34m(self, bias)\u001b[0m\n\u001b[1;32m    382\u001b[0m \u001b[0;34m\u001b[0m\u001b[0m\n\u001b[1;32m    383\u001b[0m             \u001b[0;32mif\u001b[0m \u001b[0;32mnot\u001b[0m \u001b[0mself\u001b[0m\u001b[0;34m.\u001b[0m\u001b[0mconfig\u001b[0m\u001b[0;34m[\u001b[0m\u001b[0;34m\"with_bias\"\u001b[0m\u001b[0;34m]\u001b[0m\u001b[0;34m:\u001b[0m\u001b[0;34m\u001b[0m\u001b[0;34m\u001b[0m\u001b[0m\n\u001b[0;32m--> 384\u001b[0;31m                 \u001b[0mself\u001b[0m\u001b[0;34m.\u001b[0m\u001b[0m__is_bias_conflict\u001b[0m\u001b[0;34m(\u001b[0m\u001b[0mbias\u001b[0m\u001b[0;34m)\u001b[0m\u001b[0;34m\u001b[0m\u001b[0;34m\u001b[0m\u001b[0m\n\u001b[0m\u001b[1;32m    385\u001b[0m                 \u001b[0;32mif\u001b[0m \u001b[0;34m\"Pk\"\u001b[0m \u001b[0;32min\u001b[0m \u001b[0mself\u001b[0m\u001b[0;34m.\u001b[0m\u001b[0mconfig\u001b[0m\u001b[0;34m[\u001b[0m\u001b[0;34m\"output\"\u001b[0m\u001b[0;34m]\u001b[0m\u001b[0;34m:\u001b[0m \u001b[0mself\u001b[0m\u001b[0;34m.\u001b[0m\u001b[0mbird\u001b[0m\u001b[0;34m.\u001b[0m\u001b[0msetreducePslb\u001b[0m\u001b[0;34m(\u001b[0m\u001b[0mself\u001b[0m\u001b[0;34m.\u001b[0m\u001b[0mbias\u001b[0m\u001b[0;34m)\u001b[0m\u001b[0;34m\u001b[0m\u001b[0;34m\u001b[0m\u001b[0m\n\u001b[1;32m    386\u001b[0m                 \u001b[0;32melif\u001b[0m \u001b[0;34m\"Cf\"\u001b[0m \u001b[0;32min\u001b[0m \u001b[0mself\u001b[0m\u001b[0;34m.\u001b[0m\u001b[0mconfig\u001b[0m\u001b[0;34m[\u001b[0m\u001b[0;34m\"output\"\u001b[0m\u001b[0;34m]\u001b[0m\u001b[0;34m:\u001b[0m \u001b[0mself\u001b[0m\u001b[0;34m.\u001b[0m\u001b[0mbird\u001b[0m\u001b[0;34m.\u001b[0m\u001b[0msetreduceCflb\u001b[0m\u001b[0;34m(\u001b[0m\u001b[0mself\u001b[0m\u001b[0;34m.\u001b[0m\u001b[0mbias\u001b[0m\u001b[0;34m)\u001b[0m\u001b[0;34m\u001b[0m\u001b[0;34m\u001b[0m\u001b[0m\n",
      "\u001b[0;32m~/Documents/github/pybird/pybird_dev/pybird.py\u001b[0m in \u001b[0;36m__is_bias_conflict\u001b[0;34m(self, bias)\u001b[0m\n\u001b[1;32m    620\u001b[0m                     \u001b[0;32melse\u001b[0m\u001b[0;34m:\u001b[0m \u001b[0mself\u001b[0m\u001b[0;34m.\u001b[0m\u001b[0mbias\u001b[0m \u001b[0;34m=\u001b[0m \u001b[0;34m{\u001b[0m \u001b[0;34m\"b1\"\u001b[0m\u001b[0;34m:\u001b[0m \u001b[0mself\u001b[0m\u001b[0;34m.\u001b[0m\u001b[0mcosmo\u001b[0m\u001b[0;34m[\u001b[0m\u001b[0;34m\"bias\"\u001b[0m\u001b[0;34m]\u001b[0m\u001b[0;34m[\u001b[0m\u001b[0;34m\"b1\"\u001b[0m\u001b[0;34m]\u001b[0m\u001b[0;34m,\u001b[0m \u001b[0;34m\"b2\"\u001b[0m\u001b[0;34m:\u001b[0m \u001b[0mself\u001b[0m\u001b[0;34m.\u001b[0m\u001b[0mcosmo\u001b[0m\u001b[0;34m[\u001b[0m\u001b[0;34m\"bias\"\u001b[0m\u001b[0;34m]\u001b[0m\u001b[0;34m[\u001b[0m\u001b[0;34m\"b2\"\u001b[0m\u001b[0;34m]\u001b[0m\u001b[0;34m,\u001b[0m \u001b[0;34m\"b3\"\u001b[0m\u001b[0;34m:\u001b[0m \u001b[0mself\u001b[0m\u001b[0;34m.\u001b[0m\u001b[0mcosmo\u001b[0m\u001b[0;34m[\u001b[0m\u001b[0;34m\"bias\"\u001b[0m\u001b[0;34m]\u001b[0m\u001b[0;34m[\u001b[0m\u001b[0;34m\"b3\"\u001b[0m\u001b[0;34m]\u001b[0m\u001b[0;34m,\u001b[0m \u001b[0;34m\"b4\"\u001b[0m\u001b[0;34m:\u001b[0m \u001b[0mself\u001b[0m\u001b[0;34m.\u001b[0m\u001b[0mcosmo\u001b[0m\u001b[0;34m[\u001b[0m\u001b[0;34m\"bias\"\u001b[0m\u001b[0;34m]\u001b[0m\u001b[0;34m[\u001b[0m\u001b[0;34m\"b4\"\u001b[0m\u001b[0;34m]\u001b[0m\u001b[0;34m,\u001b[0m \u001b[0;34m\"cct\"\u001b[0m\u001b[0;34m:\u001b[0m \u001b[0mself\u001b[0m\u001b[0;34m.\u001b[0m\u001b[0mcosmo\u001b[0m\u001b[0;34m[\u001b[0m\u001b[0;34m\"bias\"\u001b[0m\u001b[0;34m]\u001b[0m\u001b[0;34m[\u001b[0m\u001b[0;34m\"cct\"\u001b[0m\u001b[0;34m]\u001b[0m\u001b[0;34m,\u001b[0m \u001b[0;34m\"cr1\"\u001b[0m\u001b[0;34m:\u001b[0m \u001b[0;36m0.\u001b[0m\u001b[0;34m,\u001b[0m \u001b[0;34m\"cr2\"\u001b[0m\u001b[0;34m:\u001b[0m \u001b[0;36m0.\u001b[0m\u001b[0;34m,\u001b[0m \u001b[0;34m\"ce0\"\u001b[0m\u001b[0;34m:\u001b[0m \u001b[0;36m0.\u001b[0m\u001b[0;34m,\u001b[0m \u001b[0;34m\"ce1\"\u001b[0m\u001b[0;34m:\u001b[0m \u001b[0;36m0.\u001b[0m\u001b[0;34m,\u001b[0m \u001b[0;34m\"ce2\"\u001b[0m\u001b[0;34m:\u001b[0m \u001b[0;36m0.\u001b[0m \u001b[0;34m}\u001b[0m\u001b[0;34m\u001b[0m\u001b[0;34m\u001b[0m\u001b[0m\n\u001b[1;32m    621\u001b[0m                 \u001b[0;32melif\u001b[0m \u001b[0mself\u001b[0m\u001b[0;34m.\u001b[0m\u001b[0mconfig\u001b[0m\u001b[0;34m[\u001b[0m\u001b[0;34m\"multipole\"\u001b[0m\u001b[0;34m]\u001b[0m \u001b[0;34m==\u001b[0m \u001b[0;36m2\u001b[0m\u001b[0;34m:\u001b[0m\u001b[0;34m\u001b[0m\u001b[0;34m\u001b[0m\u001b[0m\n\u001b[0;32m--> 622\u001b[0;31m                     \u001b[0;32mif\u001b[0m \u001b[0mlen\u001b[0m\u001b[0;34m(\u001b[0m\u001b[0mself\u001b[0m\u001b[0;34m.\u001b[0m\u001b[0mcosmo\u001b[0m\u001b[0;34m[\u001b[0m\u001b[0;34m\"bias\"\u001b[0m\u001b[0;34m]\u001b[0m\u001b[0;34m)\u001b[0m \u001b[0;32mis\u001b[0m \u001b[0;32mnot\u001b[0m \u001b[0;36m6\u001b[0m\u001b[0;34m:\u001b[0m \u001b[0;32mraise\u001b[0m \u001b[0mException\u001b[0m\u001b[0;34m(\u001b[0m\u001b[0;34m\"Please specify a dict of 6 biases: \\{ \\'b1\\', \\'b2\\', \\'b3\\', \\'b4\\', \\'cct\\', \\'cr1\\' \\}. \"\u001b[0m\u001b[0;34m)\u001b[0m\u001b[0;34m\u001b[0m\u001b[0;34m\u001b[0m\u001b[0m\n\u001b[0m\u001b[1;32m    623\u001b[0m                     \u001b[0;32melse\u001b[0m\u001b[0;34m:\u001b[0m \u001b[0mself\u001b[0m\u001b[0;34m.\u001b[0m\u001b[0mbias\u001b[0m \u001b[0;34m=\u001b[0m \u001b[0;34m{\u001b[0m \u001b[0;34m\"b1\"\u001b[0m\u001b[0;34m:\u001b[0m \u001b[0mself\u001b[0m\u001b[0;34m.\u001b[0m\u001b[0mcosmo\u001b[0m\u001b[0;34m[\u001b[0m\u001b[0;34m\"bias\"\u001b[0m\u001b[0;34m]\u001b[0m\u001b[0;34m[\u001b[0m\u001b[0;34m\"b1\"\u001b[0m\u001b[0;34m]\u001b[0m\u001b[0;34m,\u001b[0m \u001b[0;34m\"b2\"\u001b[0m\u001b[0;34m:\u001b[0m \u001b[0mself\u001b[0m\u001b[0;34m.\u001b[0m\u001b[0mcosmo\u001b[0m\u001b[0;34m[\u001b[0m\u001b[0;34m\"bias\"\u001b[0m\u001b[0;34m]\u001b[0m\u001b[0;34m[\u001b[0m\u001b[0;34m\"b2\"\u001b[0m\u001b[0;34m]\u001b[0m\u001b[0;34m,\u001b[0m \u001b[0;34m\"b3\"\u001b[0m\u001b[0;34m:\u001b[0m \u001b[0mself\u001b[0m\u001b[0;34m.\u001b[0m\u001b[0mcosmo\u001b[0m\u001b[0;34m[\u001b[0m\u001b[0;34m\"bias\"\u001b[0m\u001b[0;34m]\u001b[0m\u001b[0;34m[\u001b[0m\u001b[0;34m\"b3\"\u001b[0m\u001b[0;34m]\u001b[0m\u001b[0;34m,\u001b[0m \u001b[0;34m\"b4\"\u001b[0m\u001b[0;34m:\u001b[0m \u001b[0mself\u001b[0m\u001b[0;34m.\u001b[0m\u001b[0mcosmo\u001b[0m\u001b[0;34m[\u001b[0m\u001b[0;34m\"bias\"\u001b[0m\u001b[0;34m]\u001b[0m\u001b[0;34m[\u001b[0m\u001b[0;34m\"b4\"\u001b[0m\u001b[0;34m]\u001b[0m\u001b[0;34m,\u001b[0m \u001b[0;34m\"cct\"\u001b[0m\u001b[0;34m:\u001b[0m \u001b[0mself\u001b[0m\u001b[0;34m.\u001b[0m\u001b[0mcosmo\u001b[0m\u001b[0;34m[\u001b[0m\u001b[0;34m\"bias\"\u001b[0m\u001b[0;34m]\u001b[0m\u001b[0;34m[\u001b[0m\u001b[0;34m\"cct\"\u001b[0m\u001b[0;34m]\u001b[0m\u001b[0;34m,\u001b[0m \u001b[0;34m\"cr1\"\u001b[0m\u001b[0;34m:\u001b[0m \u001b[0mself\u001b[0m\u001b[0;34m.\u001b[0m\u001b[0mcosmo\u001b[0m\u001b[0;34m[\u001b[0m\u001b[0;34m\"bias\"\u001b[0m\u001b[0;34m]\u001b[0m\u001b[0;34m[\u001b[0m\u001b[0;34m\"cr1\"\u001b[0m\u001b[0;34m]\u001b[0m\u001b[0;34m,\u001b[0m \u001b[0;34m\"cr2\"\u001b[0m\u001b[0;34m:\u001b[0m \u001b[0;36m0.\u001b[0m\u001b[0;34m,\u001b[0m \u001b[0;34m\"ce0\"\u001b[0m\u001b[0;34m:\u001b[0m \u001b[0;36m0.\u001b[0m\u001b[0;34m,\u001b[0m \u001b[0;34m\"ce1\"\u001b[0m\u001b[0;34m:\u001b[0m \u001b[0;36m0.\u001b[0m\u001b[0;34m,\u001b[0m \u001b[0;34m\"ce2\"\u001b[0m\u001b[0;34m:\u001b[0m \u001b[0;36m0.\u001b[0m \u001b[0;34m}\u001b[0m\u001b[0;34m\u001b[0m\u001b[0;34m\u001b[0m\u001b[0m\n\u001b[1;32m    624\u001b[0m                 \u001b[0;32melif\u001b[0m \u001b[0mself\u001b[0m\u001b[0;34m.\u001b[0m\u001b[0mconfig\u001b[0m\u001b[0;34m[\u001b[0m\u001b[0;34m\"multipole\"\u001b[0m\u001b[0;34m]\u001b[0m \u001b[0;34m==\u001b[0m \u001b[0;36m3\u001b[0m\u001b[0;34m:\u001b[0m\u001b[0;34m\u001b[0m\u001b[0;34m\u001b[0m\u001b[0m\n",
      "\u001b[0;31mException\u001b[0m: Please specify a dict of 6 biases: \\{ 'b1', 'b2', 'b3', 'b4', 'cct', 'cr1' \\}. "
     ]
    }
   ],
   "source": [
    "import pybird\n",
    "from importlib import reload\n",
    "reload(pybird)\n",
    "\n",
    "correlator = pybird.Correlator()\n",
    "\n",
    "correlator.set({\n",
    "    'output': 'bPk',\n",
    "    'xdata': common.k,\n",
    "    'z': zpk,\n",
    "    'optiresum': True,\n",
    "    'kmax': 0.31,\n",
    "})\n",
    "\n",
    "correlator.compute({\n",
    "    'k11': kk,\n",
    "    'P11': Pk,\n",
    "    'f': f,\n",
    "    'bias': bdict\n",
    "})\n",
    "\n",
    "newpk = correlator.get()\n"
   ]
  },
  {
   "cell_type": "code",
   "execution_count": null,
   "metadata": {},
   "outputs": [],
   "source": [
    "plt.figure()\n",
    "\n",
    "plt.plot(common.k, resumPs[0]/newpk[0], 'C0-', label = 'mono')\n",
    "plt.plot(common.k, resumPs[1]/newpk[1], 'C1-', label = 'quad')\n",
    "\n",
    "plt.xlim(0.005, 0.25)\n",
    "\n",
    "plt.xlabel(r'$k \\, [h/\\mathrm{Mpc}]$')\n",
    "plt.ylabel(r'$P_{\\rm old}(k)/P_{\\rm new}(k)$')\n",
    "plt.ylim(1-.001, 1+.001)\n",
    "\n",
    "plt.show()"
   ]
  },
  {
   "cell_type": "code",
   "execution_count": null,
   "metadata": {},
   "outputs": [],
   "source": [
    "#correlator.info()"
   ]
  },
  {
   "cell_type": "markdown",
   "metadata": {},
   "source": [
    "## Nonlinear power spectrum II: unspecified EFT parameters"
   ]
  },
  {
   "cell_type": "markdown",
   "metadata": {},
   "source": [
    "The power spectrum can also be computed without specifying the EFT parameters. This is interesting for subsampling them or to marginalize over the ones that appear only linearly in the power spectrum."
   ]
  },
  {
   "cell_type": "code",
   "execution_count": null,
   "metadata": {},
   "outputs": [],
   "source": [
    "time1 = time()\n",
    "raven = pb.Bird(kk, Pk, f, DA, H, zpk, which='all', co=common)\n",
    "nonlinear.PsCf(raven)\n",
    "raven.setPsCfl()\n",
    "resum.Ps(raven)\n",
    "print(time() - time1)"
   ]
  },
  {
   "cell_type": "markdown",
   "metadata": {},
   "source": [
    "The terms are given as follow:"
   ]
  },
  {
   "cell_type": "code",
   "execution_count": null,
   "metadata": {},
   "outputs": [],
   "source": [
    "b1, b2, b3, b4, b5, b6, b7 = bs\n",
    "f = raven.f\n",
    "b11 = np.array([ b1**2, 2.*b1*f, f**2 ])\n",
    "bct = np.array([ 2.*b1*b5, 2.*b1*b6, 2.*b1*b7, 2.*f*b5, 2.*f*b6, 2.*f*b7 ])\n",
    "bloop = np.array([ 1., b1, b2, b3, b4, b1*b1, b1*b2, b1*b3, b1*b4, b2*b2, b2*b4, b4*b4 ])\n",
    "lin = np.einsum('b,lbx->lx', b11, raven.P11l)\n",
    "loop = np.einsum('b,lbx->lx', bloop, raven.Ploopl) \n",
    "counterterm = np.einsum('b,lbx->lx', bct, raven.Pctl)\n",
    "ravenPs = lin + loop + counterterm"
   ]
  },
  {
   "cell_type": "markdown",
   "metadata": {},
   "source": [
    "The above is equivalent to the building function:"
   ]
  },
  {
   "cell_type": "code",
   "execution_count": null,
   "metadata": {},
   "outputs": [],
   "source": [
    "raven.setreducePslb(bs)"
   ]
  },
  {
   "cell_type": "code",
   "execution_count": null,
   "metadata": {},
   "outputs": [],
   "source": [
    "plt.figure()\n",
    "\n",
    "plt.plot(common.k, raven.fullPs[0]/bird.fullPs[0], 'C0', label = 'mono')\n",
    "plt.plot(common.k, raven.fullPs[1]/bird.fullPs[1], 'C1', label = 'quad')\n",
    "\n",
    "plt.xlim(0.005, 0.25)\n",
    "plt.ylim(1-.001, 1+.001)\n",
    "\n",
    "plt.xlabel(r'$k \\, [h/\\mathrm{Mpc}]$')\n",
    "plt.ylabel(r'$ P_{\\rm raven}(k) / P_{\\rm bird}(k)3$')\n",
    "\n",
    "plt.show()"
   ]
  },
  {
   "cell_type": "markdown",
   "metadata": {},
   "source": [
    "Here are plotted various contributions to the power spectrum:"
   ]
  },
  {
   "cell_type": "code",
   "execution_count": null,
   "metadata": {},
   "outputs": [],
   "source": [
    "plt.figure()\n",
    "\n",
    "plt.loglog(common.k, ravenPs[0], 'C0', label = 'mono')\n",
    "plt.loglog(common.k, ravenPs[1], 'C1', label = 'quad')\n",
    "\n",
    "plt.loglog(common.k, lin[0], 'C0--', label = 'mono lin')\n",
    "plt.loglog(common.k, lin[1], 'C1--', label = 'quad lin')\n",
    "\n",
    "plt.loglog(common.k, np.abs(loop[0]+counterterm[0]), 'C0:', label = 'mono loop')\n",
    "plt.loglog(common.k, np.abs(loop[1]+counterterm[1]), 'C1:', label = 'quad loop')\n",
    "\n",
    "plt.xlim(0.005, 0.25)\n",
    "plt.ylim(10, 1e5)\n",
    "\n",
    "plt.xlabel(r'$k \\, [h/\\mathrm{Mpc}]$')\n",
    "plt.ylabel(r'$P_l(k) \\, [\\mathrm{Mpc}/h]^3$')\n",
    "\n",
    "plt.legend(loc='lower left')\n",
    "\n",
    "plt.show()"
   ]
  },
  {
   "cell_type": "markdown",
   "metadata": {},
   "source": [
    "### New interface"
   ]
  },
  {
   "cell_type": "code",
   "execution_count": null,
   "metadata": {},
   "outputs": [],
   "source": [
    "import pybird\n",
    "from importlib import reload\n",
    "reload(pybird)\n",
    "\n",
    "correlator = pybird.Correlator()\n",
    "\n",
    "bdict = { \"b1\": bs[0], \"b2\": bs[1], \"b3\": bs[2], \"b4\": bs[3], \"cct\": bs[4], \"cr1\": bs[5] }\n",
    "\n",
    "correlator.set({\n",
    "    'output': 'bPk',\n",
    "    'xdata': common.k,\n",
    "    'z': zpk,\n",
    "    'optiresum': True,\n",
    "    'kmax': 0.31,\n",
    "    'with_bias': False\n",
    "})\n",
    "\n",
    "correlator.compute({\n",
    "    'k11': kk,\n",
    "    'P11': Pk,\n",
    "    'f': f,\n",
    "})\n",
    "\n",
    "newpk = correlator.get(bdict)"
   ]
  },
  {
   "cell_type": "code",
   "execution_count": null,
   "metadata": {},
   "outputs": [],
   "source": [
    "plt.figure()\n",
    "\n",
    "plt.plot(common.k, raven.fullPs[0]/newpk[0], 'C0-', label = 'mono')\n",
    "plt.plot(common.k, raven.fullPs[1]/newpk[1], 'C1-', label = 'quad')\n",
    "\n",
    "plt.xlim(0.005, 0.25)\n",
    "plt.xlabel(r'$k \\, [h/\\mathrm{Mpc}]$')\n",
    "plt.ylabel(r'$P_{\\rm old}(k)/P_{\\rm new}(k)$')\n",
    "plt.ylim(1-.001, 1+.001)\n",
    "\n",
    "plt.show()"
   ]
  },
  {
   "cell_type": "markdown",
   "metadata": {},
   "source": [
    "## Projection on the sky I"
   ]
  },
  {
   "cell_type": "markdown",
   "metadata": {},
   "source": [
    "Finally, set the AP effect and interpolate on the k-array of the data"
   ]
  },
  {
   "cell_type": "code",
   "execution_count": null,
   "metadata": {},
   "outputs": [],
   "source": [
    "projection.AP(bird)\n",
    "projection.kdata(bird)"
   ]
  },
  {
   "cell_type": "code",
   "execution_count": null,
   "metadata": {},
   "outputs": [],
   "source": [
    "plt.figure()\n",
    "\n",
    "plt.plot(kdata, kdata * bird.fullPs[0], 'C0.', label = 'mono')\n",
    "plt.plot(kdata, kdata * bird.fullPs[1], 'C1.', label = 'quad')\n",
    "\n",
    "plt.xlim(0.005, 0.25)\n",
    "\n",
    "plt.xlabel(r'$k \\, [h/\\mathrm{Mpc}]$')\n",
    "plt.ylabel(r'$k P_l(k) \\, [\\mathrm{Mpc}/h]^3$')\n",
    "\n",
    "plt.show()"
   ]
  },
  {
   "cell_type": "markdown",
   "metadata": {},
   "source": [
    "### New interface"
   ]
  },
  {
   "cell_type": "code",
   "execution_count": null,
   "metadata": {},
   "outputs": [],
   "source": [
    "import pybird\n",
    "from importlib import reload\n",
    "reload(pybird)\n",
    "\n",
    "correlator = pybird.Correlator()\n",
    "\n",
    "bdict = { \"b1\": bs[0], \"b2\": bs[1], \"b3\": bs[2], \"b4\": bs[3], \"cct\": bs[4], \"cr1\": bs[5] }\n",
    "\n",
    "correlator.set({\n",
    "    'output': 'bPk',\n",
    "    'xdata': kdata,\n",
    "    'z': zpk,\n",
    "    'optiresum': True,\n",
    "    'kmax': 0.31,\n",
    "    'with_AP': True,\n",
    "    'z_AP': z_AP,\n",
    "    'Omega_m_AP': Om_AP\n",
    "})\n",
    "\n",
    "correlator.compute({\n",
    "    'k11': kk,\n",
    "    'P11': Pk,\n",
    "    'f': f,\n",
    "    'bias': bdict,\n",
    "    'DA': DA,\n",
    "    'H': H\n",
    "})\n",
    "\n",
    "newpk = correlator.get()"
   ]
  },
  {
   "cell_type": "code",
   "execution_count": null,
   "metadata": {},
   "outputs": [],
   "source": [
    "plt.figure()\n",
    "\n",
    "plt.plot(kdata, bird.fullPs[0]/newpk[0], 'C0-', label = 'mono')\n",
    "plt.plot(kdata, bird.fullPs[1]/newpk[1], 'C1-', label = 'quad')\n",
    "\n",
    "plt.xlim(0.005, 0.25)\n",
    "plt.xlabel(r'$k \\, [h/\\mathrm{Mpc}]$')\n",
    "plt.ylabel(r'$P_{\\rm old}(k)/P_{\\rm new}(k)$')\n",
    "plt.ylim(1-.001, 1+.001)\n",
    "\n",
    "plt.show()"
   ]
  },
  {
   "cell_type": "markdown",
   "metadata": {},
   "source": [
    "Let us apply the window function now as convolution in Fourier space. First we redefine the projection class to include the mask. It will load precomputed Fourier convolution mask if it is in the folder, otherwise it will compute a new one from a provided mask in configuration space."
   ]
  },
  {
   "cell_type": "code",
   "execution_count": null,
   "metadata": {},
   "outputs": [],
   "source": [
    "projection = pb.Projection(kdata, Om_AP, z_AP, co=common,\n",
    "    window_fourier_name='pynest_BOSS_CMASS_NGC_z057', \n",
    "    path_to_window='../montepython_tree/data/pybird/Window',\n",
    "    window_configspace_file='../montepython_tree/data/pybird/Window/window_BOSS_CMASS_NGC_z0p57.dat')"
   ]
  },
  {
   "cell_type": "markdown",
   "metadata": {},
   "source": [
    "Here is a masked bird"
   ]
  },
  {
   "cell_type": "code",
   "execution_count": null,
   "metadata": {},
   "outputs": [],
   "source": [
    "plover = pb.Bird(kk, Pk, f=f, DA=DA, H=H, z=zpk, which='full', co=common)\n",
    "nonlinear.PsCf(plover)\n",
    "plover.setPsCf(bs)\n",
    "resum.Ps(plover)\n",
    "projection.AP(plover)\n",
    "projection.Window(plover)\n",
    "projection.kdata(plover)"
   ]
  },
  {
   "cell_type": "code",
   "execution_count": null,
   "metadata": {},
   "outputs": [],
   "source": [
    "plt.plot(kdata, kdata*plover.fullPs[0], 'C0-')\n",
    "plt.plot(kdata, kdata*plover.fullPs[1], 'C1-')\n",
    "plt.plot(kdata, kdata*bird.fullPs[0], 'C0--')\n",
    "plt.plot(kdata, kdata*bird.fullPs[1], 'C1--')\n",
    "plt.xlim(0.005, 0.25)"
   ]
  },
  {
   "cell_type": "code",
   "execution_count": null,
   "metadata": {},
   "outputs": [],
   "source": [
    "plt.plot(kdata, plover.fullPs[0]/bird.fullPs[0], 'C0.')\n",
    "plt.plot(kdata, plover.fullPs[1]/bird.fullPs[1], 'C1.')\n",
    "plt.grid()\n",
    "plt.xlim(0.005, 0.25)\n",
    "plt.xscale('log')"
   ]
  },
  {
   "cell_type": "markdown",
   "metadata": {},
   "source": [
    "### New interface"
   ]
  },
  {
   "cell_type": "code",
   "execution_count": null,
   "metadata": {},
   "outputs": [],
   "source": [
    "import pybird\n",
    "from importlib import reload\n",
    "reload(pybird)\n",
    "\n",
    "correlator = pybird.Correlator()\n",
    "\n",
    "bdict = { \"b1\": bs[0], \"b2\": bs[1], \"b3\": bs[2], \"b4\": bs[3], \"cct\": bs[4], \"cr1\": bs[5] }\n",
    "\n",
    "correlator.set({\n",
    "    'output': 'bPk',\n",
    "    'xdata': kdata,\n",
    "    'z': zpk,\n",
    "    'optiresum': True,\n",
    "    'kmax': 0.3,\n",
    "    'with_AP': True,\n",
    "    'z_AP': z_AP,\n",
    "    'Omega_m_AP': Om_AP,\n",
    "    'with_window': True,\n",
    "    'windowPk': '../montepython_tree/data/pybird/Window/pynest_BOSS_CMASS_NGC_z057',\n",
    "    'windowCf': '../montepython_tree/data/pybird/Window/window_BOSS_CMASS_NGC_z0p57.dat'\n",
    "})\n",
    "\n",
    "correlator.compute({\n",
    "    'k11': kk,\n",
    "    'P11': Pk,\n",
    "    'f': f,\n",
    "    'bias': bdict,\n",
    "    'DA': DA,\n",
    "    'H': H\n",
    "})\n",
    "\n",
    "newpk = correlator.get()"
   ]
  },
  {
   "cell_type": "code",
   "execution_count": null,
   "metadata": {},
   "outputs": [],
   "source": [
    "plt.figure()\n",
    "\n",
    "plt.plot(kdata, plover.fullPs[0]/newpk[0], 'C0-', label = 'mono')\n",
    "plt.plot(kdata, plover.fullPs[1]/newpk[1], 'C1-', label = 'quad')\n",
    "\n",
    "plt.xlim(0.005, 0.25)\n",
    "plt.xlabel(r'$k \\, [h/\\mathrm{Mpc}]$')\n",
    "plt.ylabel(r'$P_{\\rm old}(k)/P_{\\rm new}(k)$')\n",
    "plt.ylim(1-.001, 1+.001)\n",
    "\n",
    "plt.show()"
   ]
  },
  {
   "cell_type": "markdown",
   "metadata": {},
   "source": [
    "## Hexadecapole"
   ]
  },
  {
   "cell_type": "markdown",
   "metadata": {},
   "source": [
    "PyBird can compute the hexadecapole. First we redefine the PyBird classes to include the hexadecapole. In particular, we set Nl=3 in the Common() class."
   ]
  },
  {
   "cell_type": "code",
   "execution_count": null,
   "metadata": {},
   "outputs": [],
   "source": [
    "commonhex = pb.Common(Nl=3, kmax=kmax, optiresum=True)\n",
    "nonlinear = pb.NonLinear(load=True, save=True, co=commonhex)\n",
    "resum = pb.Resum(co=commonhex)\n",
    "projection = pb.Projection(kdata, Om_AP, z_AP, co=commonhex,\n",
    "    window_fourier_name='pynest_BOSS_CMASS_NGC_z057', \n",
    "    path_to_window='../montepython_tree/data/pybird/Window',\n",
    "    window_configspace_file='../montepython_tree/data/pybird/Window/window_BOSS_CMASS_NGC_z0p57.dat')"
   ]
  },
  {
   "cell_type": "markdown",
   "metadata": {},
   "source": [
    "Here is the bird up to the hexadecapole"
   ]
  },
  {
   "cell_type": "code",
   "execution_count": null,
   "metadata": {},
   "outputs": [],
   "source": [
    "birdhex = pb.Bird(kk, Pk, f=f, DA=DA, H=H, z=zpk, which='full', co=commonhex)\n",
    "nonlinear.PsCf(birdhex)\n",
    "birdhex.setPsCf(bs)\n",
    "resum.Ps(birdhex)\n",
    "projection.AP(birdhex)\n",
    "projection.Window(birdhex)\n",
    "projection.kdata(birdhex)"
   ]
  },
  {
   "cell_type": "code",
   "execution_count": null,
   "metadata": {},
   "outputs": [],
   "source": [
    "plt.plot(kdata, kdata*birdhex.fullPs[0], 'C0.')\n",
    "plt.plot(kdata, kdata*birdhex.fullPs[1], 'C1.')\n",
    "plt.plot(kdata, kdata*birdhex.fullPs[2], 'C3.')\n",
    "plt.xlim(0.005, 0.25)"
   ]
  },
  {
   "cell_type": "markdown",
   "metadata": {},
   "source": [
    "### New interface"
   ]
  },
  {
   "cell_type": "code",
   "execution_count": null,
   "metadata": {},
   "outputs": [],
   "source": [
    "import pybird\n",
    "from importlib import reload\n",
    "reload(pybird)\n",
    "\n",
    "correlator = pybird.Correlator()\n",
    "\n",
    "bdict = { \"b1\": bs[0], \"b2\": bs[1], \"b3\": bs[2], \"b4\": bs[3], \"cct\": bs[4], \"cr1\": bs[5], \"cr2\": bs[6] }\n",
    "\n",
    "correlator.set({\n",
    "    'output': 'bPk',\n",
    "    'multipole': 3,\n",
    "    'xdata': kdata,\n",
    "    'z': zpk,\n",
    "    'optiresum': True,\n",
    "    'kmax': 0.3,\n",
    "    'with_AP': True,\n",
    "    'z_AP': z_AP,\n",
    "    'Omega_m_AP': Om_AP,\n",
    "    'with_window': True,\n",
    "    'windowPk': '../montepython_tree/data/pybird/Window/pynest_BOSS_CMASS_NGC_z057',\n",
    "    'windowCf': '../montepython_tree/data/pybird/Window/window_BOSS_CMASS_NGC_z0p57.dat'\n",
    "})\n",
    "\n",
    "correlator.compute({\n",
    "    'k11': kk,\n",
    "    'P11': Pk,\n",
    "    'f': f,\n",
    "    'bias': bdict,\n",
    "    'DA': DA,\n",
    "    'H': H\n",
    "})\n",
    "\n",
    "newpk = correlator.get()"
   ]
  },
  {
   "cell_type": "code",
   "execution_count": null,
   "metadata": {},
   "outputs": [],
   "source": [
    "plt.figure()\n",
    "\n",
    "plt.plot(kdata, birdhex.fullPs[0]/newpk[0], 'C0-', label = 'mono')\n",
    "plt.plot(kdata, birdhex.fullPs[1]/newpk[1], 'C1-', label = 'quad')\n",
    "plt.plot(kdata, birdhex.fullPs[2]/newpk[2], 'C2-', label = 'hex')\n",
    "\n",
    "plt.xlim(0.005, 0.25)\n",
    "plt.xlabel(r'$k \\, [h/\\mathrm{Mpc}]$')\n",
    "plt.ylabel(r'$P_{\\rm old}(k)/P_{\\rm new}(k)$')\n",
    "plt.ylim(1-.001, 1+.001)\n",
    "\n",
    "plt.show()"
   ]
  },
  {
   "cell_type": "markdown",
   "metadata": {},
   "source": [
    "## Correlation function"
   ]
  },
  {
   "cell_type": "markdown",
   "metadata": {},
   "source": [
    "PyBird can compute the correlation function multipole. \n",
    "We redefine the PyBird classes to include the correlation function multipole. In particular, we set smax=1000 (in Mpc/h) in the Common() class. \n",
    "\n",
    "As the resummation is first performed in Fourier space then the IR corrections are spherical Bessel transform to configuration space, enabling the correlation function automatically redefine kmax = 0.5 (h/Mpc) such that the BAO peak will be fully resummed."
   ]
  },
  {
   "cell_type": "code",
   "execution_count": null,
   "metadata": {},
   "outputs": [],
   "source": [
    "sdata = np.linspace(25., 500., 100)\n",
    "\n",
    "smax = 1000\n",
    "commoncf = pb.Common(Nl=3, kmax=kmax, smin=1., optiresum=True)\n",
    "nonlinear = pb.NonLinear(load=True, save=False, co=commoncf)\n",
    "resum = pb.Resum(co=commoncf)\n",
    "projection = pb.Projection(sdata, Om_AP, z_AP, co=commoncf, cf=True, )\n",
    "    #window_configspace_file='../montepython_tree/data/pybird/Window/window_BOSS_CMASS_NGC_z0p57.dat')"
   ]
  },
  {
   "cell_type": "code",
   "execution_count": null,
   "metadata": {},
   "outputs": [],
   "source": [
    "magpie = pb.Bird(kk, Pk, f=f, DA=DA, H=H, z=zpk, which='full', co=commoncf)\n",
    "nonlinear.PsCf(magpie)\n",
    "magpie.setPsCf(bs)\n",
    "noresumCf = np.copy(magpie.fullCf)\n",
    "resum.PsCf(magpie)\n",
    "resumCf = np.copy(magpie.fullCf)\n",
    "projection.AP(magpie)\n",
    "#projection.Window(magpie)\n",
    "projection.kdata(magpie)"
   ]
  },
  {
   "cell_type": "code",
   "execution_count": null,
   "metadata": {},
   "outputs": [],
   "source": [
    "plt.figure()\n",
    "\n",
    "plt.plot(commoncf.s, commoncf.s**2 * noresumCf[0], 'C0--', label = 'mono noresum')\n",
    "plt.plot(commoncf.s, commoncf.s**2 * noresumCf[1], 'C1--', label = 'quad noresum')\n",
    "plt.plot(commoncf.s, commoncf.s**2 * noresumCf[2], 'C3--', label = 'hex noresum')\n",
    "\n",
    "plt.plot(commoncf.s, commoncf.s**2 * resumCf[0], 'c-', label = 'mono resum')\n",
    "plt.plot(commoncf.s, commoncf.s**2 * resumCf[1], 'y-', label = 'quad resum')\n",
    "plt.plot(commoncf.s, commoncf.s**2 * resumCf[2], 'm-', label = 'hex resum')\n",
    "\n",
    "plt.xscale('log')\n",
    "plt.xlim(25., 500.)\n",
    "plt.ylim(-100., 100.)\n",
    "plt.xlabel(r'$s \\, [\\mathrm{Mpc}/h]$')\n",
    "plt.ylabel(r'$s^2 \\xi_l(s) \\, [h/\\mathrm{Mpc}]$')\n",
    "\n",
    "plt.legend()\n",
    "\n",
    "plt.show()"
   ]
  },
  {
   "cell_type": "code",
   "execution_count": null,
   "metadata": {},
   "outputs": [],
   "source": [
    "plt.figure()\n",
    "\n",
    "plt.plot(commoncf.s, commoncf.s**2 * noresumCf[0], 'C0--', label = 'mono noresum')\n",
    "plt.plot(commoncf.s, commoncf.s**2 * noresumCf[1], 'C1--', label = 'quad noresum')\n",
    "plt.plot(commoncf.s, commoncf.s**2 * noresumCf[2], 'C3--', label = 'hex noresum')\n",
    "\n",
    "plt.plot(commoncf.s, commoncf.s**2 * resumCf[0], 'c-', label = 'mono resum')\n",
    "plt.plot(commoncf.s, commoncf.s**2 * resumCf[1], 'y-', label = 'quad resum')\n",
    "plt.plot(commoncf.s, commoncf.s**2 * resumCf[2], 'm-', label = 'hex resum')\n",
    "\n",
    "#plt.xscale('log')\n",
    "plt.xlim(25., 200.)\n",
    "#plt.ylim(-100., 100.)\n",
    "plt.ylim(-90, -50)\n",
    "plt.xlabel(r'$s \\, [\\mathrm{Mpc}/h]$')\n",
    "plt.ylabel(r'$s^2 \\xi_l(s) \\, [h/\\mathrm{Mpc}]$')\n",
    "\n",
    "plt.legend()\n",
    "\n",
    "plt.show()"
   ]
  },
  {
   "cell_type": "markdown",
   "metadata": {},
   "source": [
    "### New interface"
   ]
  },
  {
   "cell_type": "code",
   "execution_count": null,
   "metadata": {},
   "outputs": [],
   "source": [
    "import pybird\n",
    "from importlib import reload\n",
    "reload(pybird)\n",
    "\n",
    "correlator = pybird.Correlator()\n",
    "\n",
    "bdict = { \"b1\": bs[0], \"b2\": bs[1], \"b3\": bs[2], \"b4\": bs[3], \"cct\": bs[4], \"cr1\": bs[5], \"cr2\": bs[6] }\n",
    "\n",
    "correlator.set({\n",
    "    'output': 'bCf',\n",
    "    'multipole': 3,\n",
    "    'xdata': sdata,\n",
    "    'z': zpk,\n",
    "    'optiresum': True,\n",
    "    'kmax': 0.3,\n",
    "    'with_AP': True,\n",
    "    'z_AP': z_AP,\n",
    "    'Omega_m_AP': Om_AP,\n",
    "    #'with_window': True,\n",
    "    #'windowCf': '../montepython_tree/data/pybird/Window/window_BOSS_CMASS_NGC_z0p57.dat'\n",
    "})\n",
    "\n",
    "correlator.compute({\n",
    "    'k11': kk,\n",
    "    'P11': Pk,\n",
    "    'f': f,\n",
    "    'bias': bdict,\n",
    "    'DA': DA,\n",
    "    'H': H\n",
    "})\n",
    "\n",
    "newcf = correlator.get()"
   ]
  },
  {
   "cell_type": "code",
   "execution_count": null,
   "metadata": {},
   "outputs": [],
   "source": [
    "plt.figure()\n",
    "\n",
    "plt.plot(sdata, magpie.fullCf[0]/newcf[0], 'C0-', label = 'mono')\n",
    "plt.plot(sdata, magpie.fullCf[1]/newcf[1], 'C1-', label = 'quad')\n",
    "plt.plot(sdata, magpie.fullCf[2]/newcf[2], 'C2-', label = 'hex')\n",
    "\n",
    "plt.xscale('log')\n",
    "plt.xlim(25., 500.)\n",
    "plt.xlabel(r'$s \\, [\\mathrm{Mpc}/h]$')\n",
    "plt.ylabel(r'$\\xi_{\\rm old}(s)/\\xi_{\\rm new}(s)$')\n",
    "plt.ylim(1-.001, 1+.001)\n",
    "\n",
    "plt.show()"
   ]
  },
  {
   "cell_type": "markdown",
   "metadata": {},
   "source": [
    "Again, the correlation function can be evaluated without specifying the EFT parameters"
   ]
  },
  {
   "cell_type": "code",
   "execution_count": null,
   "metadata": {},
   "outputs": [],
   "source": [
    "treepie = pb.Bird(kk, Pk, f=f, DA=DA, H=H, z=zpk, which='all', co=commoncf)\n",
    "nonlinear.PsCf(treepie)\n",
    "treepie.setPsCfl()\n",
    "resum.PsCf(treepie)\n",
    "projection.AP(treepie)\n",
    "#projection.Window(treepie)\n",
    "projection.kdata(treepie)\n",
    "treepie.setreduceCflb(bs)"
   ]
  },
  {
   "cell_type": "code",
   "execution_count": null,
   "metadata": {},
   "outputs": [],
   "source": [
    "plt.figure()\n",
    "\n",
    "plt.plot(sdata, treepie.fullCf[0]/magpie.fullCf[0], 'C0-', label = 'mono')\n",
    "plt.plot(sdata, treepie.fullCf[1]/magpie.fullCf[1], 'C1--', label = 'quad')\n",
    "plt.plot(sdata, treepie.fullCf[2]/magpie.fullCf[2], 'C3:', label = 'hex')\n",
    "plt.xlim(25., 500.)\n",
    "plt.xscale('log')\n",
    "plt.ylim(1-.001, 1+.001)\n",
    "\n",
    "plt.show()"
   ]
  },
  {
   "cell_type": "markdown",
   "metadata": {},
   "source": [
    "### New interface"
   ]
  },
  {
   "cell_type": "code",
   "execution_count": null,
   "metadata": {},
   "outputs": [],
   "source": [
    "import pybird\n",
    "from importlib import reload\n",
    "reload(pybird)\n",
    "\n",
    "correlator = pybird.Correlator()\n",
    "\n",
    "bdict = { \"b1\": bs[0], \"b2\": bs[1], \"b3\": bs[2], \"b4\": bs[3], \"cct\": bs[4], \"cr1\": bs[5], \"cr2\": bs[6] }\n",
    "\n",
    "correlator.set({\n",
    "    'output': 'bCf',\n",
    "    'multipole': 3,\n",
    "    'with_bias': False,\n",
    "    'xdata': sdata,\n",
    "    'z': zpk,\n",
    "    'optiresum': True,\n",
    "    'kmax': 0.3,\n",
    "    'with_AP': True,\n",
    "    'z_AP': z_AP,\n",
    "    'Omega_m_AP': Om_AP,\n",
    "})\n",
    "\n",
    "correlator.compute({\n",
    "    'k11': kk,\n",
    "    'P11': Pk,\n",
    "    'f': f,\n",
    "    'DA': DA,\n",
    "    'H': H\n",
    "})\n",
    "\n",
    "newcf = correlator.get(bdict)"
   ]
  },
  {
   "cell_type": "code",
   "execution_count": null,
   "metadata": {},
   "outputs": [],
   "source": [
    "plt.figure()\n",
    "\n",
    "plt.plot(sdata, treepie.fullCf[0]/newcf[0], 'C0-', label = 'mono')\n",
    "plt.plot(sdata, treepie.fullCf[1]/newcf[1], 'C1-', label = 'quad')\n",
    "plt.plot(sdata, treepie.fullCf[2]/newcf[2], 'C2-', label = 'hex')\n",
    "\n",
    "plt.xscale('log')\n",
    "plt.xlim(25., 500.)\n",
    "plt.xlabel(r'$s \\, [\\mathrm{Mpc}/h]$')\n",
    "plt.ylabel(r'$\\xi_{\\rm old}(s)/\\xi_{\\rm new}(s)$')\n",
    "plt.ylim(1-.001, 1+.001)\n",
    "\n",
    "plt.show()"
   ]
  },
  {
   "cell_type": "markdown",
   "metadata": {},
   "source": [
    "## Wedges"
   ]
  },
  {
   "cell_type": "code",
   "execution_count": null,
   "metadata": {},
   "outputs": [],
   "source": [
    "co = pb.Common(Nl=3, kmax=kmax, optiresum=True)\n",
    "nonlinear = pb.NonLinear(load=True, save=True, co=co)\n",
    "resum = pb.Resum(co=co)\n",
    "projection = pb.Projection(kdata, Om_AP, z_AP, Nwedges=3, co=co,\n",
    "    window_fourier_name='pynest_BOSS_CMASS_NGC_z057', \n",
    "    path_to_window='../montepython_tree/data/pybird/Window',\n",
    "    window_configspace_file='../montepython_tree/data/pybird/Window/window_BOSS_CMASS_NGC_z057.dat')"
   ]
  },
  {
   "cell_type": "code",
   "execution_count": null,
   "metadata": {},
   "outputs": [],
   "source": [
    "bats = pb.Bird(kk, Pk, f=f, DA=DA, H=H, z=zpk, which='full', co=co)\n",
    "nonlinear.PsCf(bats)\n",
    "bats.setPsCf(bs)\n",
    "resum.Ps(bats)\n",
    "projection.AP(bats)\n",
    "#projection.Window(bats)\n",
    "projection.Wedges(bats)\n",
    "projection.kdata(bats)"
   ]
  },
  {
   "cell_type": "code",
   "execution_count": null,
   "metadata": {},
   "outputs": [],
   "source": [
    "plt.plot(kdata, kdata * bats.fullPs[0])\n",
    "plt.plot(kdata, kdata * bats.fullPs[1])\n",
    "plt.plot(kdata, kdata * bats.fullPs[2])\n",
    "plt.xlim(0.005, 0.25)"
   ]
  },
  {
   "cell_type": "markdown",
   "metadata": {},
   "source": [
    "### New interface"
   ]
  },
  {
   "cell_type": "code",
   "execution_count": null,
   "metadata": {},
   "outputs": [],
   "source": [
    "import pybird\n",
    "from importlib import reload\n",
    "reload(pybird)\n",
    "\n",
    "correlator = pybird.Correlator()\n",
    "\n",
    "bdict = { \"b1\": bs[0], \"b2\": bs[1], \"b3\": bs[2], \"b4\": bs[3], \"cct\": bs[4], \"cr1\": bs[5], \"cr2\": bs[6] }\n",
    "\n",
    "correlator.set({\n",
    "    'output': 'bPk',\n",
    "    'wedge': 3,\n",
    "    'xdata': kdata,\n",
    "    'z': zpk,\n",
    "    'optiresum': True,\n",
    "    'kmax': 0.3,\n",
    "    'with_AP': True,\n",
    "    'z_AP': z_AP,\n",
    "    'Omega_m_AP': Om_AP,\n",
    "    \n",
    "})\n",
    "\n",
    "correlator.compute({\n",
    "    'k11': kk,\n",
    "    'P11': Pk,\n",
    "    'f': f,\n",
    "    'DA': DA,\n",
    "    'H': H,\n",
    "    'bias': bdict\n",
    "})\n",
    "\n",
    "newpk = correlator.get()"
   ]
  },
  {
   "cell_type": "code",
   "execution_count": null,
   "metadata": {},
   "outputs": [],
   "source": [
    "plt.figure()\n",
    "\n",
    "plt.plot(kdata, bats.fullPs[0]/newpk[0], 'C0-', label = 'mono')\n",
    "plt.plot(kdata, bats.fullPs[1]/newpk[1], 'C1-', label = 'quad')\n",
    "plt.plot(kdata, bats.fullPs[2]/newpk[2], 'C2-', label = 'hex')\n",
    "\n",
    "plt.xlim(0.005, 0.25)\n",
    "plt.xlabel(r'$k \\, [h/\\mathrm{Mpc}]$')\n",
    "plt.ylabel(r'$P_{\\rm old}(k)/P_{\\rm new}(k)$')\n",
    "plt.ylim(1-.001, 1+.001)\n",
    "\n",
    "plt.show()"
   ]
  },
  {
   "cell_type": "markdown",
   "metadata": {},
   "source": [
    "## Multi skycut"
   ]
  },
  {
   "cell_type": "code",
   "execution_count": null,
   "metadata": {},
   "outputs": [],
   "source": [
    "zlow = 1.\n",
    "Pklow = [M.pk(ki*M.h(), zlow)*M.h()**3 for ki in kk]\n",
    "\n",
    "flow = M.scale_independent_growth_factor_f(zlow)\n",
    "DAlow = M.angular_distance(zlow) * M.Hubble(0.)\n",
    "Hlow = M.Hubble(zlow) / M.Hubble(0.)\n",
    "\n",
    "common = pb.Common(Nl=3, kmax=kmax, optiresum=True)\n",
    "nonlinear = pb.NonLinear(load=True, save=True, co=common)\n",
    "resum = pb.Resum(co=common)\n",
    "projection = pb.Projection(kdata, Om_AP, zlow, co=common)\n",
    "\n",
    "lowbird = pb.Bird(kk, Pklow, f=flow, z=zlow, DA=DAlow, H=Hlow, which='full', co=common)\n",
    "nonlinear.PsCf(lowbird)\n",
    "lowbird.setPsCf(bs)\n",
    "resum.Ps(lowbird)\n",
    "projection.AP(lowbird)\n",
    "projection.kdata(lowbird)\n",
    "\n",
    "lowbirdPs = np.copy(lowbird.fullPs)"
   ]
  },
  {
   "cell_type": "code",
   "execution_count": null,
   "metadata": {},
   "outputs": [],
   "source": [
    "import pybird\n",
    "from importlib import reload\n",
    "reload(pybird)\n",
    "\n",
    "correlator = pybird.Correlator()\n",
    "\n",
    "bdict = { \"b1\": bs[0], \"b2\": bs[1], \"b3\": bs[2], \"b4\": bs[3], \"cct\": bs[4], \"cr1\": bs[5], \"cr2\": bs[6] }\n",
    "\n",
    "D = M.scale_independent_growth_factor(zpk)\n",
    "Dlow = M.scale_independent_growth_factor(zlow)\n",
    "\n",
    "correlator.set({\n",
    "    'output': 'bPk',\n",
    "    'skycut': 2,\n",
    "    'multipole': 3, \n",
    "    'xdata': [kdata, kdata],\n",
    "    'z': [zpk, zlow],\n",
    "    'optiresum': True,\n",
    "    'kmax': 0.3,\n",
    "    \n",
    "    'with_AP': True,\n",
    "    'z_AP': [z_AP, zlow],\n",
    "    'Omega_m_AP': Om_AP,\n",
    "    \n",
    "    'with_window': True,\n",
    "    'windowPk': ['../montepython_tree/data/pybird/Window/pynest_BOSS_CMASS_NGC_z057', None],\n",
    "    'windowCf': ['../montepython_tree/data/pybird/Window/window_BOSS_CMASS_NGC_z0p57.dat', None]\n",
    "    \n",
    "})\n",
    "\n",
    "correlator.compute({\n",
    "    'k11': kk,\n",
    "    'P11': Pk,\n",
    "    'f': [f, flow],\n",
    "    'D': [D, Dlow],\n",
    "    'DA': [DA, DAlow],\n",
    "    'H': [H, Hlow]\n",
    "})\n",
    "\n",
    "newpk = correlator.get([bdict, bdict])"
   ]
  },
  {
   "cell_type": "code",
   "execution_count": null,
   "metadata": {},
   "outputs": [],
   "source": [
    "plt.figure()\n",
    "\n",
    "plt.plot(kdata, birdhex.fullPs[0]/newpk[0][0], 'C0-', label = 'mono')\n",
    "plt.plot(kdata, birdhex.fullPs[1]/newpk[0][1], 'C1-', label = 'quad')\n",
    "plt.plot(kdata, birdhex.fullPs[2]/newpk[0][2], 'C2-', label = 'hex')\n",
    "\n",
    "plt.plot(kdata, lowbird.fullPs[0]/newpk[1][0], 'C0--', label = 'mono')\n",
    "plt.plot(kdata, lowbird.fullPs[1]/newpk[1][1], 'C1--', label = 'quad')\n",
    "plt.plot(kdata, lowbird.fullPs[2]/newpk[1][2], 'C2--', label = 'hex')\n",
    "\n",
    "plt.xlim(0.005, 0.25)\n",
    "plt.xlabel(r'$k \\, [h/\\mathrm{Mpc}]$')\n",
    "plt.ylabel(r'$P_{\\rm old}(k)/P_{\\rm new}(k)$')\n",
    "plt.ylim(1-.001, 1+.001)\n",
    "\n",
    "plt.show()"
   ]
  },
  {
   "cell_type": "markdown",
   "metadata": {},
   "source": [
    "## With Class"
   ]
  },
  {
   "cell_type": "code",
   "execution_count": null,
   "metadata": {},
   "outputs": [],
   "source": [
    "import pybird\n",
    "from importlib import reload\n",
    "reload(pybird)\n",
    "\n",
    "correlator = pybird.Correlator()\n",
    "\n",
    "bdict = { \"b1\": bs[0], \"b2\": bs[1], \"b3\": bs[2], \"b4\": bs[3], \"cct\": bs[4], \"cr1\": bs[5], \"cr2\": bs[6] }\n",
    "\n",
    "correlator.set({\n",
    "    'output': 'bPk',\n",
    "    'skycut': 2,\n",
    "    'multipole': 3, \n",
    "    'xdata': kdata,\n",
    "    'z': [zpk, zlow],\n",
    "    'optiresum': True,\n",
    "    'kmax': 0.3,\n",
    "    'with_AP': True,\n",
    "    'z_AP': [z_AP, zlow],\n",
    "    'Omega_m_AP': Om_AP,\n",
    "    'with_window': True,\n",
    "    'windowPk': ['../montepython_tree/data/pybird/Window/pynest_BOSS_CMASS_NGC_z057', None],\n",
    "    'windowCf': ['../montepython_tree/data/pybird/Window/window_BOSS_CMASS_NGC_z0p57.dat', None]\n",
    "})\n",
    "\n",
    "correlator.compute(cosmo, module='class')\n",
    "\n",
    "newpk = correlator.get([bdict, bdict])"
   ]
  },
  {
   "cell_type": "code",
   "execution_count": null,
   "metadata": {},
   "outputs": [],
   "source": [
    "plt.figure()\n",
    "\n",
    "plt.plot(kdata, birdhex.fullPs[0]/newpk[0][0], 'C0-', label = 'mono')\n",
    "plt.plot(kdata, birdhex.fullPs[1]/newpk[0][1], 'C1-', label = 'quad')\n",
    "plt.plot(kdata, birdhex.fullPs[2]/newpk[0][2], 'C2-', label = 'hex')\n",
    "\n",
    "plt.plot(kdata, lowbird.fullPs[0]/newpk[1][0], 'C0--', label = 'mono')\n",
    "plt.plot(kdata, lowbird.fullPs[1]/newpk[1][1], 'C1--', label = 'quad')\n",
    "plt.plot(kdata, lowbird.fullPs[2]/newpk[1][2], 'C2--', label = 'hex')\n",
    "\n",
    "plt.xlim(0.005, 0.25)\n",
    "plt.xlabel(r'$k \\, [h/\\mathrm{Mpc}]$')\n",
    "plt.ylabel(r'$P_{\\rm old}(k)/P_{\\rm new}(k)$')\n",
    "plt.ylim(1-.001, 1+.001)\n",
    "\n",
    "plt.show()"
   ]
  },
  {
   "cell_type": "markdown",
   "metadata": {},
   "source": [
    "## Multi skycuts: correlation function"
   ]
  },
  {
   "cell_type": "code",
   "execution_count": null,
   "metadata": {},
   "outputs": [],
   "source": [
    "zlow = 1.\n",
    "Pklow = [M.pk(ki*M.h(), zlow)*M.h()**3 for ki in kk]\n",
    "\n",
    "flow = M.scale_independent_growth_factor_f(zlow)\n",
    "DAlow = M.angular_distance(zlow) * M.Hubble(0.)\n",
    "Hlow = M.Hubble(zlow) / M.Hubble(0.)\n",
    "\n",
    "common = pb.Common(Nl=3, smin=1., optiresum=True, )\n",
    "nonlinear = pb.NonLinear(load=True, save=True, co=common)\n",
    "resum = pb.Resum(co=common)\n",
    "projection = pb.Projection(sdata, Om_AP, zlow, co=common, cf=True)\n",
    "\n",
    "lowbird = pb.Bird(kk, Pklow, f=flow, z=zlow, DA=DAlow, H=Hlow, which='full', co=common)\n",
    "nonlinear.PsCf(lowbird)\n",
    "lowbird.setPsCf(bs)\n",
    "resum.PsCf(lowbird)\n",
    "projection.AP(lowbird)\n",
    "projection.kdata(lowbird)"
   ]
  },
  {
   "cell_type": "code",
   "execution_count": null,
   "metadata": {},
   "outputs": [],
   "source": [
    "import pybird\n",
    "from importlib import reload\n",
    "reload(pybird)\n",
    "\n",
    "correlator = pybird.Correlator()\n",
    "\n",
    "bdict = { \"b1\": bs[0], \"b2\": bs[1], \"b3\": bs[2], \"b4\": bs[3], \"cct\": bs[4], \"cr1\": bs[5], \"cr2\": bs[6] }\n",
    "\n",
    "D = M.scale_independent_growth_factor(zpk)\n",
    "Dlow = M.scale_independent_growth_factor(zlow)\n",
    "\n",
    "correlator.set({\n",
    "    'output': 'bCf',\n",
    "    'skycut': 2,\n",
    "    'multipole': 3, \n",
    "    'xdata': [sdata, sdata],\n",
    "    'z': [zpk, zlow],\n",
    "    'optiresum': True,\n",
    "    'kmax': 0.3,\n",
    "    'with_AP': True,\n",
    "    'z_AP': [z_AP, zlow],\n",
    "    'Omega_m_AP': Om_AP,\n",
    "})\n",
    "\n",
    "correlator.compute({\n",
    "    'k11': kk,\n",
    "    'P11': Pk,\n",
    "    'f': [f, flow],\n",
    "    'D': [D, Dlow],\n",
    "    'DA': [DA, DAlow],\n",
    "    'H': [H, Hlow]\n",
    "})\n",
    "\n",
    "newcf = correlator.get([bdict, bdict])"
   ]
  },
  {
   "cell_type": "code",
   "execution_count": null,
   "metadata": {},
   "outputs": [],
   "source": [
    "plt.figure()\n",
    "\n",
    "plt.plot(sdata, magpie.fullCf[0]/newcf[0][0], 'C0-', label = 'mono')\n",
    "plt.plot(sdata, magpie.fullCf[1]/newcf[0][1], 'C1-', label = 'quad')\n",
    "plt.plot(sdata, magpie.fullCf[2]/newcf[0][2], 'C2-', label = 'hex')\n",
    "\n",
    "plt.plot(sdata, lowbird.fullCf[0]/newcf[1][0], 'C0--', label = 'mono')\n",
    "plt.plot(sdata, lowbird.fullCf[1]/newcf[1][1], 'C1--', label = 'quad')\n",
    "plt.plot(sdata, lowbird.fullCf[2]/newcf[1][2], 'C2--', label = 'hex')\n",
    "\n",
    "plt.xscale('log')\n",
    "plt.xlim(25., 500.)\n",
    "plt.xlabel(r'$s \\, [\\mathrm{Mpc}/h]$')\n",
    "plt.ylabel(r'$\\xi_{\\rm old}(s)/\\xi_{\\rm new}(s)$')\n",
    "plt.ylim(1-.001, 1+.001)\n",
    "\n",
    "plt.show()"
   ]
  },
  {
   "cell_type": "markdown",
   "metadata": {},
   "source": [
    "## Projection on the sky II: redshift dependence"
   ]
  },
  {
   "cell_type": "markdown",
   "metadata": {},
   "source": [
    "Instead of using a single effective redshift, one can take into account the galaxy count distribution over the redshift bin. \n",
    "\n",
    "A typical galaxy count distribution:"
   ]
  },
  {
   "cell_type": "code",
   "execution_count": null,
   "metadata": {},
   "outputs": [],
   "source": [
    "zz = np.linspace(zpk-0.1, zpk+0.1, 20) # Probably 20 points are enough..\n",
    "# ... we will do a double integral, so the more points given, the more time it will take.\n",
    "\n",
    "sigmaz = 0.05\n",
    "\n",
    "def Gaussian(z, p=(zpk, sigmaz)):\n",
    "    zc, dz = p\n",
    "    return np.exp(-0.5*(z-zc)**2/dz**2)\n",
    "\n",
    "nz = Gaussian(zz)\n",
    "nz /= np.trapz(nz, x=zz)\n",
    "\n",
    "# zb, _, _, nz = np.loadtxt('dev_window/Density_galaxies_dataBOSSNGC_Dk6.txt', unpack=True)\n",
    "# zz = np.linspace(zb[0], zb[-1], 30)\n",
    "# from scipy.interpolate import interp1d\n",
    "# nz = interp1d(zb, nz, kind='cubic')(zz)\n",
    "# nz /= np.trapz(nz, x=zz)\n",
    "\n",
    "plt.plot(zz, nz)\n",
    "plt.show()"
   ]
  },
  {
   "cell_type": "code",
   "execution_count": null,
   "metadata": {},
   "outputs": [],
   "source": [
    "Dz = np.array([M.scale_independent_growth_factor(z) for z in zz])\n",
    "fz = np.array([M.scale_independent_growth_factor_f(z) for z in zz])\n",
    "\n",
    "DAz = np.array([M.angular_distance(z) * M.Hubble(0.) for z in zz])\n",
    "Hz = np.array([M.Hubble(z) / M.Hubble(0.) for z in zz])\n",
    "\n",
    "Dfid = M.scale_independent_growth_factor(zpk)"
   ]
  },
  {
   "cell_type": "markdown",
   "metadata": {},
   "source": [
    "First, we compute the growth functions over the redshifts spanned over the bin. "
   ]
  },
  {
   "cell_type": "markdown",
   "metadata": {},
   "source": [
    "We add the option redshift='mean' inside the Common class. The AP effect will be applied for each redshift spanned over the bin. \n",
    "\n",
    "The resummation is performed on the effective redshift: the difference between the single effective redshift computation and the mean over the redshift bin being sufficiently small, one can neglect the redshift dependence of the IR-resummation inside the redshift bin."
   ]
  },
  {
   "cell_type": "code",
   "execution_count": null,
   "metadata": {},
   "outputs": [],
   "source": [
    "commonred = pb.Common(Nl=3, kmax=kmax, optiresum=True, redshift='multi')\n",
    "nonlinear = pb.NonLinear(load=True, save=True, co=commonred)\n",
    "resum = pb.Resum(co=commonred)\n",
    "projection = pb.Projection(kdata, Om_AP, zpk, co=commonred)"
   ]
  },
  {
   "cell_type": "code",
   "execution_count": null,
   "metadata": {},
   "outputs": [],
   "source": [
    "crow = pb.Bird(kk, Pk, f=f, D=Dfid, which='all', co=commonred)\n",
    "nonlinear.PsCf(crow)\n",
    "crow.setPsCfl()\n",
    "resum.Ps(crow)\n",
    "\n",
    "time1 = time()\n",
    "projection.redshift(crow, zz, Dz, fz, DAz, Hz, nz)\n",
    "print(time() - time1)\n",
    "\n",
    "projection.kdata(crow)\n",
    "crow.setreducePslb(bs, f=1.)"
   ]
  },
  {
   "cell_type": "code",
   "execution_count": null,
   "metadata": {},
   "outputs": [],
   "source": [
    "plt.figure()\n",
    "\n",
    "plt.plot(kdata, kdata * bird.fullPs[0], 'C0-', label = 'mono effective redshift')\n",
    "plt.plot(kdata, kdata * bird.fullPs[1], 'C1-', label = 'quad effective redshift')\n",
    "\n",
    "plt.plot(kdata, kdata * crow.fullPs[0], 'c-', label = 'mono mean redshift')\n",
    "plt.plot(kdata, kdata * crow.fullPs[1], 'y-', label = 'quad mean redshift')\n",
    "\n",
    "plt.legend()\n",
    "plt.show()"
   ]
  },
  {
   "cell_type": "markdown",
   "metadata": {},
   "source": [
    "Observe the difference with the single effective redshift computation. If the distribution is taken to be a delta function (sigmaz -> 0), the difference will fade away."
   ]
  },
  {
   "cell_type": "code",
   "execution_count": null,
   "metadata": {},
   "outputs": [],
   "source": [
    "plt.plot(kdata, crow.fullPs[0]/bird.fullPs[0])\n",
    "plt.plot(kdata, crow.fullPs[1]/bird.fullPs[1])"
   ]
  },
  {
   "cell_type": "markdown",
   "metadata": {},
   "source": [
    "We add a bird over another redshift..."
   ]
  },
  {
   "cell_type": "code",
   "execution_count": null,
   "metadata": {},
   "outputs": [],
   "source": [
    "zzlow = np.linspace(zlow-0.1, zlow+0.1, 20) # Probably 20 points are enough..\n",
    "# ... we will do a double integral, so the more points given, the more time it will take.\n",
    "\n",
    "nzlow = Gaussian(zzlow, p=(zlow, sigmaz))\n",
    "nzlow /= np.trapz(nzlow, x=zzlow)\n",
    "\n",
    "# plt.plot(zz, nz)\n",
    "# plt.show()"
   ]
  },
  {
   "cell_type": "code",
   "execution_count": null,
   "metadata": {},
   "outputs": [],
   "source": [
    "Dzlow = np.array([M.scale_independent_growth_factor(z) for z in zzlow])\n",
    "fzlow = np.array([M.scale_independent_growth_factor_f(z) for z in zzlow])\n",
    "\n",
    "DAzlow = np.array([M.angular_distance(z) * M.Hubble(0.) for z in zzlow])\n",
    "Hzlow = np.array([M.Hubble(z) / M.Hubble(0.) for z in zzlow])\n",
    "\n",
    "Dfidlow = M.scale_independent_growth_factor(zlow)"
   ]
  },
  {
   "cell_type": "code",
   "execution_count": null,
   "metadata": {},
   "outputs": [],
   "source": [
    "projectionlow = pb.Projection(kdata, Om_AP, zlow, co=commonred)\n",
    "crowlow = pb.Bird(kk, Pklow, f=flow, D=Dfidlow, which='all', co=commonred)\n",
    "nonlinear.PsCf(crowlow)\n",
    "crowlow.setPsCfl()\n",
    "resum.Ps(crowlow)\n",
    "\n",
    "time1 = time()\n",
    "projectionlow.redshift(crowlow, zzlow, Dzlow, fzlow, DAzlow, Hzlow, nzlow)\n",
    "print(time() - time1)\n",
    "\n",
    "projectionlow.kdata(crowlow)\n",
    "crowlow.setreducePslb(bs, f=1.)"
   ]
  },
  {
   "cell_type": "code",
   "execution_count": null,
   "metadata": {},
   "outputs": [],
   "source": [
    "plt.figure()\n",
    "\n",
    "plt.plot(kdata, kdata * lowbirdPs[0], 'C0-', label = 'mono effective redshift')\n",
    "plt.plot(kdata, kdata * lowbirdPs[1], 'C1-', label = 'quad effective redshift')\n",
    "\n",
    "plt.plot(kdata, kdata * crowlow.fullPs[0], 'c-', label = 'mono mean redshift')\n",
    "plt.plot(kdata, kdata * crowlow.fullPs[1], 'y-', label = 'quad mean redshift')\n",
    "\n",
    "plt.legend()\n",
    "plt.show()"
   ]
  },
  {
   "cell_type": "markdown",
   "metadata": {},
   "source": [
    "### New interface"
   ]
  },
  {
   "cell_type": "code",
   "execution_count": null,
   "metadata": {},
   "outputs": [],
   "source": [
    "import pybird\n",
    "from importlib import reload\n",
    "reload(pybird)\n",
    "\n",
    "correlator = pybird.Correlator()\n",
    "\n",
    "bdict = { \"b1\": bs[0], \"b2\": bs[1], \"b3\": bs[2], \"b4\": bs[3], \"cct\": bs[4], \"cr1\": bs[5], \"cr2\": bs[6] }\n",
    "\n",
    "correlator.set({\n",
    "    'output': 'bPk',\n",
    "    'skycut': 1,\n",
    "    'multipole': 3, \n",
    "    'with_redshift_bin': True,\n",
    "    'zz': zz,\n",
    "    'nz': nz,\n",
    "    'xdata': kdata,\n",
    "    'z': zpk,\n",
    "    'optiresum': True,\n",
    "    'kmax': 0.3,\n",
    "    'with_AP': True,\n",
    "    'z_AP': z_AP,\n",
    "    'Omega_m_AP': Om_AP,\n",
    "})\n",
    "\n",
    "correlator.compute({\n",
    "    'k11': kk,\n",
    "    'P11': Pk,\n",
    "    'D': Dfid,\n",
    "    'f': f,\n",
    "    'fz': fz,\n",
    "    'Dz': Dz,\n",
    "    'DAz': DAz,\n",
    "    'Hz': Hz\n",
    "})\n",
    "\n",
    "newpk = correlator.get(bdict)"
   ]
  },
  {
   "cell_type": "code",
   "execution_count": null,
   "metadata": {},
   "outputs": [],
   "source": [
    "plt.figure()\n",
    "\n",
    "plt.plot(kdata, newpk[0]/crow.fullPs[0], 'C0--', label = 'mono')\n",
    "plt.plot(kdata, newpk[1]/crow.fullPs[1], 'C1--', label = 'quad')\n",
    "\n",
    "plt.legend()\n",
    "plt.show()"
   ]
  },
  {
   "cell_type": "code",
   "execution_count": null,
   "metadata": {},
   "outputs": [],
   "source": [
    "import pybird\n",
    "from importlib import reload\n",
    "reload(pybird)\n",
    "\n",
    "correlator = pybird.Correlator()\n",
    "\n",
    "bdict = { \"b1\": bs[0], \"b2\": bs[1], \"b3\": bs[2], \"b4\": bs[3], \"cct\": bs[4], \"cr1\": bs[5], \"cr2\": bs[6] }\n",
    "\n",
    "correlator.set({\n",
    "    'output': 'bPk',\n",
    "    'skycut': 2,\n",
    "    'multipole': 3, \n",
    "    'with_redshift_bin': True,\n",
    "    'zz': [zz, zzlow],\n",
    "    'nz': [nz, nzlow],\n",
    "    'xdata': [kdata, kdata],\n",
    "    'z': [zpk, zlow],\n",
    "    'optiresum': True,\n",
    "    'kmax': 0.3,\n",
    "    'with_AP': True,\n",
    "    'z_AP': [z_AP, zlow],\n",
    "    'Omega_m_AP': Om_AP,\n",
    "})\n",
    "\n",
    "correlator.compute({\n",
    "    'k11': kk,\n",
    "    'P11': Pk,\n",
    "    'f': [f, flow],\n",
    "    'D': [Dfid, Dfidlow],\n",
    "    'fz': [fz, fzlow],\n",
    "    'Dz': [Dz, Dzlow],\n",
    "    'DAz': [DAz, DAzlow],\n",
    "    'Hz': [Hz, Hzlow]\n",
    "})\n",
    "\n",
    "newpk = correlator.get([bdict, bdict])"
   ]
  },
  {
   "cell_type": "code",
   "execution_count": null,
   "metadata": {},
   "outputs": [],
   "source": [
    "plt.figure()\n",
    "\n",
    "plt.plot(kdata, newpk[0][0]/crow.fullPs[0], 'C0-', label = 'mono')\n",
    "plt.plot(kdata, newpk[0][1]/crow.fullPs[1], 'C1-', label = 'quad')\n",
    "\n",
    "plt.plot(kdata, newpk[1][0]/crowlow.fullPs[0], 'C0-', label = 'mono')\n",
    "plt.plot(kdata, newpk[1][1]/crowlow.fullPs[1], 'C1-', label = 'quad')\n",
    "\n",
    "plt.ylim(1-.001, 1+.001)\n",
    "\n",
    "plt.legend()\n",
    "plt.show()"
   ]
  },
  {
   "cell_type": "markdown",
   "metadata": {},
   "source": [
    "### Correlation function with redshift dependence"
   ]
  },
  {
   "cell_type": "code",
   "execution_count": null,
   "metadata": {},
   "outputs": [],
   "source": [
    "import pybird\n",
    "from importlib import reload\n",
    "reload(pybird)\n",
    "\n",
    "correlator = pybird.Correlator()\n",
    "\n",
    "bdict = { \"b1\": bs[0], \"b2\": bs[1], \"b3\": bs[2], \"b4\": bs[3], \"cct\": bs[4], \"cr1\": bs[5], \"cr2\": bs[6] }\n",
    "\n",
    "correlator.set({\n",
    "    'output': 'bCf',\n",
    "    'skycut': 2,\n",
    "    'multipole': 3, \n",
    "    'with_redshift_bin': True,\n",
    "    'zz': [zz, zzlow],\n",
    "    'nz': [nz, nzlow],\n",
    "    'xdata': [sdata, sdata],\n",
    "    'z': [zpk, zlow],\n",
    "    'optiresum': True,\n",
    "    'kmax': 0.3,\n",
    "    'with_AP': True,\n",
    "    'z_AP': [z_AP, zlow],\n",
    "    'Omega_m_AP': Om_AP,\n",
    "})\n",
    "\n",
    "correlator.compute({\n",
    "    'k11': kk,\n",
    "    'P11': Pk,\n",
    "    'f': [f, flow],\n",
    "    'D': [Dfid, Dfidlow],\n",
    "    'fz': [fz, fzlow],\n",
    "    'Dz': [Dz, Dzlow],\n",
    "    'DAz': [DAz, DAzlow],\n",
    "    'Hz': [Hz, Hzlow]\n",
    "})\n",
    "\n",
    "newcf = correlator.get([bdict, bdict])"
   ]
  },
  {
   "cell_type": "code",
   "execution_count": null,
   "metadata": {},
   "outputs": [],
   "source": [
    "plt.figure()\n",
    "\n",
    "plt.plot(sdata, magpie.fullCf[0]/newcf[0][0], 'C0-', label = 'mono')\n",
    "plt.plot(sdata, magpie.fullCf[1]/newcf[0][1], 'C1-', label = 'quad')\n",
    "#plt.plot(sdata, magpie.fullCf[2]/newcf[0,2], 'C2-', label = 'hex')\n",
    "\n",
    "plt.plot(sdata, lowbird.fullCf[0]/newcf[1][0], 'C0--', label = 'mono')\n",
    "plt.plot(sdata, lowbird.fullCf[1]/newcf[1][1], 'C1--', label = 'quad')\n",
    "#plt.plot(sdata, lowbird.fullCf[2]/newcf[1,2], 'C2--', label = 'hex')"
   ]
  },
  {
   "cell_type": "markdown",
   "metadata": {},
   "source": [
    "### with class"
   ]
  },
  {
   "cell_type": "code",
   "execution_count": null,
   "metadata": {},
   "outputs": [],
   "source": [
    "import pybird\n",
    "from importlib import reload\n",
    "reload(pybird)\n",
    "\n",
    "correlator = pybird.Correlator()\n",
    "\n",
    "bdict = { \"b1\": bs[0], \"b2\": bs[1], \"b3\": bs[2], \"b4\": bs[3], \"cct\": bs[4], \"cr1\": bs[5], \"cr2\": bs[6] }\n",
    "\n",
    "correlator.set({\n",
    "    'output': 'bPk',\n",
    "    'skycut': 1,\n",
    "    'multipole': 3, \n",
    "    'with_redshift_bin': True,\n",
    "    'zz': zz,\n",
    "    'nz': nz,\n",
    "    'xdata': kdata,\n",
    "    'z': zpk,\n",
    "    'optiresum': True,\n",
    "    'kmax': 0.3,\n",
    "    'with_AP': True,\n",
    "    'z_AP': z_AP,\n",
    "    'Omega_m_AP': Om_AP,\n",
    "})\n",
    "\n",
    "correlator.compute(cosmo, module='class')\n",
    "\n",
    "newpk = correlator.get(bdict)"
   ]
  },
  {
   "cell_type": "code",
   "execution_count": null,
   "metadata": {},
   "outputs": [],
   "source": [
    "plt.figure()\n",
    "\n",
    "plt.plot(kdata, newpk[0]/crow.fullPs[0], 'C0--', label = 'mono')\n",
    "plt.plot(kdata, newpk[1]/crow.fullPs[1], 'C1--', label = 'quad')\n",
    "\n",
    "plt.ylim(1-.001, 1+.001)\n",
    "\n",
    "plt.legend()\n",
    "plt.show()"
   ]
  },
  {
   "cell_type": "code",
   "execution_count": null,
   "metadata": {},
   "outputs": [],
   "source": [
    "import pybird\n",
    "from importlib import reload\n",
    "reload(pybird)\n",
    "\n",
    "correlator = pybird.Correlator()\n",
    "\n",
    "bdict = { \"b1\": bs[0], \"b2\": bs[1], \"b3\": bs[2], \"b4\": bs[3], \"cct\": bs[4], \"cr1\": bs[5], \"cr2\": bs[6] }\n",
    "\n",
    "correlator.set({\n",
    "    'output': 'bPk',\n",
    "    'skycut': 2,\n",
    "    'multipole': 3, \n",
    "    'with_redshift_bin': True,\n",
    "    'zz': [zz, zzlow],\n",
    "    'nz': [nz, nzlow],\n",
    "    'xdata': [kdata, kdata],\n",
    "    'z': [zpk, zlow],\n",
    "    'optiresum': True,\n",
    "    'kmax': 0.3,\n",
    "    'with_AP': True,\n",
    "    'z_AP': [z_AP, zlow],\n",
    "    'Omega_m_AP': Om_AP,\n",
    "})\n",
    "\n",
    "correlator.compute(cosmo, module='class')\n",
    "\n",
    "newpk = correlator.get([bdict, bdict])"
   ]
  },
  {
   "cell_type": "code",
   "execution_count": null,
   "metadata": {},
   "outputs": [],
   "source": [
    "plt.figure()\n",
    "\n",
    "plt.plot(kdata, newpk[0][0]/crow.fullPs[0], 'C0-', label = 'mono')\n",
    "plt.plot(kdata, newpk[0][1]/crow.fullPs[1], 'C1-', label = 'quad')\n",
    "\n",
    "plt.plot(kdata, newpk[1][0]/crowlow.fullPs[0], 'C0-', label = 'mono')\n",
    "plt.plot(kdata, newpk[1][1]/crowlow.fullPs[1], 'C1-', label = 'quad')\n",
    "\n",
    "plt.ylim(1-.001, 1+.001)\n",
    "\n",
    "plt.legend()\n",
    "plt.show()"
   ]
  },
  {
   "cell_type": "markdown",
   "metadata": {},
   "source": [
    "### Check redshift dependence with a delta distribtuion"
   ]
  },
  {
   "cell_type": "code",
   "execution_count": null,
   "metadata": {},
   "outputs": [],
   "source": [
    "zzdelta = np.linspace(zpk-2e-2, zpk+2e-2, 20) # Probably 20 points are enough..\n",
    "# ... we will do a double integral, so the more points given, the more time it will take.\n",
    "\n",
    "nzdelta = Gaussian(zzdelta, p=(zpk, 1e-2))\n",
    "nzdelta /= np.trapz(nzdelta, x=zzdelta)\n",
    "\n",
    "plt.plot(zzdelta, nzdelta)\n",
    "plt.show()"
   ]
  },
  {
   "cell_type": "code",
   "execution_count": null,
   "metadata": {},
   "outputs": [],
   "source": [
    "import pybird\n",
    "from importlib import reload\n",
    "reload(pybird)\n",
    "\n",
    "correlator = pybird.Correlator()\n",
    "\n",
    "bdict = { \"b1\": bs[0], \"b2\": bs[1], \"b3\": bs[2], \"b4\": bs[3], \"cct\": bs[4], \"cr1\": bs[5], \"cr2\": bs[6] }\n",
    "\n",
    "correlator.set({\n",
    "    'output': 'bPk',\n",
    "    'skycut': 1,\n",
    "    'multipole': 3, \n",
    "    'with_redshift_bin': True,\n",
    "    'zz': zzdelta,\n",
    "    'nz': nzdelta,\n",
    "    'xdata': kdata,\n",
    "    'z': zpk,\n",
    "    'optiresum': True,\n",
    "    'kmax': 0.3,\n",
    "    'with_AP': True,\n",
    "    'z_AP': z_AP,\n",
    "    'Omega_m_AP': Om_AP,\n",
    "})\n",
    "\n",
    "correlator.compute(cosmo, module='class')\n",
    "\n",
    "newpk = correlator.get(bdict)"
   ]
  },
  {
   "cell_type": "code",
   "execution_count": null,
   "metadata": {},
   "outputs": [],
   "source": [
    "plt.figure()\n",
    "\n",
    "plt.plot(kdata, newpk[0]/bird.fullPs[0], 'C0--', label = 'mono')\n",
    "plt.plot(kdata, newpk[1]/bird.fullPs[1], 'C1--', label = 'quad')\n",
    "\n",
    "plt.ylim(1-.001, 1+.001)\n",
    "\n",
    "plt.legend()\n",
    "plt.show()"
   ]
  },
  {
   "cell_type": "code",
   "execution_count": null,
   "metadata": {},
   "outputs": [],
   "source": [
    "import pybird\n",
    "from importlib import reload\n",
    "reload(pybird)\n",
    "\n",
    "correlator = pybird.Correlator()\n",
    "\n",
    "bdict = { \"b1\": bs[0], \"b2\": bs[1], \"b3\": bs[2], \"b4\": bs[3], \"cct\": bs[4], \"cr1\": bs[5], \"cr2\": bs[6] }\n",
    "\n",
    "correlator.set({\n",
    "    'output': 'bCf',\n",
    "    'skycut': 1,\n",
    "    'multipole': 3, \n",
    "    'with_redshift_bin': True,\n",
    "    'zz': zzdelta,\n",
    "    'nz': nzdelta,\n",
    "    'xdata': sdata,\n",
    "    'z': zpk,\n",
    "    'optiresum': True,\n",
    "    'kmax': 0.3,\n",
    "    'with_AP': True,\n",
    "    'z_AP': z_AP,\n",
    "    'Omega_m_AP': Om_AP,\n",
    "})\n",
    "\n",
    "correlator.compute(cosmo, module='class')\n",
    "\n",
    "newcf = correlator.get(bdict)"
   ]
  },
  {
   "cell_type": "code",
   "execution_count": null,
   "metadata": {
    "scrolled": true
   },
   "outputs": [],
   "source": [
    "plt.figure()\n",
    "\n",
    "plt.plot(sdata, magpie.fullCf[0]/newcf[0], 'C0-', label = 'mono')\n",
    "plt.plot(sdata, magpie.fullCf[1]/newcf[1], 'C1-', label = 'quad')\n",
    "#plt.plot(sdata, magpie.fullCf[2]/newcf[2], 'C2-', label = 'hex')\n",
    "plt.ylim(1-.001, 1+.001)\n",
    "plt.xscale('log')"
   ]
  },
  {
   "cell_type": "markdown",
   "metadata": {},
   "source": [
    "## Angular correlation function"
   ]
  },
  {
   "cell_type": "code",
   "execution_count": null,
   "metadata": {},
   "outputs": [],
   "source": [
    "tam = np.geomspace(10., 300., 30)\n",
    "tdata = tam * np.pi/(60. * 180.) \n",
    "\n",
    "import pybird\n",
    "from importlib import reload\n",
    "reload(pybird)\n",
    "\n",
    "correlator = pybird.Correlator()\n",
    "\n",
    "bdict = { \"b1\": bs[0], \"b2\": bs[1], \"b3\": bs[2], \"b4\": bs[3], \"cct\": bs[4], \"cr1\": bs[5], \"cr2\": bs[6] }\n",
    "\n",
    "correlator.set({\n",
    "    'output': 'w',\n",
    "    'skycut': 1,\n",
    "    'zz': zz,\n",
    "    'nz': nz,\n",
    "    'xdata': tdata,\n",
    "    'z': zpk,\n",
    "})\n",
    "\n",
    "correlator.compute(cosmo, module='class')\n",
    "\n",
    "w = correlator.get(bdict)"
   ]
  },
  {
   "cell_type": "code",
   "execution_count": null,
   "metadata": {},
   "outputs": [],
   "source": [
    "import pybird\n",
    "from importlib import reload\n",
    "reload(pybird)\n",
    "\n",
    "correlator = pybird.Correlator()\n",
    "\n",
    "correlator.set({\n",
    "    'output': 'w',\n",
    "    'skycut': 1,\n",
    "    'zz': zzlow,\n",
    "    'nz': nzlow,\n",
    "    'xdata': tdata,\n",
    "    'z': zlow,\n",
    "})\n",
    "\n",
    "correlator.compute(cosmo, module='class')\n",
    "\n",
    "wlow = correlator.get(bdict)"
   ]
  },
  {
   "cell_type": "code",
   "execution_count": null,
   "metadata": {},
   "outputs": [],
   "source": [
    "plt.plot(tam, tam * w)\n",
    "plt.plot(tam, tam * wlow)\n",
    "plt.xscale('log')"
   ]
  },
  {
   "cell_type": "code",
   "execution_count": null,
   "metadata": {},
   "outputs": [],
   "source": [
    "import pybird\n",
    "from importlib import reload\n",
    "reload(pybird)\n",
    "\n",
    "correlator = pybird.Correlator()\n",
    "\n",
    "correlator.set({\n",
    "    'output': 'w',\n",
    "    'skycut': 3,\n",
    "    'zz': [zz, zzlow, zzlow],\n",
    "    'nz': [nz, nzlow, nzlow],\n",
    "    'xdata': tdata,\n",
    "    'z': [zpk, zlow, zlow],\n",
    "})\n",
    "\n",
    "correlator.compute(cosmo, module='class')\n",
    "\n",
    "wmulti = correlator.get([bdict, bdict, bdict])"
   ]
  },
  {
   "cell_type": "code",
   "execution_count": null,
   "metadata": {},
   "outputs": [],
   "source": [
    "plt.plot(tam, w/wmulti[0])\n",
    "plt.plot(tam, wlow/wmulti[1])\n",
    "plt.plot(tam, wlow/wmulti[2])\n",
    "plt.xscale('log')"
   ]
  },
  {
   "cell_type": "markdown",
   "metadata": {},
   "source": [
    "### Exact time dependence"
   ]
  },
  {
   "cell_type": "code",
   "execution_count": null,
   "metadata": {},
   "outputs": [],
   "source": [
    "import pybird\n",
    "from importlib import reload\n",
    "reload(pybird)\n",
    "\n",
    "commoneds = pybird.Common(Nl=3, kmax=kmax, optiresum=True, exact_time=False)\n",
    "nonlinear = pybird.NonLinear(load=True, save=True, co=commoneds)\n",
    "resum = pybird.Resum(co=commoneds)\n",
    "projection = pybird.Projection(kdata, Om_AP, z_AP, co=commoneds,\n",
    "    window_fourier_name='pynest_BOSS_CMASS_NGC_z057', \n",
    "    path_to_window='../montepython_tree/data/pybird/Window',\n",
    "    window_configspace_file='../montepython_tree/data/pybird/Window/window_BOSS_CMASS_NGC_z0p57.dat')"
   ]
  },
  {
   "cell_type": "code",
   "execution_count": null,
   "metadata": {},
   "outputs": [],
   "source": [
    "#bdict = { \"b1\": 0., \"b2\": 0., \"b3\": 0., \"b4\": 0., \"cct\": 0., \"cr1\": 0., \"cr2\": 0. }\n",
    "bdict = { \"b1\": bs[0], \"b2\": bs[1], \"b3\": bs[2], \"b4\": bs[3], \"cct\": bs[4], \"cr1\": bs[5], \"cr2\": bs[6] }\n",
    "\n",
    "cosmobird = {\n",
    "    'k11': kk,\n",
    "    'P11': Pk,\n",
    "    'f': f,\n",
    "    'DA': DA,\n",
    "    'H': H,\n",
    "    'D': None,\n",
    "    'z': zpk,\n",
    "    'Omega0_m': M.Omega0_m()\n",
    "}\n",
    "\n",
    "birdeds = pybird.Bird(cosmology=cosmobird, with_bias=True, co=commoneds)\n",
    "nonlinear.PsCf(birdeds)\n",
    "birdeds.setPsCf(bdict)\n",
    "resum.Ps(birdeds)\n",
    "#projection.AP(birdexact)\n",
    "#projection.Window(birdexact)\n",
    "projection.xdata(birdeds)"
   ]
  },
  {
   "cell_type": "code",
   "execution_count": null,
   "metadata": {},
   "outputs": [],
   "source": [
    "commonexact = pybird.Common(Nl=3, kmax=kmax, optiresum=True, exact_time=True)\n",
    "nonlinear = pybird.NonLinear(load=True, save=True, co=commonexact)\n",
    "resum = pybird.Resum(co=commonexact)\n",
    "projection = pybird.Projection(kdata, Om_AP, z_AP, co=commonexact,\n",
    "    window_fourier_name='pynest_BOSS_CMASS_NGC_z057', \n",
    "    path_to_window='../montepython_tree/data/pybird/Window',\n",
    "    window_configspace_file='../montepython_tree/data/pybird/Window/window_BOSS_CMASS_NGC_z0p57.dat')"
   ]
  },
  {
   "cell_type": "code",
   "execution_count": null,
   "metadata": {},
   "outputs": [],
   "source": [
    "# birdexact = pybird.Bird(cosmology=cosmo, with_bias=True, co=commonexact)\n",
    "# nonlinear.PsCf(birdexact)\n",
    "# birdexact.setPsCf(bdict)\n",
    "# resum.Ps(birdexact)\n",
    "# #projection.AP(birdexact)\n",
    "# #projection.Window(birdexact)\n",
    "# projection.xdata(birdexact)\n",
    "\n",
    "birdexact = pybird.Bird(cosmology=cosmobird, with_bias=False, co=commonexact)\n",
    "nonlinear.PsCf(birdexact)\n",
    "birdexact.setPsCfl()\n",
    "resum.Ps(birdexact)\n",
    "#projection.AP(birdexact)\n",
    "#projection.Window(birdexact)\n",
    "projection.xdata(birdexact)\n",
    "birdexact.setreducePslb(bdict)"
   ]
  },
  {
   "cell_type": "code",
   "execution_count": null,
   "metadata": {},
   "outputs": [],
   "source": [
    "plt.figure()\n",
    "\n",
    "plt.plot(kdata, birdexact.fullPs[0]/birdeds.fullPs[0], 'C0-', label = 'mono')\n",
    "plt.plot(kdata, birdexact.fullPs[1]/birdeds.fullPs[1], 'C1-', label = 'quad')\n",
    "#plt.plot(kdata, birdeds.fullPs[2]/birdexact.fullPs[2], 'C2-', label = 'hex')\n",
    "\n",
    "plt.xlim(0.005, 0.25)\n",
    "plt.xlabel(r'$k \\, [h/\\mathrm{Mpc}]$')\n",
    "plt.ylabel(r'$P_{\\rm old}(k)/P_{\\rm new}(k)$')\n",
    "#plt.ylim(1-.001, 1+.001)\n",
    "\n",
    "plt.show()"
   ]
  },
  {
   "cell_type": "markdown",
   "metadata": {},
   "source": [
    "### New interface"
   ]
  },
  {
   "cell_type": "code",
   "execution_count": null,
   "metadata": {},
   "outputs": [],
   "source": [
    "import pybird\n",
    "from importlib import reload\n",
    "reload(pybird)\n",
    "\n",
    "correlator = pybird.Correlator()\n",
    "\n",
    "correlator.set({\n",
    "    'output': 'bPk',\n",
    "    'skycut': 1,\n",
    "    'multipole': 3, \n",
    "    'with_exact_time': True,\n",
    "    'xdata': kdata,\n",
    "    'z': zpk,\n",
    "    'optiresum': True,\n",
    "    'kmax': 0.3,\n",
    "})\n",
    "\n",
    "correlator.compute(cosmo, module='class')\n",
    "\n",
    "newpk = correlator.get(bdict)"
   ]
  },
  {
   "cell_type": "code",
   "execution_count": null,
   "metadata": {},
   "outputs": [],
   "source": [
    "plt.plot(kdata, birdexact.fullPs[0]/newpk[0], 'C0-', label = 'mono')\n",
    "plt.plot(kdata, birdexact.fullPs[1]/newpk[1], 'C1-', label = 'quad')\n",
    "\n",
    "plt.xlim(0.005, 0.25)\n",
    "plt.xlabel(r'$k \\, [h/\\mathrm{Mpc}]$')\n",
    "plt.ylabel(r'$P_{\\rm old}(k)/P_{\\rm new}(k)$')\n",
    "plt.ylim(1-.001, 1+.001)"
   ]
  },
  {
   "cell_type": "markdown",
   "metadata": {},
   "source": [
    "### Exact time on wcdm"
   ]
  },
  {
   "cell_type": "code",
   "execution_count": null,
   "metadata": {},
   "outputs": [],
   "source": [
    "import pybird\n",
    "from importlib import reload\n",
    "reload(pybird)\n",
    "\n",
    "correlator = pybird.Correlator()\n",
    "\n",
    "correlator.set({\n",
    "    'output': 'bPk',\n",
    "    'skycut': 1,\n",
    "    'multipole': 3, \n",
    "    'with_exact_time': True,\n",
    "    'xdata': kdata,\n",
    "    'z': zpk,\n",
    "    'optiresum': True,\n",
    "    'kmax': 0.3,\n",
    "})\n",
    "\n",
    "cosmow =  {'ln10^{10}A_s': 3.044,\n",
    "       'n_s': 0.9649,\n",
    "       'h': 0.6736,\n",
    "       'omega_b': 0.02237,\n",
    "       'omega_cdm': 0.120,\n",
    "        'Omega_Lambda': 0.,\n",
    "        'w0_fld': -1.\n",
    "      }\n",
    "correlator.compute(cosmow, module='class')\n",
    "\n",
    "newpk = correlator.get(bdict)"
   ]
  },
  {
   "cell_type": "code",
   "execution_count": null,
   "metadata": {},
   "outputs": [],
   "source": [
    "plt.plot(kdata, birdexact.fullPs[0]/newpk[0], 'C0-', label = 'mono')\n",
    "plt.plot(kdata, birdexact.fullPs[1]/newpk[1], 'C1-', label = 'quad')\n",
    "\n",
    "plt.xlim(0.005, 0.25)\n",
    "plt.xlabel(r'$k \\, [h/\\mathrm{Mpc}]$')\n",
    "plt.ylabel(r'$P_{\\rm old}(k)/P_{\\rm new}(k)$')\n",
    "plt.ylim(1-.001, 1+.001)"
   ]
  },
  {
   "cell_type": "code",
   "execution_count": null,
   "metadata": {},
   "outputs": [],
   "source": [
    "import pybird\n",
    "from importlib import reload\n",
    "reload(pybird)\n",
    "\n",
    "\n",
    "correlator = pybird.Correlator()\n",
    "\n",
    "correlator.set({\n",
    "    'output': 'bPk',\n",
    "    'skycut': 1,\n",
    "    'multipole': 3, \n",
    "    'with_exact_time': True,\n",
    "    'xdata': kdata,\n",
    "    'z': zpk,\n",
    "    'optiresum': True,\n",
    "    'kmax': 0.3,\n",
    "})\n",
    "\n",
    "cosmow =  {'ln10^{10}A_s': 3.044,\n",
    "       'n_s': 0.9649,\n",
    "       'h': 0.6736,\n",
    "       'omega_b': 0.02237,\n",
    "       'omega_cdm': 0.120,\n",
    "        'Omega_Lambda': 0.,\n",
    "        'w0_fld': -.8\n",
    "      }\n",
    "\n",
    "correlator.compute(cosmow, module='class')\n",
    "\n",
    "newpk = correlator.get(bdict)"
   ]
  },
  {
   "cell_type": "code",
   "execution_count": null,
   "metadata": {},
   "outputs": [],
   "source": [
    "correlator = pybird.Correlator()\n",
    "\n",
    "correlator.set({\n",
    "    'output': 'bPk',\n",
    "    'skycut': 1,\n",
    "    'multipole': 3, \n",
    "    #'with_exact_time': True,\n",
    "    'xdata': kdata,\n",
    "    'z': zpk,\n",
    "    'optiresum': True,\n",
    "    'kmax': 0.3,\n",
    "})\n",
    "\n",
    "correlator.compute(cosmow, module='class')\n",
    "\n",
    "newpkeds = correlator.get(bdict)"
   ]
  },
  {
   "cell_type": "code",
   "execution_count": null,
   "metadata": {},
   "outputs": [],
   "source": [
    "plt.plot(kdata, newpk[0]/newpkeds[0], 'C0-', label = 'mono')\n",
    "plt.plot(kdata, newpk[1]/newpkeds[1], 'C1-', label = 'quad')\n",
    "\n",
    "plt.xlim(0.005, 0.25)\n",
    "plt.xlabel(r'$k \\, [h/\\mathrm{Mpc}]$')\n",
    "plt.ylabel(r'$P_{\\rm old}(k)/P_{\\rm new}(k)$')\n",
    "#plt.ylim(1-.001, 1+.001)"
   ]
  },
  {
   "cell_type": "markdown",
   "metadata": {},
   "source": [
    "### Caching"
   ]
  },
  {
   "cell_type": "code",
   "execution_count": null,
   "metadata": {},
   "outputs": [],
   "source": [
    "correlator = pybird.Correlator()\n",
    "\n",
    "config = {\n",
    "    'output': 'bPk',\n",
    "    'skycut': 1,\n",
    "    'multipole': 3, \n",
    "    'xdata': kdata,\n",
    "    'z': zpk,\n",
    "    'optiresum': True,\n",
    "    'kmax': 0.3,\n",
    "}\n",
    "\n",
    "correlator.set(config)\n",
    "\n",
    "correlator.compute(cosmo, module='class')\n",
    "\n",
    "cache_dict = correlator.cache(as_dict=True)\n",
    "cache_bird = correlator.cache(as_dict=False)\n",
    "\n",
    "directpk = correlator.get(bdict)"
   ]
  },
  {
   "cell_type": "code",
   "execution_count": null,
   "metadata": {},
   "outputs": [],
   "source": [
    "import pybird\n",
    "from importlib import reload\n",
    "reload(pybird)\n",
    "\n",
    "biascorrelator = pybird.BiasCorrelator()\n",
    "\n",
    "biascorrelator.set(config)\n",
    "\n",
    "biascorrelator.setcache(cache_dict, as_dict=True)\n",
    "\n",
    "#biascorrelator.setcache(cache_bird, as_dict=False)\n",
    "\n",
    "cachepk = biascorrelator.get(bdict)"
   ]
  },
  {
   "cell_type": "code",
   "execution_count": null,
   "metadata": {},
   "outputs": [],
   "source": [
    "plt.plot(kdata, cachepk[0]/directpk[0], 'C0-', label = 'mono')\n",
    "plt.plot(kdata, cachepk[1]/directpk[1], 'C1-', label = 'quad')\n",
    "plt.plot(kdata, cachepk[2]/directpk[2], 'C2-', label = 'quad')\n",
    "\n",
    "plt.xlim(0.005, 0.25)\n",
    "plt.xlabel(r'$k \\, [h/\\mathrm{Mpc}]$')\n",
    "plt.ylabel(r'$P_{\\rm old}(k)/P_{\\rm new}(k)$')\n",
    "#plt.ylim(1-.001, 1+.001)\n",
    "plt.show()"
   ]
  },
  {
   "cell_type": "code",
   "execution_count": null,
   "metadata": {},
   "outputs": [],
   "source": [
    "correlator = pybird.Correlator()\n",
    "\n",
    "configmulti = {\n",
    "    'output': 'bPk',\n",
    "    'skycut': 2,\n",
    "    'multipole': 3, \n",
    "    'xdata': [kdata, kdata],\n",
    "    'z': [zpk, zlow],\n",
    "    'optiresum': True,\n",
    "    'kmax': 0.3    \n",
    "}\n",
    "\n",
    "correlator.set(configmulti)\n",
    "\n",
    "correlator.compute(cosmo, module='class')\n",
    "\n",
    "cache_dict = correlator.cache(as_dict=True)\n",
    "cache_bird = correlator.cache(as_dict=False)\n",
    "\n",
    "directpk = correlator.get([bdict, bdict])"
   ]
  },
  {
   "cell_type": "code",
   "execution_count": null,
   "metadata": {},
   "outputs": [],
   "source": [
    "biascorrelator = pybird.BiasCorrelator()\n",
    "\n",
    "biascorrelator.set(configmulti)\n",
    "\n",
    "biascorrelator.setcache(cache_dict, as_dict=True)\n",
    "\n",
    "#biascorrelator.setcache(cache_bird, as_dict=False)\n",
    "\n",
    "cachepk = biascorrelator.get([bdict, bdict])"
   ]
  },
  {
   "cell_type": "code",
   "execution_count": null,
   "metadata": {},
   "outputs": [],
   "source": [
    "plt.plot(kdata, cachepk[0][0]/directpk[0][0], 'C0-', label = 'mono')\n",
    "plt.plot(kdata, cachepk[0][1]/directpk[0][1], 'C1-', label = 'quad')\n",
    "plt.plot(kdata, cachepk[0][2]/directpk[0][2], 'C2-', label = 'quad')\n",
    "\n",
    "plt.plot(kdata, cachepk[1][0]/directpk[1][0], 'C0-', label = 'mono')\n",
    "plt.plot(kdata, cachepk[1][1]/directpk[1][1], 'C1-', label = 'quad')\n",
    "plt.plot(kdata, cachepk[1][2]/directpk[1][2], 'C2-', label = 'quad')\n",
    "\n",
    "plt.xlim(0.005, 0.25)\n",
    "plt.xlabel(r'$k \\, [h/\\mathrm{Mpc}]$')\n",
    "plt.ylabel(r'$P_{\\rm old}(k)/P_{\\rm new}(k)$')\n",
    "#plt.ylim(1-.001, 1+.001)\n",
    "plt.show()"
   ]
  },
  {
   "cell_type": "code",
   "execution_count": null,
   "metadata": {},
   "outputs": [],
   "source": []
  }
 ],
 "metadata": {
  "kernelspec": {
   "display_name": "Python 3",
   "language": "python",
   "name": "python3"
  },
  "language_info": {
   "codemirror_mode": {
    "name": "ipython",
    "version": 3
   },
   "file_extension": ".py",
   "mimetype": "text/x-python",
   "name": "python",
   "nbconvert_exporter": "python",
   "pygments_lexer": "ipython3",
   "version": "3.7.3"
  }
 },
 "nbformat": 4,
 "nbformat_minor": 4
}
