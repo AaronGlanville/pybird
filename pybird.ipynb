{
 "cells": [
  {
   "cell_type": "markdown",
   "metadata": {},
   "source": [
    " TO DO\n",
    "* Test speed on resummation: quadpack vs. k-dependent FFTLog: quadpack could be faster because we can put all l' in the integrand, while for each l' there is one pseudo-FFTLog.\n",
    "* test DM vs. Bias -> 1, f -> 0 (FFTLog DM vs. C++ vs. pybird): DONE\n",
    "* test bias-loops (C++ vs. pybird): DONE\n",
    "* test pyfftw against numpy fft\n",
    "* remove shotnoise in P22 directly from 22-matrices (?)\n",
    "* put coef list C13 & C22 in class P13 and P22 resp.\n",
    "* coef list are bi * bj * f^n * mu[p][l]: for the bias-independent computation, find a （clever) way to recombine the loops that share the same biases: bi * bj * (f^n1 * mu[p1][l] * loop1 + f^n2 * mu[p2][l] * loop2 + ...) ; such that there are less terms to get resum."
   ]
  },
  {
   "cell_type": "code",
   "execution_count": 452,
   "metadata": {},
   "outputs": [],
   "source": [
    "import numpy as np\n",
    "from scipy.interpolate import interp1d\n",
    "from scipy.special import gamma\n",
    "from numpy.fft import rfft\n",
    "#import pyfftw\n",
    "import matplotlib.pyplot as plt\n",
    "import time\n",
    "import os"
   ]
  },
  {
   "cell_type": "code",
   "execution_count": 453,
   "metadata": {},
   "outputs": [],
   "source": [
    "NFFT = 256\n",
    "kminFFT = 1.5e-5\n",
    "kmaxFFT = 100."
   ]
  },
  {
   "cell_type": "markdown",
   "metadata": {},
   "source": [
    "# Test FFTLog"
   ]
  },
  {
   "cell_type": "code",
   "execution_count": 1580,
   "metadata": {},
   "outputs": [],
   "source": [
    "\n",
    "\n",
    "def CoefPow(ki, Pi, bias = -1.6, Nmax = NFFT, kmin = kminFFT, kmax = kmaxFFT):\n",
    "    \n",
    "    dk = np.log(kmax/kmin) / (Nmax-1.)\n",
    "    \n",
    "    Pinterp = interp1d(ki, Pi)\n",
    "    \n",
    "    k = np.empty(Nmax)\n",
    "    Pk = np.empty(Nmax)\n",
    "    \n",
    "    for i in range(Nmax): \n",
    "        k[i] = kmin * np.exp(i*dk)\n",
    "        Pk[i] = Pinterp(k[i]) * np.exp(-bias*i*dk)\n",
    "    \n",
    "    Pow = np.empty(Nmax+1, dtype = complex)\n",
    "    Coef = np.empty(Nmax+1, dtype = complex)\n",
    "    \n",
    "    for i in range(Nmax+1): \n",
    "        Pow[i] = bias + 1j * 2.*np.pi / (Nmax*dk) * (i - Nmax/2.)\n",
    "    \n",
    "    tmp = rfft(Pk)\n",
    "    \n",
    "    print (Pk.shape, tmp.shape)\n",
    "    \n",
    "    for i in range(Nmax+1):\n",
    "        if (i < Nmax/2): Coef[i] = np.conj(tmp[int(Nmax/2-i)]) * kmin**(-Pow[i]) / float(Nmax)\n",
    "        else: Coef[i] = tmp[int(i-Nmax/2)] * kmin**(-Pow[i]) / float(Nmax)\n",
    "    \n",
    "    Coef[0] /= 2.\n",
    "    Coef[Nmax] /= 2.\n",
    "    \n",
    "    return Coef, Pow"
   ]
  },
  {
   "cell_type": "markdown",
   "metadata": {},
   "source": [
    "P11 by FFTLog"
   ]
  },
  {
   "cell_type": "code",
   "execution_count": 876,
   "metadata": {},
   "outputs": [
    {
     "name": "stdout",
     "output_type": "stream",
     "text": [
      "(256,) (129,)\n",
      "-0.020409107208251953\n"
     ]
    },
    {
     "data": {
      "text/plain": [
       "(0.0001, 100000.0)"
      ]
     },
     "execution_count": 876,
     "metadata": {},
     "output_type": "execute_result"
    },
    {
     "data": {
      "image/png": "[encoded data removed]",
      "text/plain": [
       "<Figure size 432x288 with 1 Axes>"
      ]
     },
     "metadata": {
      "needs_background": "light"
     },
     "output_type": "display_data"
    }
   ],
   "source": [
    "k, Pk = np.loadtxt('PlinearDS1_matterpower.dat', unpack = True)\n",
    "\n",
    "start = time.time()\n",
    "\n",
    "cn, pn = CoefPow(k, Pk)\n",
    "\n",
    "stop = time.time()\n",
    "print (start-stop)\n",
    "\n",
    "PFFT = np.empty_like(k)\n",
    "for i, _ in enumerate(PFFT):\n",
    "    PFFT[i] = np.real( np.sum(cn * k[i]**pn) )\n",
    "\n",
    "plt.loglog(k, Pk)\n",
    "plt.loglog(k, PFFT)\n",
    "plt.ylim(1e-4,1e5)"
   ]
  },
  {
   "cell_type": "markdown",
   "metadata": {},
   "source": [
    "X0 IR-filter by FFTLog"
   ]
  },
  {
   "cell_type": "code",
   "execution_count": 877,
   "metadata": {},
   "outputs": [
    {
     "name": "stdout",
     "output_type": "stream",
     "text": [
      "(32,) (17,)\n"
     ]
    },
    {
     "data": {
      "text/plain": [
       "(0.0001, 1000000000000.0)"
      ]
     },
     "execution_count": 877,
     "metadata": {},
     "output_type": "execute_result"
    },
    {
     "data": {
      "image/png": "[encoded data removed]",
      "text/plain": [
       "<Figure size 432x288 with 1 Axes>"
      ]
     },
     "metadata": {
      "needs_background": "light"
     },
     "output_type": "display_data"
    }
   ],
   "source": [
    "k, Pk = np.loadtxt('PlinearDS1_matterpower.dat', unpack = True)\n",
    "\n",
    "LambdaIR = 0.12\n",
    "cn, pn = CoefPow(k, np.exp(-k**2/LambdaIR**2)*Pk/k**2, bias = -2.6, Nmax = 32)\n",
    "\n",
    "Pdk2 = np.empty_like(k)\n",
    "for i, _ in enumerate(X0):\n",
    "    Pdk2[i] = np.real( np.sum(cn * k[i]**pn) )\n",
    "\n",
    "plt.loglog(k, Pdk2)\n",
    "plt.loglog(k, np.exp(-k**2/LambdaIR**2) * Pk / k**2)\n",
    "plt.ylim(1e-4,1e12)"
   ]
  },
  {
   "cell_type": "markdown",
   "metadata": {},
   "source": [
    "Test Spherical Bessel Transform to get Cf11 and X0 and X2"
   ]
  },
  {
   "cell_type": "code",
   "execution_count": 878,
   "metadata": {},
   "outputs": [],
   "source": [
    "def Mj(l, pn):\n",
    "    return 1./(2.*np.pi**1.5) * 2.**(1.+pn) * gamma(0.5* (3.+l+pn) ) / gamma(0.5* (l-pn) )\n"
   ]
  },
  {
   "cell_type": "code",
   "execution_count": 879,
   "metadata": {},
   "outputs": [
    {
     "name": "stdout",
     "output_type": "stream",
     "text": [
      "(256,) (129,)\n",
      "(32,) (17,)\n"
     ]
    },
    {
     "data": {
      "text/plain": [
       "[<matplotlib.lines.Line2D at 0xd390fc278>]"
      ]
     },
     "execution_count": 879,
     "metadata": {},
     "output_type": "execute_result"
    },
    {
     "data": {
      "image/png": "[encoded data removed]",
      "text/plain": [
       "<Figure size 432x288 with 1 Axes>"
      ]
     },
     "metadata": {
      "needs_background": "light"
     },
     "output_type": "display_data"
    }
   ],
   "source": [
    "q = np.geomspace(0.1, 1000., 100)\n",
    "\n",
    "cn, pn = CoefPow(k, Pk)\n",
    "Mj0 = Mj(0, pn)\n",
    "\n",
    "Cf = np.empty_like(q)\n",
    "for i, qi in enumerate(q): Cf[i] = np.real( np.einsum('n,n,n->', Mj0, cn, qi**(-pn-3.) ) )\n",
    "\n",
    "c0n, p0n = CoefPow(k, np.exp(-k**2/LambdaIR**2)*Pk/k**2, bias = -2.6, Nmax = 32)\n",
    "MX0j0 = Mj(0, p0n)\n",
    "\n",
    "X0 = np.empty_like(q)\n",
    "for i, qi in enumerate(q): X0[i] = np.real( np.einsum('n,n,n->', MX0j0, c0n, qi**(-p0n-3.) ) )\n",
    "\n",
    "X0 = X0[0]-X0 \n",
    "\n",
    "MX0j2 = Mj(2, p0n)\n",
    "\n",
    "X2 = np.empty_like(q)\n",
    "for i, qi in enumerate(q): X2[i] = np.real( np.einsum('n,n,n->', MX0j2, c0n, qi**(-p0n-3.) ) )\n",
    "\n",
    "plt.semilogx(q, q**2*Cf)\n",
    "plt.semilogx(q, X0)\n",
    "plt.semilogx(q, X2)"
   ]
  },
  {
   "cell_type": "markdown",
   "metadata": {},
   "source": [
    "# FFTLog class"
   ]
  },
  {
   "cell_type": "code",
   "execution_count": 880,
   "metadata": {},
   "outputs": [
    {
     "data": {
      "text/plain": [
       "[<matplotlib.lines.Line2D at 0xd2ce68cf8>]"
      ]
     },
     "execution_count": 880,
     "metadata": {},
     "output_type": "execute_result"
    },
    {
     "data": {
      "image/png": "[encoded data removed]",
      "text/plain": [
       "<Figure size 432x288 with 1 Axes>"
      ]
     },
     "metadata": {
      "needs_background": "light"
     },
     "output_type": "display_data"
    }
   ],
   "source": [
    "class CoefPow(object):\n",
    "    def __init__(self, *args, **kwargs):\n",
    "        if args is not None: self.F = interp1d(args[0], args[1])\n",
    "        else: self.F = None\n",
    "        self.bias = kwargs['bias']\n",
    "        self.Nmax = kwargs['Nmax']\n",
    "        self.xmin = kwargs['xmin']\n",
    "        self.xmax = kwargs['xmax']\n",
    "        self.dx = np.log(self.xmax/self.xmin) / (self.Nmax-1.)\n",
    "        self.x = np.empty(self.Nmax)\n",
    "        self.Fx = np.zeros(self.Nmax)\n",
    "        self.setx()\n",
    "        if self.F is not None: self.setFx()\n",
    "        self.Pow = np.empty(self.Nmax+1, dtype = complex)\n",
    "        self.setPow()\n",
    "        self.tmp = np.empty(int(self.Nmax/2+1), dtype = complex)\n",
    "        self.Coef = np.empty(self.Nmax+1, dtype = complex)\n",
    "        if self.Fx.any(): self.setCoef()\n",
    "    \n",
    "    def setx(self):\n",
    "        for i in range(self.Nmax): \n",
    "            self.x[i] = self.xmin * np.exp(i*self.dx)\n",
    "            \n",
    "    def setFx(self):\n",
    "        for i in range(self.Nmax):\n",
    "            self.Fx[i] = self.F(self.x[i]) * np.exp(-self.bias*i*self.dx)\n",
    "        \n",
    "    def setPow(self):\n",
    "        for i in range(self.Nmax+1): \n",
    "            self.Pow[i] = self.bias + 1j * 2.*np.pi / (self.Nmax*self.dx) * (i - self.Nmax/2.)\n",
    "    \n",
    "    def setCoef(self):\n",
    "        self.tmp = rfft(self.Fx)\n",
    "        for i in range(self.Nmax+1):\n",
    "            if (i < self.Nmax/2): self.Coef[i] = np.conj(self.tmp[int(self.Nmax/2-i)]) * self.xmin**(-self.Pow[i]) / float(self.Nmax)\n",
    "            else: self.Coef[i] = self.tmp[int(i-self.Nmax/2)] * self.xmin**(-self.Pow[i]) / float(self.Nmax)\n",
    "        \n",
    "        self.Coef[0] /= 2.\n",
    "        self.Coef[self.Nmax] /= 2.\n",
    "    \n",
    "    def sumCoefPow(self, k):\n",
    "        PFFT = np.empty_like(k)\n",
    "        for i, _ in enumerate(k):\n",
    "            PFFT[i] = np.real( np.sum(self.Coef * k[i]**self.Pow) )\n",
    "        return PFFT\n",
    "\n",
    "P11 = CoefPow(k, Pk, bias = -1.6, Nmax = NFFT, xmin = kminFFT, xmax = kmaxFFT)\n",
    "P11FFT = P11.sumCoefPow(k)\n",
    "plt.loglog(k, Pk)\n",
    "plt.loglog(k, P11FFT)"
   ]
  },
  {
   "cell_type": "markdown",
   "metadata": {},
   "source": [
    "# Spherical Bessel Transform class"
   ]
  },
  {
   "cell_type": "code",
   "execution_count": 881,
   "metadata": {},
   "outputs": [
    {
     "name": "stdout",
     "output_type": "stream",
     "text": [
      "-0.0048100948333740234\n"
     ]
    },
    {
     "data": {
      "text/plain": [
       "[<matplotlib.lines.Line2D at 0xd301f1cc0>]"
      ]
     },
     "execution_count": 881,
     "metadata": {},
     "output_type": "execute_result"
    },
    {
     "data": {
      "image/png": "[encoded data removed]",
      "text/plain": [
       "<Figure size 432x288 with 1 Axes>"
      ]
     },
     "metadata": {
      "needs_background": "light"
     },
     "output_type": "display_data"
    }
   ],
   "source": [
    "class sBTslow(object):\n",
    "    def __init__(self, l, CoefPow):\n",
    "        self.l = l\n",
    "        self.Coef = CoefPow.Coef\n",
    "        self.Pow = CoefPow.Pow\n",
    "        self.M = np.empty_like(self.Pow)\n",
    "        self.setM()\n",
    "    \n",
    "    def setM(self):\n",
    "        if self.l is 0: self.M = -1./(2.*np.pi**2) * gamma(2.+self.Pow) * np.sin(0.5*self.Pow*np.pi)\n",
    "        # equivalent for l = 0 but slightly slower\n",
    "        else: self.M = 1./(2.*np.pi**1.5) * 2.**(1.+self.Pow) * gamma(0.5* (3.+self.l+self.Pow) ) / gamma(0.5* (self.l-self.Pow) )\n",
    "    \n",
    "    def dosBT(self, x):\n",
    "        return np.real( np.einsum('n,n,n->', self.M, self.Coef, x**(-self.Pow-3.) ) )\n",
    "\n",
    "q = np.geomspace(0.1, 1000., 100)\n",
    "sBT0 = sBTslow(0, P11)\n",
    "start = time.time()\n",
    "Cf = np.empty_like(q)\n",
    "for i, qi in enumerate(q): Cf[i] = sBT0.dosBT(qi)\n",
    "stop = time.time()\n",
    "print (start-stop)\n",
    "plt.semilogx(q, q**2*Cf)"
   ]
  },
  {
   "cell_type": "code",
   "execution_count": 882,
   "metadata": {},
   "outputs": [
    {
     "name": "stdout",
     "output_type": "stream",
     "text": [
      "-0.00026106834411621094\n"
     ]
    },
    {
     "data": {
      "text/plain": [
       "[<matplotlib.lines.Line2D at 0xd393202e8>]"
      ]
     },
     "execution_count": 882,
     "metadata": {},
     "output_type": "execute_result"
    },
    {
     "data": {
      "image/png": "[encoded data removed]",
      "text/plain": [
       "<Figure size 432x288 with 1 Axes>"
      ]
     },
     "metadata": {
      "needs_background": "light"
     },
     "output_type": "display_data"
    }
   ],
   "source": [
    "class sBTfast(object):\n",
    "    def __init__(self, l, Pow, x):\n",
    "        self.MxPow = np.einsum('n,nx->nx', self.M(l, Pow), np.exp(np.einsum('n,x->nx', -Pow-3., np.log(x))) )\n",
    "        \n",
    "    def M(self, l, Pow):\n",
    "        if l is 0: return -1./(2.*np.pi**2) * gamma(2.+Pow) * np.sin(0.5*Pow*np.pi)\n",
    "        # equivalent for l = 0 but slightly slower\n",
    "        else: return 1./(2.*np.pi**1.5) * 2.**(1.+Pow) * gamma(0.5* (3.+l+Pow) ) / gamma(0.5* (l-Pow) )\n",
    "        \n",
    "    def dosBT(self, Coef):\n",
    "        return np.real( np.einsum('n,nx->x', Coef, self.MxPow ) )\n",
    "\n",
    "q = np.geomspace(0.1, 1000., 100)\n",
    "sBT0 = sBTfast(0, P11.Pow, q)\n",
    "start = time.time()\n",
    "Cf = sBT0.dosBT(P11.Coef)\n",
    "stop = time.time()\n",
    "print (start-stop)\n",
    "plt.semilogx(q, q**2*Cf)"
   ]
  },
  {
   "cell_type": "code",
   "execution_count": 883,
   "metadata": {},
   "outputs": [
    {
     "name": "stdout",
     "output_type": "stream",
     "text": [
      "-0.00047898292541503906\n"
     ]
    }
   ],
   "source": [
    "class sBTfastopti(object):\n",
    "    def __init__(self, l, Pow, x, Coef = None):\n",
    "        self.MxPow = np.einsum('n,nx->nx', self.M(l, Pow), np.exp(np.einsum('n,x->nx', -Pow-3., np.log(x))) )\n",
    "        if Coef is not None: self.optipath = np.einsum_path('n,nx->x', Coef, self.MxPow, optimize='optimal')[0]\n",
    "        else: self.optipath = None\n",
    "        \n",
    "    def M(self, l, Pow):\n",
    "        if l is 0: return -1./(2.*np.pi**2) * gamma(2.+Pow) * np.sin(0.5*Pow*np.pi)\n",
    "        # equivalent for l = 0 but slightly slower\n",
    "        else: return 1./(2.*np.pi**1.5) * 2.**(1.+Pow) * gamma(0.5* (3.+l+Pow) ) / gamma(0.5* (l-Pow) )\n",
    "        \n",
    "    def dosBT(self, Coef):\n",
    "        return np.real( np.einsum('n,nx->x', Coef, self.MxPow, optimize=self.optipath ) )\n",
    "\n",
    "q = np.geomspace(0.1, 1000., 100)\n",
    "sBT0 = sBTfastopti(0, P11.Pow, q, P11.Coef)\n",
    "start = time.time()\n",
    "Cf = sBT0.dosBT(P11.Coef)\n",
    "stop = time.time()\n",
    "print (start-stop)"
   ]
  },
  {
   "cell_type": "markdown",
   "metadata": {},
   "source": [
    "# DM 1-loop"
   ]
  },
  {
   "cell_type": "code",
   "execution_count": 884,
   "metadata": {},
   "outputs": [],
   "source": [
    "def M22(i, Pow):\n",
    "    M = np.empty(shape=(Pow.shape[0], Pow.shape[0]), dtype='complex')\n",
    "    for i, n1 in enumerate(-0.5*Pow):\n",
    "        for j, n2 in enumerate(-0.5*Pow):\n",
    "            M[i,j] = (((3. - 2. * n1 - 2. * n2) * (1. - 2. * n1 - 2. * n2) * (98. * n1 * n2 * (n1 + n2)**2 - 91. * (n1 + n2)**2 + 36. * n1 * n2 - 14. * n1 * n2 * (n1 + n2) + 3. * (n1 + n2) + 58.))/(196. * n1 * n2 * (1. + n1) * (1. - 2. * n1) * (1. + n2) * (1. - 2. * n2))) * (gamma(1.5 - n1) * gamma(1.5 - n2) * gamma(-1.5 + n1 + n2))/(8. * np.pi**1.5 * gamma(n1) * gamma(3. - n1 - n2) * gamma(n2))\n",
    "    return M\n",
    "\n",
    "def M13(i, Pow):\n",
    "    n1 = -0.5*Pow\n",
    "    return (1. + 9. * n1)/4. * np.tan(n1 *np.pi)/(28 *np.pi * (n1 + 1.) * n1 * (n1 - 1.) * (n1 - 2.) * (n1 - 3.))"
   ]
  },
  {
   "cell_type": "code",
   "execution_count": 885,
   "metadata": {},
   "outputs": [],
   "source": [
    "class P13(object):\n",
    "    def __init__(self, i, Pow, x):\n",
    "        self.MxPow = np.einsum('x,n,nx->nx', x**3, M13(i, Pow), np.exp(np.einsum('n,x->nx', Pow, np.log(x))) )\n",
    "    \n",
    "    def makeloop(self, Coef, P11):\n",
    "        return np.real( np.einsum('n,x,nx->x', Coef, P11, self.MxPow ) )\n",
    "\n",
    "class P22(object):\n",
    "    def __init__(self, i, Pow, x):\n",
    "        xPow = np.exp(np.einsum('n,x->nx', Pow, np.log(x)))\n",
    "        self.MxPow = np.einsum('x,nm,nx,mx->nmx', x**3, M22(i, Pow), xPow, xPow)\n",
    "    \n",
    "    def makeloop(self, Coef):\n",
    "        return np.real( np.einsum('n,m,nmx->x', Coef, Coef, self.MxPow ) )"
   ]
  },
  {
   "cell_type": "code",
   "execution_count": 888,
   "metadata": {},
   "outputs": [
    {
     "name": "stdout",
     "output_type": "stream",
     "text": [
      "0.009690046310424805\n"
     ]
    },
    {
     "data": {
      "text/plain": [
       "[<matplotlib.lines.Line2D at 0xd38fadd30>]"
      ]
     },
     "execution_count": 888,
     "metadata": {},
     "output_type": "execute_result"
    },
    {
     "data": {
      "image/png": "[encoded data removed]",
      "text/plain": [
       "<Figure size 432x288 with 1 Axes>"
      ]
     },
     "metadata": {
      "needs_background": "light"
     },
     "output_type": "display_data"
    }
   ],
   "source": [
    "kp = np.arange(0.001, 0.5, 0.01)\n",
    "\n",
    "P22DM = P22(0, P11.Pow, kp)\n",
    "P13DM = P13(0, P11.Pow, kp)\n",
    "\n",
    "start = time.time()\n",
    "P22FFT = P22DM.makeloop(P11.Coef)\n",
    "P13FFT = P13DM.makeloop(P11.Coef, P11.F(kp))\n",
    "stop = time.time()\n",
    "print(stop-start)\n",
    "\n",
    "plt.plot(kp, P22FFT+P13FFT)\n",
    "plt.plot(kp, kp*P11.F(kp))"
   ]
  },
  {
   "cell_type": "markdown",
   "metadata": {},
   "source": [
    "# Bias 1-loop"
   ]
  },
  {
   "cell_type": "code",
   "execution_count": 1201,
   "metadata": {},
   "outputs": [],
   "source": [
    "M13b = {\n",
    "    0: lambda n1: 1.125,\n",
    "    1: lambda n1: -(1/(1 + n1)),\n",
    "    2: lambda n1: 2.25,\n",
    "    3: lambda n1: (3*(-1 + 3*n1))/(4.*(1 + n1)),\n",
    "    4: lambda n1: -(1/(1 + n1)),\n",
    "    5: lambda n1: -9/(4 + 4*n1),\n",
    "    6: lambda n1: (9 + 18*n1)/(4 + 4*n1),\n",
    "    7: lambda n1: (3*(-5 + 3*n1))/(8.*(1 + n1)),\n",
    "    8: lambda n1: -9/(4 + 4*n1),\n",
    "    9: lambda n1: (9*n1)/(4 + 4*n1),\n",
    "}\n",
    "\n",
    "def M13a(n1):\n",
    "    return np.tan(n1*np.pi)/(14.*(-3 + n1)*(-2 + n1)*(-1 + n1)*n1*np.pi)\n",
    "\n",
    "def M13(i, Pow):\n",
    "    return M13a(-0.5*Pow) * M13b[i](-0.5*Pow)"
   ]
  },
  {
   "cell_type": "code",
   "execution_count": 1518,
   "metadata": {},
   "outputs": [],
   "source": [
    "M22b = {\n",
    "    0: lambda n1, n2: (6 + n1**4*(4 - 24*n2) - 7*n2 + 8*n1**5*n2 - 13*n2**2 + 4*n2**3 + 4*n2**4 + n1**2*(-13 + 38*n2 + 12*n2**2 - 8*n2**3) + 2*n1**3*(2 - 5*n2 - 4*n2**2 + 8*n2**3) + n1*(-7 - 6*n2 + 38*n2**2 - 10*n2**3 - 24*n2**4 + 8*n2**5))/(4.*n1*(1 + n1)*(-1 + 2*n1)*n2*(1 + n2)*(-1 + 2*n2)),\n",
    "    1: lambda n1, n2: (-18 + n1**2*(1 - 11*n2) - 12*n2 + n2**2 + 10*n2**3 + 2*n1**3*(5 + 7*n2) + n1*(-12 - 38*n2 - 11*n2**2 + 14*n2**3))/(7.*n1*(1 + n1)*n2*(1 + n2)),\n",
    "    2: lambda n1, n2: (-3*n1 + 2*n1**2 + n2*(-3 + 2*n2))/(n1*n2),\n",
    "    3: lambda n1, n2: (-4*(-24 + n2 + 10*n2**2) + 2*n1*(-2 + 51*n2 + 21*n2**2) + n1**2*(-40 + 42*n2 + 98*n2**2))/(49.*n1*(1 + n1)*n2*(1 + n2)),\n",
    "    4: lambda n1, n2: (4*(3 - 2*n2 + n1*(-2 + 7*n2)))/(7.*n1*n2),\n",
    "    5: lambda n1, n2: 2,\n",
    "    6: lambda n1, n2: ((-3 + 2*n1 + 2*n2)*(-2 + 3*n2 + 4*n1**4*n2 + 3*n2**2 - 2*n2**3 + n1**3*(-2 - 2*n2 + 4*n2**2) + n1**2*(3 - 10*n2 - 4*n2**2 + 4*n2**3) + n1*(3 + 2*n2 - 10*n2**2 - 2*n2**3 + 4*n2**4)))/(2.*n1*(1 + n1)*(-1 + 2*n1)*n2*(1 + n2)*(-1 + 2*n2)),\n",
    "    7: lambda n1, n2: ((-3 + 2*n1 + 2*n2)*(2 + 4*n2 + 5*n2**2 + n1**2*(5 + 7*n2) + n1*(4 + 10*n2 + 7*n2**2)))/(7.*n1*(1 + n1)*n2*(1 + n2)),\n",
    "    8: lambda n1, n2: ((n1 + n2)*(-3 + 2*n1 + 2*n2))/(n1*n2),\n",
    "    9: lambda n1, n2: ((-3 + 2*n1 + 2*n2)*(10 - 23*n2 + 28*n1**4*n2 + 5*n2**2 + 2*n2**3 + n1**3*(2 - 46*n2 + 28*n2**2) + n1**2*(5 - 38*n2 - 28*n2**2 + 28*n2**3) + n1*(-23 + 94*n2 - 38*n2**2 - 46*n2**3 + 28*n2**4)))/(14.*n1*(1 + n1)*(-1 + 2*n1)*n2*(1 + n2)*(-1 + 2*n2)),\n",
    "    10: lambda n1, n2: ((-3 + 2*n1 + 2*n2)*(-58 + 4*n2 + 35*n2**2 + 7*n1**2*(5 + 7*n2) + n1*(4 + 14*n2 + 49*n2**2)))/(49.*n1*(1 + n1)*n2*(1 + n2)),\n",
    "    11: lambda n1, n2: ((-3 + 2*n1 + 2*n2)*(-8 + 7*n1 + 7*n2))/(7.*n1*n2),\n",
    "    12: lambda n1, n2: ((-3 + 2*n1 + 2*n2)*(-1 + 2*n1 + 2*n2)*(2 + 2*n1**3 - n2 - n2**2 + 2*n2**3 - n1**2*(1 + 2*n2) - n1*(1 + 2*n2 + 2*n2**2)))/(8.*n1*(1 + n1)*(-1 + 2*n1)*n2*(1 + n2)*(-1 + 2*n2)),\n",
    "    13: lambda n1, n2: ((1 + n1 + n2)*(2 + n1 + n2)*(-3 + 2*n1 + 2*n2)*(-1 + 2*n1 + 2*n2))/(8.*n1*(1 + n1)*n2*(1 + n2)),\n",
    "    14: lambda n1, n2: -((-3 + 2*n1 + 2*n2)*(-6 - n1 + 2*n1**2 - n2 + 2*n2**2))/(8.*n1*(1 + n1)*n2*(1 + n2)),\n",
    "    15: lambda n1, n2: ((-3 + 2*n1 + 2*n2)*(-1 + 2*n1 + 2*n2)*(38 + 41*n2 + 112*n1**3*n2 - 66*n2**2 + 2*n1**2*(-33 - 18*n2 + 56*n2**2) + n1*(41 - 232*n2 - 36*n2**2 + 112*n2**3)))/(56.*n1*(1 + n1)*(-1 + 2*n1)*n2*(1 + n2)*(-1 + 2*n2)),\n",
    "    16: lambda n1, n2: -((-3 + 2*n1 + 2*n2)*(9 + 3*n1 + 3*n2 + 7*n1*n2))/(14.*n1*(1 + n1)*n2*(1 + n2)),\n",
    "    17: lambda n1, n2: ((-3 + 2*n1 + 2*n2)*(-1 + 2*n1 + 2*n2)*(5 + 5*n1 + 5*n2 + 7*n1*n2))/(14.*n1*(1 + n1)*n2*(1 + n2)),\n",
    "    18: lambda n1, n2: (3 - 2*n1 - 2*n2)/(2.*n1*n2),\n",
    "    19: lambda n1, n2: ((-3 + 2*n1 + 2*n2)*(-1 + 2*n1 + 2*n2))/(2.*n1*n2),\n",
    "    20: lambda n1, n2: ((-3 + 2*n1 + 2*n2)*(-1 + 2*n1 + 2*n2)*(50 - 9*n2 + 98*n1**3*n2 - 35*n2**2 + 7*n1**2*(-5 - 18*n2 + 28*n2**2) + n1*(-9 - 66*n2 - 126*n2**2 + 98*n2**3)))/(196.*n1*(1 + n1)*(-1 + 2*n1)*n2*(1 + n2)*(-1 + 2*n2)),\n",
    "    21: lambda n1, n2: ((-3 + 2*n1 + 2*n2)*(-1 + 2*n1 + 2*n2)*(2 + n1 + 4*n1**3 + n2 - 8*n1*n2 - 8*n1**2*n2 - 8*n1*n2**2 + 4*n2**3))/(8.*n1*(1 + n1)*(-1 + 2*n1)*n2*(1 + n2)*(-1 + 2*n2)),\n",
    "    22: lambda n1, n2: ((2 + n1 + n2)*(-3 + 2*n1 + 2*n2)*(-1 + 2*n1 + 2*n2)*(1 + 2*n1 + 2*n2))/(8.*n1*(1 + n1)*n2*(1 + n2)),\n",
    "    23: lambda n1, n2: -((-3 + 2*n1 + 2*n2)*(-1 + 2*n1 + 2*n2)*(-2 + 7*n1 + 7*n2))/(56.*n1*(1 + n1)*n2*(1 + n2)),\n",
    "    24: lambda n1, n2: ((-3 + 2*n1 + 2*n2)*(-1 + 2*n1 + 2*n2)*(26 + 9*n2 + 56*n1**3*n2 - 38*n2**2 + 2*n1**2*(-19 - 18*n2 + 56*n2**2) + n1*(9 - 84*n2 - 36*n2**2 + 56*n2**3)))/(56.*n1*(1 + n1)*(-1 + 2*n1)*n2*(1 + n2)*(-1 + 2*n2)),\n",
    "    25: lambda n1, n2: (3*(-3 + 2*n1 + 2*n2)*(-1 + 2*n1 + 2*n2))/(32.*n1*(1 + n1)*n2*(1 + n2)),\n",
    "    26: lambda n1, n2: ((-3 + 2*n1 + 2*n2)*(-1 + 2*n1 + 2*n2)*(1 + 2*n1 + 2*n2)*(1 + 2*n1**2 - 8*n1*n2 + 2*n2**2))/(16.*n1*(1 + n1)*(-1 + 2*n1)*n2*(1 + n2)*(-1 + 2*n2)),\n",
    "    27: lambda n1, n2: ((-3 + 2*n1 + 2*n2)*(-1 + 2*n1 + 2*n2)*(1 + 2*n1 + 2*n2)*(3 + 2*n1 + 2*n2))/(32.*n1*(1 + n1)*n2*(1 + n2)),\n",
    "}\n",
    "\n",
    "\n",
    "def M22a(n1, n2):\n",
    "    return (gamma(1.5 - n1)*gamma(1.5 - n2)*gamma(-1.5 + n1 + n2))/(8.*np.pi**1.5*gamma(n1)*gamma(3 - n1 - n2)*gamma(n2))\n",
    "\n",
    "def M22(i, Pow):\n",
    "    M = np.empty(shape=(Pow.shape[0], Pow.shape[0]), dtype='complex')\n",
    "    for u, n1 in enumerate(-0.5*Pow):\n",
    "        for v, n2 in enumerate(-0.5*Pow):\n",
    "            M[u,v] = M22a(n1, n2) * M22b[i](n1, n2)\n",
    "    return M\n"
   ]
  },
  {
   "cell_type": "markdown",
   "metadata": {},
   "source": [
    "Slow class"
   ]
  },
  {
   "cell_type": "code",
   "execution_count": 1203,
   "metadata": {},
   "outputs": [],
   "source": [
    "class P13b(object):\n",
    "    def __init__(self, Pow, x, load=True, save=False, path='./'):\n",
    "        self.N = 10 # number of 13-loops\n",
    "        if load is True:\n",
    "            try: self.MxPow = np.load(os.path.join(path, 'M13b.npy'))\n",
    "            except: self.MxPow = self.makematrix(Pow, x, save=save, path=path)\n",
    "        else:\n",
    "            self.MxPow = self.makematrix(Pow, x, save=save, path=path)\n",
    "    \n",
    "    def makematrix(self, Pow, x, save=True, path='./'):\n",
    "        M = np.empty(shape=(self.N, Pow.shape[0], x.shape[0]), dtype='complex')\n",
    "        xPow = np.exp(np.einsum('n,x->nx', Pow, np.log(x)))\n",
    "        for i in range(self.N): M[i] = np.einsum('x,n,nx->nx', x**3, M13(i, Pow), xPow )\n",
    "        if save is True: np.save(os.path.join(path, 'M13b.npy'), M)\n",
    "        return M\n",
    "    \n",
    "    def makeloop(self, i, Coef, P11k):\n",
    "        return P11k * np.real( np.einsum('n,nx->x', Coef, self.MxPow[i]) )\n",
    "        # return np.real( np.einsum('n,x,nx->x', Coef, P11k, self.MxPow[i] ) )\n",
    "\n",
    "# This is fast to compute the loop, but slow to load the precomputed M22(n1,n2) * k^{i n1} * k^{i n2} * k^3\n",
    "class P22b(object):\n",
    "    def __init__(self, Pow, x, load=True, save=False, path='./'):\n",
    "        self.N = 28 # number of 22-loops\n",
    "        if load is True:\n",
    "            try: \n",
    "                self.MxPow = np.load(os.path.join(path, 'M22b.npy'))\n",
    "            except: self.MxPow = self.makematrix(Pow, x, save=save, path=path)\n",
    "        else: \n",
    "            self.MxPow = self.makematrix(Pow, x, save=save, path=path)\n",
    "        # for speeding-up the matrix multiplication:\n",
    "        self.optipath = np.einsum_path('n,m,nmx->x', Pow, Pow, self.MxPow[0], optimize='optimal')[0]\n",
    "    \n",
    "    def makematrix(self, Pow, x, save=True, path='./'):\n",
    "        M = np.empty(shape=(self.N, Pow.shape[0], Pow.shape[0], x.shape[0]), dtype='complex')\n",
    "        xPow = np.exp(np.einsum('n,x->nx', Pow, np.log(x)))\n",
    "        for i in range(self.N): M[i] = np.einsum('x,nm,nx,mx->nmx', x**3, M22(i, Pow), xPow, xPow)\n",
    "        if save is True: np.save(os.path.join(path, 'M22b.npy'), M)\n",
    "        return M\n",
    "    \n",
    "    def makeloop(self, i, Coef):\n",
    "        return np.real( np.einsum('n,m,nmx->x', Coef, Coef, self.MxPow[i], optimize=self.optipath ) )"
   ]
  },
  {
   "cell_type": "code",
   "execution_count": 1204,
   "metadata": {},
   "outputs": [],
   "source": [
    "ps13b = P13b(P11.Pow, kp, load=True, save=False, path = './')\n",
    "ps22b = P22b(P11.Pow, kp, load=True, save=False, path = './')"
   ]
  },
  {
   "cell_type": "code",
   "execution_count": 1205,
   "metadata": {},
   "outputs": [
    {
     "name": "stdout",
     "output_type": "stream",
     "text": [
      "1.1979799270629883\n"
     ]
    }
   ],
   "source": [
    "start = time.time()\n",
    "for i in range(ps22b.N): loop22 = ps22b.makeloop(i, P11.Coef)\n",
    "# for i in range(ps13b.N): loop13 = ps13b.makeloop(i, P11.Coef, P11.F(kp))\n",
    "stop = time.time()\n",
    "print(stop-start)"
   ]
  },
  {
   "cell_type": "markdown",
   "metadata": {},
   "source": [
    "Fast class"
   ]
  },
  {
   "cell_type": "code",
   "execution_count": 1520,
   "metadata": {},
   "outputs": [],
   "source": [
    "# This is faster that P22b to load and also faster to compute the loops\n",
    "class P22(object):\n",
    "    def __init__(self, Pow, x, load=True, save=False, path='./'):\n",
    "        self.N = 28 # number of 22-loops\n",
    "        if load is True:\n",
    "            try: \n",
    "                self.M = np.load(os.path.join(path, 'M22.npy'))\n",
    "            except: self.M = self.makematrix(Pow, save=save, path=path)\n",
    "        else: \n",
    "            self.M = self.makematrix(Pow, save=save, path=path)\n",
    "        self.xPow = np.exp(np.einsum('n,x->nx', Pow, np.log(x)))\n",
    "        # for speeding-up the matrix multiplication:\n",
    "        CoefxPow = np.einsum('n,nx->nx', Pow, self.xPow )\n",
    "        self.optipath = np.einsum_path('nx,mx,nm->x', CoefxPow, CoefxPow, self.M[0], optimize='optimal')[0]\n",
    "    \n",
    "    def makematrix(self, Pow, save=True, path='./'):\n",
    "        M = np.empty(shape=(self.N, Pow.shape[0], Pow.shape[0]), dtype='complex')\n",
    "        for i in range(self.N): M[i] = M22(i, Pow)\n",
    "        if save is True: np.save(os.path.join(path, 'M22.npy'), M)\n",
    "        return M\n",
    "    \n",
    "    def makeloop(self, i, Coef, Pow, k):\n",
    "        CoefxPow = np.einsum('n,nx->nx', Coef, self.xPow )\n",
    "        return k**3 * np.real( np.einsum('nx,mx,nm->x', CoefxPow, CoefxPow, self.M[i], optimize=self.optipath ) )\n",
    "    \n",
    "    def makebiasloop(self, Bias, Coef, Pow, k):\n",
    "        CoefxPow = np.einsum('n,nx->nx', Coef, self.xPow )\n",
    "        BiasM = np.einsum('b,bnm->nm', Bias, self.M)\n",
    "        return k**3 * np.real( np.einsum('nx,mx,nm->x', CoefxPow, CoefxPow, BiasM, optimize=self.optipath ) )\n",
    "    \n",
    "# P13b is marginally faster than P13. They are both fast (< ~ 0.01 s) so either can do\n",
    "class P13(object):\n",
    "    def __init__(self, Pow, x, load=True, save=False, path='./'):\n",
    "        self.N = 10 # number of 13-loops\n",
    "        if load is True:\n",
    "            try: self.M = np.load(os.path.join(path, 'M13.npy'))\n",
    "            except: self.M = self.makematrix(Pow, save=save, path=path)\n",
    "        else:\n",
    "            self.M = self.makematrix(Pow, save=save, path=path)\n",
    "        self.xPow = np.exp(np.einsum('n,x->nx', Pow, np.log(x)))\n",
    "        \n",
    "    def makematrix(self, Pow, save=True, path='./'):\n",
    "        M = np.empty(shape=(self.N, Pow.shape[0]), dtype='complex')\n",
    "        for i in range(self.N): M[i] = M13(i, Pow)\n",
    "        if save is True: np.save(os.path.join(path, 'M13.npy'), M)\n",
    "        return M\n",
    "    \n",
    "    def makeloop(self, i, Coef, Pow, k, P11k):\n",
    "        CoefxPow = np.einsum('n,nx->nx', Coef, self.xPow )\n",
    "        return k**3 * P11k * np.real( np.einsum('nx,n->x', CoefxPow, self.M[i]) )\n",
    "        # return np.real( np.einsum('n,x,nx->x', Coef, P11k, self.MxPow[i] ) )\n",
    "    \n",
    "    def makebiasloop(self, Bias, Coef, Pow, k, P11k):\n",
    "        CoefxPow = np.einsum('n,nx->nx', Coef, self.xPow )\n",
    "        BiasM = np.einsum('b,bn->n', Bias, self.M)\n",
    "        return k**3 * P11k * np.real( np.einsum('nx,n->x', CoefxPow, BiasM) )\n",
    "        # return np.real( np.einsum('n,x,nx->x', Coef, P11k, self.MxPow[i] ) )"
   ]
  },
  {
   "cell_type": "code",
   "execution_count": 1557,
   "metadata": {},
   "outputs": [
    {
     "name": "stdout",
     "output_type": "stream",
     "text": [
      "0.05067706108093262\n"
     ]
    }
   ],
   "source": [
    "start = time.time()\n",
    "ps22 = P22(P11.Pow, kp, load=True, save=False, path = './')\n",
    "ps13 = P13(P11.Pow, kp, load=False, save=True, path = './')\n",
    "stop = time.time()\n",
    "print(stop-start)"
   ]
  },
  {
   "cell_type": "code",
   "execution_count": 1558,
   "metadata": {},
   "outputs": [
    {
     "name": "stdout",
     "output_type": "stream",
     "text": [
      "0.03562331199645996\n"
     ]
    }
   ],
   "source": [
    "loop22 = np.empty(shape=(ps22.N,len(kp)))\n",
    "loop13 = np.empty(shape=(ps13.N,len(kp)))\n",
    "\n",
    "start = time.time()\n",
    "for i in range(ps22.N): loop22[i] = ps22.makeloop(i, P11.Coef, P11.Pow, kp)\n",
    "P11kp = P11.F(kp)\n",
    "for i in range(ps13.N): loop13[i] = ps13.makeloop(i, P11.Coef, P11.Pow, kp, P11kp)\n",
    "stop = time.time()\n",
    "print(stop-start)"
   ]
  },
  {
   "cell_type": "markdown",
   "metadata": {},
   "source": [
    "## Bias loop comparisons"
   ]
  },
  {
   "cell_type": "code",
   "execution_count": 1559,
   "metadata": {},
   "outputs": [],
   "source": [
    "mu = {\n",
    "    0: { 0: 1., 2: 0., 4: 0. },\n",
    "    2: { 0: 1./3., 2: 2./3., 4: 0. },\n",
    "    4: { 0: 1./5., 2: 4./7., 4: 8./35. },\n",
    "    6: { 0: 1./7., 2: 10./21., 4: 24./77. },\n",
    "    8: { 0: 1./9., 2: 40./99., 4: 48./148. }\n",
    "}"
   ]
  },
  {
   "cell_type": "markdown",
   "metadata": {},
   "source": [
    "Move those guys in the classes at some points:"
   ]
  },
  {
   "cell_type": "code",
   "execution_count": 1560,
   "metadata": {},
   "outputs": [],
   "source": [
    "def C13(l, bs, f):\n",
    "    b1, b2, b3, b4 = bs\n",
    "    return np.array([ b1**2*mu[0][l], b1*b3*mu[0][l], b1**2*f*mu[2][l], b1*f*mu[2][l], b3*f*mu[2][l], b1*f**2*mu[2][l], b1*f**2*mu[4][l], f**2*mu[4][l], f**3*mu[4][l], f**3*mu[6][l] ])\n",
    "\n",
    "def C22(l, bs, f):\n",
    "    b1, b2, b3, b4 = bs\n",
    "    return np.array([ b1**2*mu[0][l], b1*b2*mu[0][l], b1*b4*mu[0][l], b2**2*mu[0][l], b2*b4*mu[0][l], b4**2*mu[0][l], b1**2*f*mu[2][l], b1*b2*f*mu[2][l], b1*b4*f*mu[2][l], b1*f*mu[2][l], b2*f*mu[2][l], b4*f*mu[2][l], b1**2*f**2*mu[2][l], b1**2*f**2*mu[4][l], b1*f**2*mu[2][l], b1*f**2*mu[4][l], b2*f**2*mu[2][l], b2*f**2*mu[4][l], b4*f**2*mu[2][l], b4*f**2*mu[4][l], f**2*mu[4][l], b1*f**3*mu[4][l], b1*f**3*mu[6][l], f**3*mu[4][l], f**3*mu[6][l], f**4*mu[4][l], f**4*mu[6][l], f**4*mu[8][l] ])"
   ]
  },
  {
   "cell_type": "code",
   "execution_count": 1562,
   "metadata": {},
   "outputs": [
    {
     "data": {
      "text/plain": [
       "[<matplotlib.lines.Line2D at 0xd4de4dcf8>]"
      ]
     },
     "execution_count": 1562,
     "metadata": {},
     "output_type": "execute_result"
    },
    {
     "data": {
      "image/png": "[encoded data removed]",
      "text/plain": [
       "<Figure size 432x288 with 1 Axes>"
      ]
     },
     "metadata": {
      "needs_background": "light"
     },
     "output_type": "display_data"
    }
   ],
   "source": [
    "bs = np.array([1., 1., 1., 0.])\n",
    "l = 0\n",
    "f = 0.\n",
    "full13 = np.einsum('b,bx->x', C13(l, bs, f), loop13)\n",
    "full22 = np.einsum('b,bx->x', C22(l, bs, f), loop22)\n",
    "plt.plot(kp, kp*P11kp)\n",
    "plt.plot(kp, full13+full22-full22[0])\n",
    "plt.plot(kp, P13FFT+P22FFT, '--')"
   ]
  },
  {
   "cell_type": "code",
   "execution_count": 1212,
   "metadata": {},
   "outputs": [
    {
     "name": "stdout",
     "output_type": "stream",
     "text": [
      "0.011097908020019531\n"
     ]
    },
    {
     "data": {
      "text/plain": [
       "[<matplotlib.lines.Line2D at 0xd496bfb38>]"
      ]
     },
     "execution_count": 1212,
     "metadata": {},
     "output_type": "execute_result"
    },
    {
     "data": {
      "image/png": "[encoded data removed]",
      "text/plain": [
       "<Figure size 432x288 with 1 Axes>"
      ]
     },
     "metadata": {
      "needs_background": "light"
     },
     "output_type": "display_data"
    }
   ],
   "source": [
    "start = time.time()\n",
    "biasloop13 = ps13.makebiasloop(C13(l, bs, f), P11.Coef, P11.Pow, kp, P11kp)\n",
    "biasloop22 = ps22.makebiasloop(C22(l, bs, f), P11.Coef, P11.Pow, kp)\n",
    "stop = time.time()\n",
    "print(stop-start)\n",
    "\n",
    "plt.plot(kp, kp*P11kp)\n",
    "plt.plot(kp, full13+full22)\n",
    "plt.plot(kp, biasloop13 + biasloop22, '--')\n",
    "plt.plot(kp, P22FFT+P13FFT)"
   ]
  },
  {
   "cell_type": "code",
   "execution_count": 1554,
   "metadata": {},
   "outputs": [],
   "source": [
    "knl = 1.\n",
    "km = 1.\n",
    "nd = 4e-5\n",
    "\n",
    "fitCMASS = {'b1': 2.22, 'b2': 1.2 / np.sqrt(2.), 'b3': 0.1, 'b4': 1.2 / np.sqrt(2.),\n",
    "        'b5': 0.4, 'b6': -7.7, 'b7': 0., 'b8': 0.0,\n",
    "        'b9': 0., 'b10': -3.7, 'b11': 0,\n",
    "        'e1': 0, 'e2': 0}\n",
    "\n",
    "fitDM = {'b1': 1., 'b2': 1., 'b3': 1., 'b4': 0.,\n",
    "        'b5': 0., 'b6': 0., 'b7': 0., 'b8': 0.0,\n",
    "        'b9': 0., 'b10': 0., 'b11': 0,\n",
    "        'e1': 0, 'e2': 0}\n",
    "\n",
    "def get_bias(d_fit):\n",
    "    return np.array([#0, 1., d_fit['b1'], d_fit['b1']**2, \n",
    "                    0, 0, 0, 0,\n",
    "                      1., d_fit['b1'], d_fit['b2'], d_fit['b3'], d_fit['b4'],\n",
    "                      d_fit['b1']**2, d_fit['b1'] * d_fit['b2'], d_fit['b1'] * d_fit['b3'], d_fit['b1'] * d_fit['b4'],\n",
    "                      d_fit['b2']**2, d_fit['b2'] * d_fit['b4'], d_fit['b4']**2,\n",
    "                      d_fit['b1'] * d_fit['b5'] / knl**2, d_fit['b1'] * d_fit['b6'] / km**2,\n",
    "                      d_fit['b1'] * d_fit['b7'] / km**2, d_fit['b5'] / knl**2, d_fit['b6'] / km**2, d_fit['b7'] / km**2])\n",
    "\n",
    "def get_PSbias(name, dfit):\n",
    "    pbird = np.loadtxt(name, comments = '#')\n",
    "    k = pbird[:, 0].reshape(2,-1)[0]\n",
    "    pbird = pbird.reshape(2, len(k), pbird.shape[1])\n",
    "    v = get_bias(dfit)\n",
    "    PS = np.einsum('c,mkc->mk', v, pbird)\n",
    "    PS[0] = PS[0] + dfit['b8'] / nd + dfit['b9'] / nd / km**2 * k**2\n",
    "    PS[1] = PS[1] + dfit['b10'] / nd / km**2 * k**2\n",
    "    return k, PS"
   ]
  },
  {
   "cell_type": "code",
   "execution_count": 1576,
   "metadata": {},
   "outputs": [
    {
     "data": {
      "text/plain": [
       "(0, 0.5)"
      ]
     },
     "execution_count": 1576,
     "metadata": {},
     "output_type": "execute_result"
    },
    {
     "data": {
      "image/png": "[encoded data removed]",
      "text/plain": [
       "<Figure size 432x288 with 1 Axes>"
      ]
     },
     "metadata": {
      "needs_background": "light"
     },
     "output_type": "display_data"
    }
   ],
   "source": [
    "fittest = {'b1': 2.4, 'b2': 0.5, 'b3': 0.5, 'b4': 0.8,\n",
    "        'b5': 0., 'b6': 0., 'b7': 0., 'b8': 0.0,\n",
    "        'b9': 0., 'b10': 0., 'b11': 0,\n",
    "        'e1': 0, 'e2': 0}\n",
    "\n",
    "bs = np.array([2.4, 0.5, 0.5, 0.8])\n",
    "l = 0\n",
    "f = 0.5\n",
    "full13 = np.einsum('b,bx->x', C13(l, bs, f), loop13)\n",
    "full22 = np.einsum('b,bx->x', C22(l, bs, f), loop22)\n",
    "\n",
    "kc, pc = get_PSbias('output/PowerSpectraNoResum.dat', fittest)\n",
    "\n",
    "#plt.plot(kp, kp*P11kp, label = 'P11')\n",
    "plt.plot(kp, full13+full22-full22[0], label = 'pybird, b1->1, b234->0, f->0')\n",
    "#plt.plot(kp, P22FFT+P13FFT, label = 'DM', linestyle = '--')\n",
    "plt.plot(kc, pc[0], '.', label = 'c++bird, b123->1, b4->0, f->0')\n",
    "plt.legend()\n",
    "plt.xlim(0,0.5)"
   ]
  },
  {
   "cell_type": "markdown",
   "metadata": {},
   "source": [
    "## Bias 1-loop with f-dependent Kernels (for verification)"
   ]
  },
  {
   "cell_type": "code",
   "execution_count": 1574,
   "metadata": {},
   "outputs": [],
   "source": [
    "def C13f(l, bs):\n",
    "    b1, b2, b3, b4 = bs\n",
    "    return np.array([ b1**2*mu[2][l], b1**2*mu[0][l], b1*b3*mu[0][l], b1*mu[2][l], b1*mu[4][l], b3*mu[2][l], mu[4][l], mu[6][l] ])\n",
    "\n",
    "def C22f(l, bs):\n",
    "    b1, b2, b3, b4 = bs\n",
    "    return np.array([ b1**2*mu[2][l], b1*b2*mu[2][l], b1*b4*mu[2][l], b1**2*mu[4][l], b1**2*mu[0][l], b1*b2*mu[0][l], b1*b4*mu[0][l], b2**2*mu[0][l], b2*b4*mu[0][l], b4**2*mu[0][l], b1*mu[2][l], b1*mu[4][l], b1*mu[6][l], b2*mu[2][l], b2*mu[4][l], b4*mu[2][l], b4*mu[4][l], mu[4][l], mu[6][l], mu[8][l] ])\n",
    "\n",
    "M13fb = {\n",
    "    0: lambda n1, f1: (9*f1)/4.,\n",
    "    1: lambda n1, f1: 1.125,\n",
    "    2: lambda n1, f1: -(1/(1 + n1)),\n",
    "    3: lambda n1, f1: (-3*f1*(1 + 3*f1 - 3*n1))/(4.*(1 + n1)),\n",
    "    4: lambda n1, f1: (9*f1**2*(1 + 2*n1))/(4.*(1 + n1)),\n",
    "    5: lambda n1, f1: -(f1/(1 + n1)),\n",
    "    6: lambda n1, f1: (-3*f1**2*(5 + 6*f1 - 3*n1))/(8.*(1 + n1)),\n",
    "    7: lambda n1, f1: (9*f1**3*n1)/(4 + 4*n1),\n",
    "}\n",
    "\n",
    "def M13f(i, Pow, f1):\n",
    "    return M13a(-0.5*Pow) * M13fb[i](-0.5*Pow, f1)\n",
    "\n",
    "M22fb = {\n",
    "    0: lambda n1, n2, f1: (f1*(-3 + 2*n1 + 2*n2)*((-1 + n1 + 2*n1**2)*(8 - 4*n1 + f1*(2 + n1*(-3 + 2*n1))) + (4*(1 + 2*n1)*(3 + 2*(-2 + n1)*n1*(1 + n1)) + f1*(5 - 2*n1*(1 + 2*n1)))*n2 - (-12 + f1 + 4*(10 + f1)*n1 + 8*(2 + f1)*n1**2 - 16*n1**3)*n2**2 - 4*(2 + f1 + 2*n1 - 4*n1**2)*n2**3 + 4*(f1 + 4*n1)*n2**4))/(8.*n1*(1 + n1)*(-1 + 2*n1)*n2*(1 + n2)*(-1 + 2*n2)),\n",
    "    1: lambda n1, n2, f1: (f1*(-3 + 2*n1 + 2*n2)*(2 + n2*(4 + 5*n2) + n1**2*(5 + 7*n2) + n1*(4 + n2*(10 + 7*n2))))/(7.*n1*(1 + n1)*n2*(1 + n2)),\n",
    "    2: lambda n1, n2, f1: (f1*(n1 + n2)*(-3 + 2*n1 + 2*n2))/(n1*n2),\n",
    "    3: lambda n1, n2, f1: (f1**2*(1 + n1 + n2)*(2 + n1 + n2)*(-3 + 2*n1 + 2*n2)*(-1 + 2*n1 + 2*n2))/(8.*n1*(1 + n1)*n2*(1 + n2)),\n",
    "    4: lambda n1, n2, f1: (6 + n1*(1 + 2*n1)*(-7 + n1 + 2*n1**2) - 7*n2 + 2*n1*(-3 + n1*(19 + n1*(-5 + 4*(-3 + n1)*n1)))*n2 + (-13 + 2*n1*(19 + 6*n1 - 4*n1**2))*n2**2 + 2*(2 + n1*(-5 - 4*n1 + 8*n1**2))*n2**3 + 4*(1 - 6*n1)*n2**4 + 8*n1*n2**5)/(4.*n1*(1 + n1)*(-1 + 2*n1)*n2*(1 + n2)*(-1 + 2*n2)),\n",
    "    5: lambda n1, n2, f1: (n1**2*(1 - 11*n2) + 2*n1**3*(5 + 7*n2) + (-3 + 2*n2)*(6 + n2*(8 + 5*n2)) + n1*(-12 + n2*(-38 + n2*(-11 + 14*n2))))/(7.*n1*(1 + n1)*n2*(1 + n2)),\n",
    "    6: lambda n1, n2, f1: (-3 + 2*n1)/n2 + (-3 + 2*n2)/n1,\n",
    "    7: lambda n1, n2, f1: (2*(48 - 2*n1*(1 + 10*n1) - 2*n2 + 3*n1*(17 + 7*n1)*n2 + (-20 + 7*n1*(3 + 7*n1))*n2**2))/(49.*n1*(1 + n1)*n2*(1 + n2)),\n",
    "    8: lambda n1, n2, f1: (4*(3 - 2*n2 + n1*(-2 + 7*n2)))/(7.*n1*n2),\n",
    "    9: lambda n1, n2, f1: 2,\n",
    "    10: lambda n1, n2, f1: (f1*(-3 + 2*n1 + 2*n2)*(-7*f1*(-1 + 2*n1)*(-1 + 2*n2)*(n1*(-1 + 2*n1) + (-2 + n2)*(3 + 2*n2)) + 4*(28*n1**4*n2 + (-2 + n2)*(5 + n2)*(-1 + 2*n2) + n1**3*(2 - 46*n2 + 28*n2**2) + n1**2*(5 + 2*n2*(-19 + 14*(-1 + n2)*n2)) + n1*(-23 + 2*n2*(47 + n2*(-19 + n2*(-23 + 14*n2)))))))/(56.*n1*(1 + n1)*(-1 + 2*n1)*n2*(1 + n2)*(-1 + 2*n2)),\n",
    "    11: lambda n1, n2, f1: (f1**2*(-3 + 2*n1 + 2*n2)*(-1 + 2*n1 + 2*n2)*(38 + 112*n1**3*n2 + (41 - 66*n2)*n2 + 7*f1*(2 + n1 + 4*n1**3 + n2 - 8*n1*(1 + n1)*n2 - 8*n1*n2**2 + 4*n2**3) + 2*n1**2*(-33 + 2*n2*(-9 + 28*n2)) + n1*(41 + 4*n2*(-58 + n2*(-9 + 28*n2)))))/(56.*n1*(1 + n1)*(-1 + 2*n1)*n2*(1 + n2)*(-1 + 2*n2)),\n",
    "    12: lambda n1, n2, f1: (f1**3*(2 + n1 + n2)*(-3 + 2*n1 + 2*n2)*(-1 + 2*n1 + 2*n2)*(1 + 2*n1 + 2*n2))/(8.*n1*(1 + n1)*n2*(1 + n2)),\n",
    "    13: lambda n1, n2, f1: -(f1*(-3 + 2*n1 + 2*n2)*(7*f1*(9 + 3*n1 + 3*n2 + 7*n1*n2) - 2*(-58 + 7*n1**2*(5 + 7*n2) + n2*(4 + 35*n2) + n1*(4 + 7*n2*(2 + 7*n2)))))/(98.*n1*(1 + n1)*n2*(1 + n2)),\n",
    "    14: lambda n1, n2, f1: (f1**2*(-3 + 2*n1 + 2*n2)*(-1 + 2*n1 + 2*n2)*(5 + 5*n1 + 5*n2 + 7*n1*n2))/(14.*n1*(1 + n1)*n2*(1 + n2)),\n",
    "    15: lambda n1, n2, f1: -(f1*(-3 + 2*n1 + 2*n2)*(7*f1 - 2*(-8 + 7*n1 + 7*n2)))/(14.*n1*n2),\n",
    "    16: lambda n1, n2, f1: (f1**2*(-3 + 2*n1 + 2*n2)*(-1 + 2*n1 + 2*n2))/(2.*n1*n2),\n",
    "    17: lambda n1, n2, f1: (f1**2*(-3 + 2*n1 + 2*n2)*(-1 + 2*n1 + 2*n2)*(147*f1**2*(-1 + 2*n1)*(-1 + 2*n2) - 28*f1*(-1 + 2*n1)*(-1 + 2*n2)*(-2 + 7*n1 + 7*n2) + 8*(50 + 98*n1**3*n2 - n2*(9 + 35*n2) + 7*n1**2*(-5 + 2*n2*(-9 + 14*n2)) + n1*(-9 + 2*n2*(-33 + 7*n2*(-9 + 7*n2))))))/(1568.*n1*(1 + n1)*(-1 + 2*n1)*n2*(1 + n2)*(-1 + 2*n2)),\n",
    "    18: lambda n1, n2, f1: (f1**3*(-3 + 2*n1 + 2*n2)*(-1 + 2*n1 + 2*n2)*(7*f1*(1 + 2*n1 + 2*n2)*(1 + 2*(n1**2 - 4*n1*n2 + n2**2)) + 2*(26 + 56*n1**3*n2 + (9 - 38*n2)*n2 + 2*n1**2*(-19 + 2*n2*(-9 + 28*n2)) + n1*(9 + 4*n2*(-21 + n2*(-9 + 14*n2))))))/(112.*n1*(1 + n1)*(-1 + 2*n1)*n2*(1 + n2)*(-1 + 2*n2)),\n",
    "    19: lambda n1, n2, f1: (f1**4*(-3 + 2*n1 + 2*n2)*(-1 + 2*n1 + 2*n2)*(1 + 2*n1 + 2*n2)*(3 + 2*n1 + 2*n2))/(32.*n1*(1 + n1)*n2*(1 + n2)),\n",
    "}\n",
    "\n",
    "def M22f(i, Pow, f1):\n",
    "    M = np.empty(shape=(Pow.shape[0], Pow.shape[0]), dtype='complex')\n",
    "    for u, n1 in enumerate(-0.5*Pow):\n",
    "        for v, n2 in enumerate(-0.5*Pow):\n",
    "            M[u,v] = M22a(n1, n2) * M22fb[i](n1, n2, f1)\n",
    "    return M"
   ]
  },
  {
   "cell_type": "code",
   "execution_count": 1575,
   "metadata": {},
   "outputs": [
    {
     "name": "stdout",
     "output_type": "stream",
     "text": [
      "30.45192289352417\n"
     ]
    }
   ],
   "source": [
    "ftest = 0.5\n",
    "start = time.time()\n",
    "ps22f = P22f(P11.Pow, kp, ftest, load=False, save=True, path = './')\n",
    "ps13f = P13f(P11.Pow, kp, ftest, load=False, save=True, path = './')\n",
    "stop = time.time()\n",
    "print(stop-start)"
   ]
  },
  {
   "cell_type": "code",
   "execution_count": 1577,
   "metadata": {},
   "outputs": [
    {
     "name": "stdout",
     "output_type": "stream",
     "text": [
      "0.04085516929626465\n"
     ]
    }
   ],
   "source": [
    "loop22f = np.zeros(shape=(ps22f.N,len(kp)))\n",
    "loop13f = np.zeros(shape=(ps13f.N,len(kp)))\n",
    "\n",
    "start = time.time()\n",
    "for i in range(ps22f.N): loop22f[i] = ps22f.makeloop(i, P11.Coef, P11.Pow, kp)\n",
    "P11kp = P11.F(kp)\n",
    "for i in range(ps13f.N): loop13f[i] = ps13f.makeloop(i, P11.Coef, P11.Pow, kp, P11kp)\n",
    "stop = time.time()\n",
    "print(stop-start)"
   ]
  },
  {
   "cell_type": "markdown",
   "metadata": {},
   "source": [
    "full13 and full13f are the same but full22f is super weird"
   ]
  },
  {
   "cell_type": "code",
   "execution_count": 1579,
   "metadata": {},
   "outputs": [
    {
     "data": {
      "text/plain": [
       "[<matplotlib.lines.Line2D at 0xd4db0d0b8>]"
      ]
     },
     "execution_count": 1579,
     "metadata": {},
     "output_type": "execute_result"
    },
    {
     "data": {
      "image/png": "[encoded data removed]",
      "text/plain": [
       "<Figure size 432x288 with 1 Axes>"
      ]
     },
     "metadata": {
      "needs_background": "light"
     },
     "output_type": "display_data"
    }
   ],
   "source": [
    "l = 0\n",
    "full13f = np.einsum('b,bx->x', C13f(l, bs), loop13f)\n",
    "full22f = np.einsum('b,bx->x', C22f(l, bs), loop22f)\n",
    "#plt.plot(kp, kp*P11kp)\n",
    "plt.plot(kp, full13)\n",
    "plt.plot(kp, full13f, '--')\n",
    "plt.plot(kp, full22)\n",
    "plt.plot(kp, full22f, '--')\n",
    "#plt.plot(kp, P22FFT+P13FFT, '--')"
   ]
  },
  {
   "cell_type": "code",
   "execution_count": 1331,
   "metadata": {},
   "outputs": [],
   "source": [
    "### it saves time to precompute the common piece of M13's and M22's when computing the matrices, so we split them:\n",
    "\n",
    "### common piece in M13's\n",
    "def M13c(Pow):\n",
    "    return M13a(-0.5*Pow) \n",
    "\n",
    "### singular piece in M13's\n",
    "def M13d(i, Pow):\n",
    "    return M13b[i](-0.5*Pow)\n",
    "\n",
    "### common piece in M22's\n",
    "def M22c(Pow):\n",
    "    M = np.empty(shape=(Pow.shape[0], Pow.shape[0]), dtype='complex')\n",
    "    for u, n1 in enumerate(-0.5*Pow):\n",
    "        for v, n2 in enumerate(-0.5*Pow):\n",
    "            M[u,v] = M22a(n1, n2)\n",
    "    return M\n",
    "\n",
    "### singular piece in M22's\n",
    "def M22d(i, Pow):\n",
    "    M = np.empty(shape=(Pow.shape[0], Pow.shape[0]), dtype='complex')\n",
    "    for u, n1 in enumerate(-0.5*Pow):\n",
    "        for v, n2 in enumerate(-0.5*Pow):\n",
    "            M[u,v] = M22b[i](n1, n2)\n",
    "    return M"
   ]
  },
  {
   "cell_type": "code",
   "execution_count": 1356,
   "metadata": {},
   "outputs": [],
   "source": [
    "### matrix for spherical bessel transform from Power spectrum to Correlation function\n",
    "\n",
    "def MPC(l, Pow):\n",
    "        if l is 0: return -1./(2.*np.pi**2) * gamma(2.+Pow) * np.sin(0.5*Pow*np.pi)\n",
    "        # equivalent for l = 0 but slightly slower\n",
    "        else: return 1./(2.*np.pi**1.5) * 2.**(1.+Pow) * gamma(0.5* (3.+l+Pow) ) / gamma(0.5* (l-Pow) )"
   ]
  },
  {
   "cell_type": "code",
   "execution_count": 1461,
   "metadata": {},
   "outputs": [],
   "source": [
    "class Loop(object):\n",
    "    def __init__(self, Pow, k, s, Nl=3, load=True, save=False, path='./'):\n",
    "        \n",
    "        self.Nl = Nl\n",
    "        self.N22 = 28 # number of 22-loops\n",
    "        self.N13 = 10 # number of 13-loops\n",
    "        \n",
    "        if load is True:\n",
    "            try: \n",
    "                L = np.load(os.path.join(path, 'Loop.npz'))\n",
    "                self.M22, self.M13, self.Mcf22, self.Mcf13 = L['M22'], L['M13'], L['Mcf22'], L['Mcf13']\n",
    "                self.kPow, self.sPow = L['kPow'], L['sPow']\n",
    "            except: \n",
    "                print ('Can\\'t load saved matrices at %s. \\n Computing them instead.'%path)\n",
    "                load = False\n",
    "        \n",
    "        if load is False:\n",
    "            self.makeM22(Pow)\n",
    "            self.makeM13(Pow)\n",
    "            self.makeMl(Pow)\n",
    "            self.makeMcf22(Pow)\n",
    "            self.makeMcf13(Pow)\n",
    "            self.makekPow(Pow, k)\n",
    "            self.makesPow(Pow, s)\n",
    "        \n",
    "        if save is True:\n",
    "            try:\n",
    "                np.savez( os.path.join(path, 'Loop.npz'), \n",
    "                     M22=self.M22, M13=self.M13, Mcf22=self.Mcf22, Mcf13=self.Mcf13, kPow=self.kPow, sPow=self.sPow )\n",
    "            except:\n",
    "                print ('Can\\'t save matrices at %s.'%path)\n",
    "        \n",
    "        self.CoefkPow = np.zeros_like(self.kPow)\n",
    "        self.CoefsPow = np.zeros_like(self.sPow)\n",
    "        \n",
    "        # To speed-up matrix multiplication:\n",
    "        self.optipathP = np.einsum_path('nk,mk,inm->ik', self.CoefkPow, self.CoefkPow, self.M22, optimize='optimal')[0]\n",
    "        self.optipathCf13 = np.einsum_path('ns,ms,ilnm->ils', self.CoefsPow, self.CoefsPow, self.Mcf22, optimize='optimal')[0]\n",
    "        self.optipathCf22 = np.einsum_path('ns,ms,ilnm->ils', self.CoefsPow, self.CoefsPow, self.Mcf13, optimize='optimal')[0]\n",
    "    \n",
    "    def makeM22(self, Pow, save=True, path='./'):\n",
    "        self.M22 = np.empty(shape=(self.N22, Pow.shape[0], Pow.shape[0]), dtype='complex')\n",
    "        # common piece of M22\n",
    "        Ma = np.empty(shape=(Pow.shape[0], Pow.shape[0]), dtype='complex')\n",
    "        for u, n1 in enumerate(-0.5*Pow):\n",
    "            for v, n2 in enumerate(-0.5*Pow):\n",
    "                Ma[u,v] = M22a(n1, n2)\n",
    "        for i in range(self.N22): \n",
    "            # singular piece of M22\n",
    "            Mb = np.empty(shape=(Pow.shape[0], Pow.shape[0]), dtype='complex')\n",
    "            for u, n1 in enumerate(-0.5*Pow):\n",
    "                for v, n2 in enumerate(-0.5*Pow):\n",
    "                    Mb[u,v] = M22b[i](n1, n2)\n",
    "            self.M22[i] = Ma*Mb\n",
    "    \n",
    "    def makeM13(self, Pow, save=True, path='./'):\n",
    "        self.M13 = np.empty(shape=(self.N13, Pow.shape[0]), dtype='complex')\n",
    "        Ma = M13a(-0.5*Pow)\n",
    "        for i in range(self.N13): self.M13[i] = Ma*M13b[i](-0.5*Pow)\n",
    "    \n",
    "    def makeMl(self, Pow):\n",
    "        self.Ml = np.empty(shape=(self.Nl, Pow.shape[0], Pow.shape[0]), dtype='complex')\n",
    "        for l in range(self.Nl):\n",
    "            for u, n1 in enumerate(-0.5*Pow):\n",
    "                for v, n2 in enumerate(-0.5*Pow):\n",
    "                    self.Ml[l,u,v] = MPC(2*l, -0.5*n1-0.5*n2-1.5)\n",
    "    \n",
    "    def makeMcf22(self, Pow, save=True, path='./'):\n",
    "        self.Mcf22 = np.einsum('lnm,inm->ilnm', self.Ml, self.M22)\n",
    "    \n",
    "    def makeMcf13(self, Pow, save=True, path='./'):\n",
    "        self.Mcf13 = np.einsum('lnm,in,im->ilnm', self.Ml, self.M13, self.M13)\n",
    "    \n",
    "    def makekPow(self, Pow, k):\n",
    "        self.kPow = np.exp(np.einsum('n,k->nk', Pow, np.log(k)))\n",
    "    \n",
    "    def makesPow(self, Pow, s):\n",
    "        self.sPow = np.exp(np.einsum('n,s->ns', -Pow-3., np.log(s)))\n",
    "    \n",
    "    def makeCoefkPow(self, Coef):\n",
    "        self.CoefkPow = np.einsum('n,nk->nk', Coef, self.kPow )\n",
    "    \n",
    "    def makeCoefsPow(self, Coef):\n",
    "        self.CoefsPow = np.einsum('n,ns->ns', Coef, self.sPow )\n",
    "    \n",
    "    def makeP22(self, k):\n",
    "        return k**3 * np.real( np.einsum('nk,mk,inm->ik', self.CoefkPow, self.CoefkPow, self.M22, optimize=self.optipathP ) )\n",
    "    \n",
    "    def makeP13(self, k, P11k):\n",
    "        return k**3 * P11k * np.real( np.einsum('nk,in->ik', self.CoefkPow, self.M13) )\n",
    "    \n",
    "#     def makebiaspsloop(self, Bias, Coef, Pow, k):\n",
    "#         BiasM22 = np.einsum('b,bnm->nm', Bias, self.M22)\n",
    "#         return k**3 * np.real( np.einsum('nk,mk,nm->k', CoefkPow, CoefkPow, BiasM, optimize=self.optipath ) )\n",
    "    \n",
    "    def makeCf22(self):\n",
    "        return np.real( np.einsum('ns,ms,ilnm->ils', self.CoefsPow, self.CoefsPow, self.Mcf22, optimize=self.optipathCf22 ) )\n",
    "    \n",
    "    def makeCf13(self):\n",
    "        return np.real( np.einsum('ns,ms,ilnm->ils', self.CoefsPow, self.CoefsPow, self.Mcf13, optimize=self.optipathCf13 ) )\n",
    "    \n",
    "    "
   ]
  },
  {
   "cell_type": "code",
   "execution_count": 1491,
   "metadata": {},
   "outputs": [
    {
     "name": "stdout",
     "output_type": "stream",
     "text": [
      "0.27576398849487305\n"
     ]
    }
   ],
   "source": [
    "p = np.arange(0.001, 0.5, 0.01)\n",
    "r = np.geomspace(1, 1000., 100)\n",
    "\n",
    "start = time.time()\n",
    "P1 = Loop(P11.Pow, p, r, load=True, save=False)\n",
    "stop = time.time()\n",
    "print(stop-start)"
   ]
  },
  {
   "cell_type": "code",
   "execution_count": 1513,
   "metadata": {},
   "outputs": [
    {
     "name": "stdout",
     "output_type": "stream",
     "text": [
      "0.0375368595123291\n",
      "-0.2019510269165039\n"
     ]
    }
   ],
   "source": [
    "P1.makeCoefsPow(P11.Coef)\n",
    "P1.makeCoefkPow(P11.Coef)\n",
    "\n",
    "start = time.time()\n",
    "P22 = P1.makeP22(p)\n",
    "P13 = P1.makeP13(p, P11.F(p))\n",
    "stop = time.time()\n",
    "print(stop-start)\n",
    "\n",
    "Cf22 = P1.makeCf22()\n",
    "Cf13 = P1.makeCf13()\n",
    "start = time.time()\n",
    "print(stop-start)"
   ]
  },
  {
   "cell_type": "code",
   "execution_count": 1517,
   "metadata": {},
   "outputs": [
    {
     "data": {
      "text/plain": [
       "<matplotlib.legend.Legend at 0xd9b08a400>"
      ]
     },
     "execution_count": 1517,
     "metadata": {},
     "output_type": "execute_result"
    },
    {
     "data": {
      "image/png": "[encoded data removed]",
      "text/plain": [
       "<Figure size 432x288 with 1 Axes>"
      ]
     },
     "metadata": {
      "needs_background": "light"
     },
     "output_type": "display_data"
    }
   ],
   "source": [
    "bs = np.array([1., 0., 0., 0.])\n",
    "l = 0\n",
    "f = 0.\n",
    "Cf13full = np.einsum('b,bx->x', C13(l, bs, f), Cf13[:,l,:])\n",
    "Cf22full = np.einsum('b,bx->x', C22(l, bs, f), Cf22[:,l,:])\n",
    "\n",
    "#plt.plot(kp, kp*P11kp, label = 'P11')\n",
    "plt.semilogx(r, r**2*(Cf13full), label = 'pybird, b1->1, b234->0, f->0')\n",
    "plt.legend()"
   ]
  },
  {
   "cell_type": "code",
   "execution_count": null,
   "metadata": {},
   "outputs": [],
   "source": []
  }
 ],
 "metadata": {
  "kernelspec": {
   "display_name": "Python 3",
   "language": "python",
   "name": "python3"
  },
  "language_info": {
   "codemirror_mode": {
    "name": "ipython",
    "version": 3
   },
   "file_extension": ".py",
   "mimetype": "text/x-python",
   "name": "python",
   "nbconvert_exporter": "python",
   "pygments_lexer": "ipython3",
   "version": "3.7.3"
  }
 },
 "nbformat": 4,
 "nbformat_minor": 2
}
