{
 "cells": [
  {
   "cell_type": "code",
   "execution_count": null,
   "metadata": {},
   "outputs": [],
   "source": [
    "### TO DO\n",
    "# test pyfftw against numpy fft?\n",
    "# remove shotnoise in P22 directly from 22-matrices?\n",
    "#"
   ]
  },
  {
   "cell_type": "code",
   "execution_count": 452,
   "metadata": {},
   "outputs": [],
   "source": [
    "import numpy as np\n",
    "from scipy.interpolate import interp1d\n",
    "from scipy.special import gamma\n",
    "from numpy.fft import rfft\n",
    "#import pyfftw\n",
    "import matplotlib.pyplot as plt\n",
    "import time\n",
    "import os"
   ]
  },
  {
   "cell_type": "code",
   "execution_count": 453,
   "metadata": {},
   "outputs": [],
   "source": [
    "NFFT = 256\n",
    "kminFFT = 1.5e-5\n",
    "kmaxFFT = 100."
   ]
  },
  {
   "cell_type": "markdown",
   "metadata": {},
   "source": [
    "# Test FFTLog"
   ]
  },
  {
   "cell_type": "code",
   "execution_count": 454,
   "metadata": {},
   "outputs": [],
   "source": [
    "def CoefPow(ki, Pi, bias = -1.6, Nmax = NFFT, kmin = kminFFT, kmax = kmaxFFT):\n",
    "    \n",
    "    dk = np.log(kmax/kmin) / (Nmax-1.)\n",
    "    \n",
    "    Pinterp = interp1d(ki, Pi)\n",
    "    \n",
    "    k = np.empty(Nmax)\n",
    "    Pk = np.empty(Nmax)\n",
    "    \n",
    "    for i in range(Nmax): \n",
    "        k[i] = kmin * np.exp(i*dk)\n",
    "        Pk[i] = Pinterp(k[i]) * np.exp(-bias*i*dk)\n",
    "    \n",
    "    Pow = np.empty(Nmax+1, dtype = complex)\n",
    "    Coef = np.empty(Nmax+1, dtype = complex)\n",
    "    \n",
    "    for i in range(Nmax+1): \n",
    "        Pow[i] = bias + 1j * 2.*np.pi / (Nmax*dk) * (i - Nmax/2.)\n",
    "    \n",
    "    tmp = rfft(Pk)\n",
    "    \n",
    "    print (Pk.shape, tmp.shape)\n",
    "    \n",
    "    for i in range(Nmax+1):\n",
    "        if (i < Nmax/2): Coef[i] = np.conj(tmp[int(Nmax/2-i)]) * kmin**(-Pow[i]) / float(Nmax)\n",
    "        else: Coef[i] = tmp[int(i-Nmax/2)] * kmin**(-Pow[i]) / float(Nmax)\n",
    "    \n",
    "    Coef[0] /= 2.\n",
    "    Coef[Nmax] /= 2.\n",
    "    \n",
    "    return Coef, Pow"
   ]
  },
  {
   "cell_type": "markdown",
   "metadata": {},
   "source": [
    "P11 by FFTLog"
   ]
  },
  {
   "cell_type": "code",
   "execution_count": 455,
   "metadata": {},
   "outputs": [
    {
     "name": "stdout",
     "output_type": "stream",
     "text": [
      "(256,) (129,)\n",
      "-0.01125192642211914\n"
     ]
    },
    {
     "data": {
      "text/plain": [
       "(0.0001, 100000.0)"
      ]
     },
     "execution_count": 455,
     "metadata": {},
     "output_type": "execute_result"
    },
    {
     "data": {
      "image/png": "[encoded data removed]",
      "text/plain": [
       "<Figure size 432x288 with 1 Axes>"
      ]
     },
     "metadata": {
      "needs_background": "light"
     },
     "output_type": "display_data"
    }
   ],
   "source": [
    "k, Pk = np.loadtxt('class_pk.dat', unpack = True)\n",
    "\n",
    "start = time.time()\n",
    "\n",
    "cn, pn = CoefPow(k, Pk)\n",
    "\n",
    "stop = time.time()\n",
    "print (start-stop)\n",
    "\n",
    "PFFT = np.empty_like(k)\n",
    "for i, _ in enumerate(PFFT):\n",
    "    PFFT[i] = np.real( np.sum(cn * k[i]**pn) )\n",
    "\n",
    "plt.loglog(k, Pk)\n",
    "plt.loglog(k, PFFT)\n",
    "plt.ylim(1e-4,1e5)"
   ]
  },
  {
   "cell_type": "markdown",
   "metadata": {},
   "source": [
    "X0 IR-filter by FFTLog"
   ]
  },
  {
   "cell_type": "code",
   "execution_count": 456,
   "metadata": {},
   "outputs": [
    {
     "name": "stdout",
     "output_type": "stream",
     "text": [
      "(32,) (17,)\n"
     ]
    },
    {
     "data": {
      "text/plain": [
       "(0.0001, 1000000000000.0)"
      ]
     },
     "execution_count": 456,
     "metadata": {},
     "output_type": "execute_result"
    },
    {
     "data": {
      "image/png": "[encoded data removed]",
      "text/plain": [
       "<Figure size 432x288 with 1 Axes>"
      ]
     },
     "metadata": {
      "needs_background": "light"
     },
     "output_type": "display_data"
    }
   ],
   "source": [
    "k, Pk = np.loadtxt('class_pk.dat', unpack = True)\n",
    "\n",
    "LambdaIR = 0.12\n",
    "cn, pn = CoefPow(k, np.exp(-k**2/LambdaIR**2)*Pk/k**2, bias = -2.6, Nmax = 32)\n",
    "\n",
    "Pdk2 = np.empty_like(k)\n",
    "for i, _ in enumerate(X0):\n",
    "    Pdk2[i] = np.real( np.sum(cn * k[i]**pn) )\n",
    "\n",
    "plt.loglog(k, Pdk2)\n",
    "plt.loglog(k, np.exp(-k**2/LambdaIR**2) * Pk / k**2)\n",
    "plt.ylim(1e-4,1e12)"
   ]
  },
  {
   "cell_type": "markdown",
   "metadata": {},
   "source": [
    "Test Spherical Bessel Transform to get Cf11 and X0 and X2"
   ]
  },
  {
   "cell_type": "code",
   "execution_count": 457,
   "metadata": {},
   "outputs": [],
   "source": [
    "def Mj(l, pn):\n",
    "    return 1./(2.*np.pi**1.5) * 2.**(1.+pn) * gamma(0.5* (3.+l+pn) ) / gamma(0.5* (l-pn) )\n"
   ]
  },
  {
   "cell_type": "code",
   "execution_count": 458,
   "metadata": {},
   "outputs": [
    {
     "name": "stdout",
     "output_type": "stream",
     "text": [
      "(256,) (129,)\n",
      "(32,) (17,)\n"
     ]
    },
    {
     "data": {
      "text/plain": [
       "[<matplotlib.lines.Line2D at 0xd3fea5cc0>]"
      ]
     },
     "execution_count": 458,
     "metadata": {},
     "output_type": "execute_result"
    },
    {
     "data": {
      "image/png": "[encoded data removed]",
      "text/plain": [
       "<Figure size 432x288 with 1 Axes>"
      ]
     },
     "metadata": {
      "needs_background": "light"
     },
     "output_type": "display_data"
    }
   ],
   "source": [
    "q = np.geomspace(0.1, 1000., 100)\n",
    "\n",
    "cn, pn = CoefPow(k, Pk)\n",
    "Mj0 = Mj(0, pn)\n",
    "\n",
    "Cf = np.empty_like(q)\n",
    "for i, qi in enumerate(q): Cf[i] = np.real( np.einsum('n,n,n->', Mj0, cn, qi**(-pn-3.) ) )\n",
    "\n",
    "c0n, p0n = CoefPow(k, np.exp(-k**2/LambdaIR**2)*Pk/k**2, bias = -2.6, Nmax = 32)\n",
    "MX0j0 = Mj(0, p0n)\n",
    "\n",
    "X0 = np.empty_like(q)\n",
    "for i, qi in enumerate(q): X0[i] = np.real( np.einsum('n,n,n->', MX0j0, c0n, qi**(-p0n-3.) ) )\n",
    "\n",
    "X0 = X0[0]-X0 \n",
    "\n",
    "MX0j2 = Mj(2, p0n)\n",
    "\n",
    "X2 = np.empty_like(q)\n",
    "for i, qi in enumerate(q): X2[i] = np.real( np.einsum('n,n,n->', MX0j2, c0n, qi**(-p0n-3.) ) )\n",
    "\n",
    "plt.semilogx(q, q**2*Cf)\n",
    "plt.semilogx(q, X0)\n",
    "plt.semilogx(q, X2)"
   ]
  },
  {
   "cell_type": "markdown",
   "metadata": {},
   "source": [
    "# FFTLog class"
   ]
  },
  {
   "cell_type": "code",
   "execution_count": 459,
   "metadata": {},
   "outputs": [
    {
     "data": {
      "text/plain": [
       "[<matplotlib.lines.Line2D at 0xd400db7b8>]"
      ]
     },
     "execution_count": 459,
     "metadata": {},
     "output_type": "execute_result"
    },
    {
     "data": {
      "image/png": "[encoded data removed]",
      "text/plain": [
       "<Figure size 432x288 with 1 Axes>"
      ]
     },
     "metadata": {
      "needs_background": "light"
     },
     "output_type": "display_data"
    }
   ],
   "source": [
    "class CoefPow(object):\n",
    "    def __init__(self, *args, **kwargs):\n",
    "        if args is not None: self.F = interp1d(args[0], args[1])\n",
    "        else: self.F = None\n",
    "        self.bias = kwargs['bias']\n",
    "        self.Nmax = kwargs['Nmax']\n",
    "        self.xmin = kwargs['xmin']\n",
    "        self.xmax = kwargs['xmax']\n",
    "        self.dx = np.log(self.xmax/self.xmin) / (self.Nmax-1.)\n",
    "        self.x = np.empty(self.Nmax)\n",
    "        self.Fx = np.zeros(self.Nmax)\n",
    "        self.setx()\n",
    "        if self.F is not None: self.setFx()\n",
    "        self.Pow = np.empty(self.Nmax+1, dtype = complex)\n",
    "        self.setPow()\n",
    "        self.tmp = np.empty(int(self.Nmax/2+1), dtype = complex)\n",
    "        self.Coef = np.empty(self.Nmax+1, dtype = complex)\n",
    "        if self.Fx.any(): self.setCoef()\n",
    "    \n",
    "    def setx(self):\n",
    "        for i in range(self.Nmax): \n",
    "            self.x[i] = self.xmin * np.exp(i*self.dx)\n",
    "            \n",
    "    def setFx(self):\n",
    "        for i in range(self.Nmax):\n",
    "            self.Fx[i] = self.F(self.x[i]) * np.exp(-self.bias*i*self.dx)\n",
    "        \n",
    "    def setPow(self):\n",
    "        for i in range(self.Nmax+1): \n",
    "            self.Pow[i] = self.bias + 1j * 2.*np.pi / (self.Nmax*self.dx) * (i - self.Nmax/2.)\n",
    "    \n",
    "    def setCoef(self):\n",
    "        self.tmp = rfft(self.Fx)\n",
    "        for i in range(self.Nmax+1):\n",
    "            if (i < self.Nmax/2): self.Coef[i] = np.conj(self.tmp[int(self.Nmax/2-i)]) * self.xmin**(-self.Pow[i]) / float(self.Nmax)\n",
    "            else: self.Coef[i] = self.tmp[int(i-self.Nmax/2)] * self.xmin**(-self.Pow[i]) / float(self.Nmax)\n",
    "        \n",
    "        self.Coef[0] /= 2.\n",
    "        self.Coef[self.Nmax] /= 2.\n",
    "    \n",
    "    def sumCoefPow(self, k):\n",
    "        PFFT = np.empty_like(k)\n",
    "        for i, _ in enumerate(k):\n",
    "            PFFT[i] = np.real( np.sum(self.Coef * k[i]**self.Pow) )\n",
    "        return PFFT\n",
    "\n",
    "P11 = CoefPow(k, Pk, bias = -1.6, Nmax = NFFT, xmin = kminFFT, xmax = kmaxFFT)\n",
    "P11FFT = P11.sumCoefPow(k)\n",
    "plt.loglog(k, Pk)\n",
    "plt.loglog(k, P11FFT)"
   ]
  },
  {
   "cell_type": "markdown",
   "metadata": {},
   "source": [
    "# Spherical Bessel Transform class"
   ]
  },
  {
   "cell_type": "code",
   "execution_count": 460,
   "metadata": {},
   "outputs": [
    {
     "name": "stdout",
     "output_type": "stream",
     "text": [
      "-0.00413203239440918\n"
     ]
    },
    {
     "data": {
      "text/plain": [
       "[<matplotlib.lines.Line2D at 0xd40300048>]"
      ]
     },
     "execution_count": 460,
     "metadata": {},
     "output_type": "execute_result"
    },
    {
     "data": {
      "image/png": "[encoded data removed]",
      "text/plain": [
       "<Figure size 432x288 with 1 Axes>"
      ]
     },
     "metadata": {
      "needs_background": "light"
     },
     "output_type": "display_data"
    }
   ],
   "source": [
    "class sBTslow(object):\n",
    "    def __init__(self, l, CoefPow):\n",
    "        self.l = l\n",
    "        self.Coef = CoefPow.Coef\n",
    "        self.Pow = CoefPow.Pow\n",
    "        self.M = np.empty_like(self.Pow)\n",
    "        self.setM()\n",
    "    \n",
    "    def setM(self):\n",
    "        if self.l is 0: self.M = -1./(2.*np.pi**2) * gamma(2.+self.Pow) * np.sin(0.5*self.Pow*np.pi)\n",
    "        # equivalent for l = 0 but slightly slower\n",
    "        else: self.M = 1./(2.*np.pi**1.5) * 2.**(1.+self.Pow) * gamma(0.5* (3.+self.l+self.Pow) ) / gamma(0.5* (self.l-self.Pow) )\n",
    "    \n",
    "    def dosBT(self, x):\n",
    "        return np.real( np.einsum('n,n,n->', self.M, self.Coef, x**(-self.Pow-3.) ) )\n",
    "\n",
    "q = np.geomspace(0.1, 1000., 100)\n",
    "sBT0 = sBTslow(0, P11)\n",
    "start = time.time()\n",
    "Cf = np.empty_like(q)\n",
    "for i, qi in enumerate(q): Cf[i] = sBT0.dosBT(qi)\n",
    "stop = time.time()\n",
    "print (start-stop)\n",
    "plt.semilogx(q, q**2*Cf)"
   ]
  },
  {
   "cell_type": "code",
   "execution_count": 461,
   "metadata": {},
   "outputs": [
    {
     "name": "stdout",
     "output_type": "stream",
     "text": [
      "-0.00015807151794433594\n"
     ]
    },
    {
     "data": {
      "text/plain": [
       "[<matplotlib.lines.Line2D at 0xd405759e8>]"
      ]
     },
     "execution_count": 461,
     "metadata": {},
     "output_type": "execute_result"
    },
    {
     "data": {
      "image/png": "[encoded data removed]",
      "text/plain": [
       "<Figure size 432x288 with 1 Axes>"
      ]
     },
     "metadata": {
      "needs_background": "light"
     },
     "output_type": "display_data"
    }
   ],
   "source": [
    "class sBTfast(object):\n",
    "    def __init__(self, l, Pow, x):\n",
    "        self.MxPow = np.einsum('n,nx->nx', self.M(l, Pow), np.exp(np.einsum('n,x->nx', -Pow-3., np.log(x))) )\n",
    "        \n",
    "    def M(self, l, Pow):\n",
    "        if l is 0: return -1./(2.*np.pi**2) * gamma(2.+Pow) * np.sin(0.5*Pow*np.pi)\n",
    "        # equivalent for l = 0 but slightly slower\n",
    "        else: return 1./(2.*np.pi**1.5) * 2.**(1.+Pow) * gamma(0.5* (3.+l+Pow) ) / gamma(0.5* (l-Pow) )\n",
    "        \n",
    "    def dosBT(self, Coef):\n",
    "        return np.real( np.einsum('n,nx->x', Coef, self.MxPow ) )\n",
    "\n",
    "q = np.geomspace(0.1, 1000., 100)\n",
    "sBT0 = sBTfast(0, P11.Pow, q)\n",
    "start = time.time()\n",
    "Cf = sBT0.dosBT(P11.Coef)\n",
    "stop = time.time()\n",
    "print (start-stop)\n",
    "plt.semilogx(q, q**2*Cf)"
   ]
  },
  {
   "cell_type": "code",
   "execution_count": 462,
   "metadata": {},
   "outputs": [
    {
     "name": "stdout",
     "output_type": "stream",
     "text": [
      "-0.0005366802215576172\n"
     ]
    }
   ],
   "source": [
    "class sBTfastopti(object):\n",
    "    def __init__(self, l, Pow, x, Coef = None):\n",
    "        self.MxPow = np.einsum('n,nx->nx', self.M(l, Pow), np.exp(np.einsum('n,x->nx', -Pow-3., np.log(x))) )\n",
    "        if Coef is not None: self.optipath = np.einsum_path('n,nx->x', Coef, self.MxPow, optimize='optimal')[0]\n",
    "        else: self.optipath = None\n",
    "        \n",
    "    def M(self, l, Pow):\n",
    "        if l is 0: return -1./(2.*np.pi**2) * gamma(2.+Pow) * np.sin(0.5*Pow*np.pi)\n",
    "        # equivalent for l = 0 but slightly slower\n",
    "        else: return 1./(2.*np.pi**1.5) * 2.**(1.+Pow) * gamma(0.5* (3.+l+Pow) ) / gamma(0.5* (l-Pow) )\n",
    "        \n",
    "    def dosBT(self, Coef):\n",
    "        return np.real( np.einsum('n,nx->x', Coef, self.MxPow, optimize=self.optipath ) )\n",
    "\n",
    "q = np.geomspace(0.1, 1000., 100)\n",
    "sBT0 = sBTfastopti(0, P11.Pow, q, P11.Coef)\n",
    "start = time.time()\n",
    "Cf = sBT0.dosBT(P11.Coef)\n",
    "stop = time.time()\n",
    "print (start-stop)"
   ]
  },
  {
   "cell_type": "markdown",
   "metadata": {},
   "source": [
    "# DM 1-loop"
   ]
  },
  {
   "cell_type": "code",
   "execution_count": 572,
   "metadata": {},
   "outputs": [],
   "source": [
    "def M22(i, Pow):\n",
    "    M = np.empty(shape=(Pow.shape[0], Pow.shape[0]), dtype='complex')\n",
    "    for i, n1 in enumerate(-0.5*Pow):\n",
    "        for j, n2 in enumerate(-0.5*Pow):\n",
    "            M[i,j] = (((3. - 2. * n1 - 2. * n2) * (1. - 2. * n1 - 2. * n2) * (98. * n1 * n2 * (n1 + n2)**2 - 91. * (n1 + n2)**2 + 36. * n1 * n2 - 14. * n1 * n2 * (n1 + n2) + 3. * (n1 + n2) + 58.))/(196. * n1 * n2 * (1. + n1) * (1. - 2. * n1) * (1. + n2) * (1. - 2. * n2))) * (gamma(1.5 - n1) * gamma(1.5 - n2) * gamma(-1.5 + n1 + n2))/(8. * np.pi**1.5 * gamma(n1) * gamma(3. - n1 - n2) * gamma(n2))\n",
    "    return M\n",
    "\n",
    "def M13(i, Pow):\n",
    "    n1 = -0.5*Pow\n",
    "    return (1. + 9. * n1)/4. * np.tan(n1 *np.pi)/(28 *np.pi * (n1 + 1.) * n1 * (n1 - 1.) * (n1 - 2.) * (n1 - 3.))"
   ]
  },
  {
   "cell_type": "code",
   "execution_count": 571,
   "metadata": {},
   "outputs": [],
   "source": [
    "class P13(object):\n",
    "    def __init__(self, i, Pow, x):\n",
    "        self.MxPow = np.einsum('x,n,nx->nx', x**3, M13(i, Pow), np.exp(np.einsum('n,x->nx', Pow, np.log(x))) )\n",
    "    \n",
    "    def makeloop(self, Coef, P11):\n",
    "        return np.real( np.einsum('n,x,nx->x', Coef, P11, self.MxPow ) )\n",
    "\n",
    "class P22(object):\n",
    "    def __init__(self, i, Pow, x):\n",
    "        xPow = np.exp(np.einsum('n,x->nx', Pow, np.log(x)))\n",
    "        self.MxPow = np.einsum('x,nm,nx,mx->nmx', x**3, M22(i, Pow), xPow, xPow)\n",
    "    \n",
    "    def makeloop(self, Coef):\n",
    "        return np.real( np.einsum('n,m,nmx->x', Coef, Coef, self.MxPow ) )"
   ]
  },
  {
   "cell_type": "code",
   "execution_count": 573,
   "metadata": {},
   "outputs": [
    {
     "name": "stdout",
     "output_type": "stream",
     "text": [
      "0.009020090103149414\n"
     ]
    },
    {
     "data": {
      "text/plain": [
       "[<matplotlib.lines.Line2D at 0xd41c89be0>]"
      ]
     },
     "execution_count": 573,
     "metadata": {},
     "output_type": "execute_result"
    },
    {
     "data": {
      "image/png": "[encoded data removed]",
      "text/plain": [
       "<Figure size 432x288 with 1 Axes>"
      ]
     },
     "metadata": {
      "needs_background": "light"
     },
     "output_type": "display_data"
    }
   ],
   "source": [
    "kp = np.arange(0.001, 0.5, 0.01)\n",
    "\n",
    "P22DM = P22(0, P11.Pow, kp)\n",
    "P13DM = P13(0, P11.Pow, kp)\n",
    "\n",
    "start = time.time()\n",
    "P22FFT = P22DM.makeloop(P11.Coef)\n",
    "P13FFT = P13DM.makeloop(P11.Coef, P11.F(kp))\n",
    "stop = time.time()\n",
    "print(stop-start)\n",
    "\n",
    "plt.plot(kp, P22FFT+P13FFT)\n",
    "plt.plot(kp, kp*P11.F(kp))"
   ]
  },
  {
   "cell_type": "markdown",
   "metadata": {},
   "source": [
    "# Bias 1-loop"
   ]
  },
  {
   "cell_type": "code",
   "execution_count": 550,
   "metadata": {},
   "outputs": [],
   "source": [
    "M13b = {\n",
    "    '0': lambda n1: 1.125,\n",
    "    '1': lambda n1: -(1/(1 + n1)),\n",
    "    '2': lambda n1: 2.25,\n",
    "    '3': lambda n1: (3*(-1 + 3*n1))/(4.*(1 + n1)),\n",
    "    '4': lambda n1: -(1/(1 + n1)),\n",
    "    '5': lambda n1: -9/(4 + 4*n1),\n",
    "    '6': lambda n1: (9 + 18*n1)/(4 + 4*n1),\n",
    "    '7': lambda n1: (3*(-5 + 3*n1))/(8.*(1 + n1)),\n",
    "    '8': lambda n1: -9/(4 + 4*n1),\n",
    "    '9': lambda n1: (9*n1)/(4 + 4*n1)\n",
    "}\n",
    "\n",
    "def M13a(n1):\n",
    "    return np.tan(n1*np.pi)/(14.*(-3 + n1)*(-2 + n1)*(-1 + n1)*n1*np.pi)\n",
    "\n",
    "def M13(i, Pow):\n",
    "    return M13a(-0.5*Pow) * M13b[str(i)](-0.5*Pow)\n"
   ]
  },
  {
   "cell_type": "code",
   "execution_count": 551,
   "metadata": {},
   "outputs": [],
   "source": [
    "M22b = {\n",
    "    '0': lambda n1, n2: (6 + n1**4*(4 - 24*n2) - 7*n2 + 8*n1**5*n2 - 13*n2**2 + 4*n2**3 + 4*n2**4 + n1**2*(-13 + 38*n2 + 12*n2**2 - 8*n2**3) + 2*n1**3*(2 - 5*n2 - 4*n2**2 + 8*n2**3) + n1*(-7 - 6*n2 + 38*n2**2 - 10*n2**3 - 24*n2**4 + 8*n2**5))/(4.*n1*(1 + n1)*(-1 + 2*n1)*n2*(1 + n2)*(-1 + 2*n2)),\n",
    "    '1': lambda n1, n2: (-18 + n1**2*(1 - 11*n2) - 12*n2 + n2**2 + 10*n2**3 + 2*n1**3*(5 + 7*n2) + n1*(-12 - 38*n2 - 11*n2**2 + 14*n2**3))/(7.*n1*(1 + n1)*n2*(1 + n2)),\n",
    "    '2': lambda n1, n2: (-3*n1 + 2*n1**2 + n2*(-3 + 2*n2))/(n1*n2),\n",
    "    '3': lambda n1, n2: (-4*(-24 + n2 + 10*n2**2) + 2*n1*(-2 + 51*n2 + 21*n2**2) + n1**2*(-40 + 42*n2 + 98*n2**2))/(49.*n1*(1 + n1)*n2*(1 + n2)),\n",
    "    '4': lambda n1, n2: (4*(3 - 2*n2 + n1*(-2 + 7*n2)))/(7.*n1*n2),\n",
    "    '5': lambda n1, n2: 2,\n",
    "    '6': lambda n1, n2: ((-3 + 2*n1 + 2*n2)*(-2 + 3*n2 + 4*n1**4*n2 + 3*n2**2 - 2*n2**3 + n1**3*(-2 - 2*n2 + 4*n2**2) + n1**2*(3 - 10*n2 - 4*n2**2 + 4*n2**3) + n1*(3 + 2*n2 - 10*n2**2 - 2*n2**3 + 4*n2**4)))/(2.*n1*(1 + n1)*(-1 + 2*n1)*n2*(1 + n2)*(-1 + 2*n2)),\n",
    "    '7': lambda n1, n2: ((-3 + 2*n1 + 2*n2)*(2 + 4*n2 + 5*n2**2 + n1**2*(5 + 7*n2) + n1*(4 + 10*n2 + 7*n2**2)))/(7.*n1*(1 + n1)*n2*(1 + n2)),\n",
    "    '8': lambda n1, n2: ((n1 + n2)*(-3 + 2*n1 + 2*n2))/(n1*n2),\n",
    "    '9': lambda n1, n2: ((-3 + 2*n1 + 2*n2)*(10 - 23*n2 + 28*n1**4*n2 + 5*n2**2 + 2*n2**3 + n1**3*(2 - 46*n2 + 28*n2**2) + n1**2*(5 - 38*n2 - 28*n2**2 + 28*n2**3) + n1*(-23 + 94*n2 - 38*n2**2 - 46*n2**3 + 28*n2**4)))/(14.*n1*(1 + n1)*(-1 + 2*n1)*n2*(1 + n2)*(-1 + 2*n2)),\n",
    "    '10': lambda n1, n2: ((-3 + 2*n1 + 2*n2)*(-58 + 4*n2 + 35*n2**2 + 7*n1**2*(5 + 7*n2) + n1*(4 + 14*n2 + 49*n2**2)))/(49.*n1*(1 + n1)*n2*(1 + n2)),\n",
    "    '11': lambda n1, n2: ((-3 + 2*n1 + 2*n2)*(-8 + 7*n1 + 7*n2))/(7.*n1*n2),\n",
    "    '12': lambda n1, n2: ((-3 + 2*n1 + 2*n2)*(-1 + 2*n1 + 2*n2)*(2 + 2*n1**3 - n2 - n2**2 + 2*n2**3 - n1**2*(1 + 2*n2) - n1*(1 + 2*n2 + 2*n2**2)))/(8.*n1*(1 + n1)*(-1 + 2*n1)*n2*(1 + n2)*(-1 + 2*n2)),\n",
    "    '13': lambda n1, n2: ((1 + n1 + n2)*(2 + n1 + n2)*(-3 + 2*n1 + 2*n2)*(-1 + 2*n1 + 2*n2))/(8.*n1*(1 + n1)*n2*(1 + n2)),\n",
    "    '14': lambda n1, n2: -((-3 + 2*n1 + 2*n2)*(-6 - n1 + 2*n1**2 - n2 + 2*n2**2))/(8.*n1*(1 + n1)*n2*(1 + n2)),\n",
    "    '15': lambda n1, n2: ((-3 + 2*n1 + 2*n2)*(-1 + 2*n1 + 2*n2)*(38 + 41*n2 + 112*n1**3*n2 - 66*n2**2 + 2*n1**2*(-33 - 18*n2 + 56*n2**2) + n1*(41 - 232*n2 - 36*n2**2 + 112*n2**3)))/(56.*n1*(1 + n1)*(-1 + 2*n1)*n2*(1 + n2)*(-1 + 2*n2)),\n",
    "    '16': lambda n1, n2: -((-3 + 2*n1 + 2*n2)*(9 + 3*n1 + 3*n2 + 7*n1*n2))/(14.*n1*(1 + n1)*n2*(1 + n2)),\n",
    "    '17': lambda n1, n2: ((-3 + 2*n1 + 2*n2)*(-1 + 2*n1 + 2*n2)*(5 + 5*n1 + 5*n2 + 7*n1*n2))/(14.*n1*(1 + n1)*n2*(1 + n2)),\n",
    "    '18': lambda n1, n2: (3 - 2*n1 - 2*n2)/(2.*n1*n2),\n",
    "    '19': lambda n1, n2: ((-3 + 2*n1 + 2*n2)*(-1 + 2*n1 + 2*n2))/(2.*n1*n2),\n",
    "    '20': lambda n1, n2: ((-3 + 2*n1 + 2*n2)*(-1 + 2*n1 + 2*n2)*(50 - 9*n2 + 98*n1**3*n2 - 35*n2**2 + 7*n1**2*(-5 - 18*n2 + 28*n2**2) + n1*(-9 - 66*n2 - 126*n2**2 + 98*n2**3)))/(196.*n1*(1 + n1)*(-1 + 2*n1)*n2*(1 + n2)*(-1 + 2*n2)),\n",
    "    '21': lambda n1, n2: ((-3 + 2*n1 + 2*n2)*(-1 + 2*n1 + 2*n2)*(2 + n1 + 4*n1**3 + n2 - 8*n1*n2 - 8*n1**2*n2 - 8*n1*n2**2 + 4*n2**3))/(8.*n1*(1 + n1)*(-1 + 2*n1)*n2*(1 + n2)*(-1 + 2*n2)),\n",
    "    '22': lambda n1, n2: ((2 + n1 + n2)*(-3 + 2*n1 + 2*n2)*(-1 + 2*n1 + 2*n2)*(1 + 2*n1 + 2*n2))/(8.*n1*(1 + n1)*n2*(1 + n2)),\n",
    "    '23': lambda n1, n2: -((-3 + 2*n1 + 2*n2)*(-1 + 2*n1 + 2*n2)*(-2 + 7*n1 + 7*n2))/(56.*n1*(1 + n1)*n2*(1 + n2)),\n",
    "    '24': lambda n1, n2: ((-3 + 2*n1 + 2*n2)*(-1 + 2*n1 + 2*n2)*(26 + 9*n2 + 56*n1**3*n2 - 38*n2**2 + 2*n1**2*(-19 - 18*n2 + 56*n2**2) + n1*(9 - 84*n2 - 36*n2**2 + 56*n2**3)))/(56.*n1*(1 + n1)*(-1 + 2*n1)*n2*(1 + n2)*(-1 + 2*n2)),\n",
    "    '25': lambda n1, n2: (3*(-3 + 2*n1 + 2*n2)*(-1 + 2*n1 + 2*n2))/(32.*n1*(1 + n1)*n2*(1 + n2)),\n",
    "    '26': lambda n1, n2: ((-3 + 2*n1 + 2*n2)*(-1 + 2*n1 + 2*n2)*(1 + 2*n1 + 2*n2)*(1 + 2*n1**2 - 8*n1*n2 + 2*n2**2))/(16.*n1*(1 + n1)*(-1 + 2*n1)*n2*(1 + n2)*(-1 + 2*n2)),\n",
    "    '27': lambda n1, n2: ((-3 + 2*n1 + 2*n2)*(-1 + 2*n1 + 2*n2)*(1 + 2*n1 + 2*n2)*(3 + 2*n1 + 2*n2))/(32.*n1*(1 + n1)*n2*(1 + n2)),\n",
    "}\n",
    "\n",
    "def M22a(n1, n2):\n",
    "    return (gamma(1.5 - n1)*gamma(1.5 - n2)*gamma(-1.5 + n1 + n2))/(8.*Pi**1.5*gamma(n1)*gamma(3 - n1 - n2)*gamma(n2))\n",
    "\n",
    "def M22(i, Pow):\n",
    "    M = np.empty(shape=(Pow.shape[0], Pow.shape[0]), dtype='complex')\n",
    "    for u, n1 in enumerate(-0.5*Pow):\n",
    "        for v, n2 in enumerate(-0.5*Pow):\n",
    "            M[u,v] = M22a(n1, n2) * M22b[str(i)](n1, n2)\n",
    "    return M\n"
   ]
  },
  {
   "cell_type": "markdown",
   "metadata": {},
   "source": [
    "Slow class"
   ]
  },
  {
   "cell_type": "code",
   "execution_count": 774,
   "metadata": {},
   "outputs": [],
   "source": [
    "class P13b(object):\n",
    "    def __init__(self, Pow, x, load=True, save=False, path='./'):\n",
    "        self.N = 10 # number of 13-loops\n",
    "        if load is True:\n",
    "            try: self.MxPow = np.load(os.path.join(path, 'M13b.npy'))\n",
    "            except: self.MxPow = self.makematrix(Pow, x, save=save, path=path)\n",
    "        else:\n",
    "            self.MxPow = self.makematrix(Pow, x, save=save, path=path)\n",
    "    \n",
    "    def makematrix(self, Pow, x, save=True, path='./'):\n",
    "        M = np.empty(shape=(self.N, Pow.shape[0], x.shape[0]), dtype='complex')\n",
    "        xPow = np.exp(np.einsum('n,x->nx', Pow, np.log(x)))\n",
    "        for i in range(self.N): M[i] = np.einsum('x,n,nx->nx', x**3, M13(i, Pow), xPow )\n",
    "        if save is True: np.save(os.path.join(path, 'M13b.npy'), M)\n",
    "        return M\n",
    "    \n",
    "    def makeloop(self, i, Coef, P11k):\n",
    "        return P11k * np.real( np.einsum('n,nx->x', Coef, self.MxPow[i]) )\n",
    "        # return np.real( np.einsum('n,x,nx->x', Coef, P11k, self.MxPow[i] ) )\n",
    "\n",
    "# This is fast to compute the loop, but slow to load the precomputed M22(n1,n2) * k^{i n1} * k^{i n2} * k^3\n",
    "class P22b(object):\n",
    "    def __init__(self, Pow, x, load=True, save=False, path='./'):\n",
    "        self.N = 28 # number of 22-loops\n",
    "        if load is True:\n",
    "            try: \n",
    "                self.MxPow = np.load(os.path.join(path, 'M22b.npy'))\n",
    "            except: self.MxPow = self.makematrix(Pow, x, save=save, path=path)\n",
    "        else: \n",
    "            self.MxPow = self.makematrix(Pow, x, save=save, path=path)\n",
    "        # for speeding-up the matrix multiplication:\n",
    "        self.optipath = np.einsum_path('n,m,nmx->x', Pow, Pow, self.MxPow[0], optimize='optimal')[0]\n",
    "    \n",
    "    def makematrix(self, Pow, x, save=True, path='./'):\n",
    "        M = np.empty(shape=(self.N, Pow.shape[0], Pow.shape[0], x.shape[0]), dtype='complex')\n",
    "        xPow = np.exp(np.einsum('n,x->nx', Pow, np.log(x)))\n",
    "        for i in range(self.N): M[i] = np.einsum('x,nm,nx,mx->nmx', x**3, M22(i, Pow), xPow, xPow)\n",
    "        if save is True: np.save(os.path.join(path, 'M22b.npy'), M)\n",
    "        return M\n",
    "    \n",
    "    def makeloop(self, i, Coef):\n",
    "        return np.real( np.einsum('n,m,nmx->x', Coef, Coef, self.MxPow[i], optimize=self.optipath ) )"
   ]
  },
  {
   "cell_type": "code",
   "execution_count": 775,
   "metadata": {},
   "outputs": [],
   "source": [
    "ps13b = P13b(P11.Pow, kp, load=True, save=False, path = './')\n",
    "ps22b = P22b(P11.Pow, kp, load=True, save=False, path = './')"
   ]
  },
  {
   "cell_type": "code",
   "execution_count": 788,
   "metadata": {},
   "outputs": [
    {
     "name": "stdout",
     "output_type": "stream",
     "text": [
      "0.20684170722961426\n"
     ]
    }
   ],
   "source": [
    "start = time.time()\n",
    "for i in range(ps22b.N): loop22 = ps22b.makeloop(i, P11.Coef)\n",
    "# for i in range(ps13b.N): loop13 = ps13b.makeloop(i, P11.Coef, P11.F(kp))\n",
    "stop = time.time()\n",
    "print(stop-start)"
   ]
  },
  {
   "cell_type": "markdown",
   "metadata": {},
   "source": [
    "Fast class"
   ]
  },
  {
   "cell_type": "code",
   "execution_count": 778,
   "metadata": {},
   "outputs": [],
   "source": [
    "# This is faster that P22b to load and also faster to compute the loops\n",
    "class P22(object):\n",
    "    def __init__(self, Pow, x, load=True, save=False, path='./'):\n",
    "        self.N = 28 # number of 22-loops\n",
    "        if load is True:\n",
    "            try: \n",
    "                self.M = np.load(os.path.join(path, 'M22.npy'))\n",
    "            except: self.M = self.makematrix(Pow, save=save, path=path)\n",
    "        else: \n",
    "            self.M = self.makematrix(Pow, save=save, path=path)\n",
    "        # for speeding-up the matrix multiplication:\n",
    "        CoefxPow = np.einsum('n,nx->nx', Pow, np.exp(np.einsum('n,x->nx', Pow, np.log(x))) )\n",
    "        self.optipath = np.einsum_path('nx,mx,nm->x', CoefxPow, CoefxPow, self.M[0], optimize='optimal')[0]\n",
    "    \n",
    "    def makematrix(self, Pow, save=True, path='./'):\n",
    "        M = np.empty(shape=(self.N, Pow.shape[0], Pow.shape[0]), dtype='complex')\n",
    "        for i in range(self.N): M[i] = M22(i, Pow)\n",
    "        if save is True: np.save(os.path.join(path, 'M22.npy'), M)\n",
    "        return M\n",
    "    \n",
    "    def makeloop(self, i, Coef, Pow, x):\n",
    "        CoefxPow = np.einsum('n,nx->nx', Coef, np.exp(np.einsum('n,x->nx', Pow, np.log(x))) )\n",
    "        return np.real( np.einsum('x,nx,mx,nm->x', x**3, CoefxPow, CoefxPow, self.M[i], optimize=self.optipath ) )\n",
    "\n",
    "# P13b is marginally faster than P13. They are both fast (< ~ 0.01 s) so either can do\n",
    "class P13(object):\n",
    "    def __init__(self, Pow, x, load=True, save=False, path='./'):\n",
    "        self.N = 10 # number of 13-loops\n",
    "        if load is True:\n",
    "            try: self.M = np.load(os.path.join(path, 'M13.npy'))\n",
    "            except: self.M = self.makematrix(Pow, save=save, path=path)\n",
    "        else:\n",
    "            self.M = self.makematrix(Pow, save=save, path=path)\n",
    "    \n",
    "    def makematrix(self, Pow, save=True, path='./'):\n",
    "        M = np.empty(shape=(self.N, Pow.shape[0]), dtype='complex')\n",
    "        for i in range(self.N): M[i] = M13(i, Pow)\n",
    "        if save is True: np.save(os.path.join(path, 'M13.npy'), M)\n",
    "        return M\n",
    "    \n",
    "    def makeloop(self, i, Coef, Pow, k, P11k):\n",
    "        CoefxPow = np.einsum('n,nx->nx', Coef, np.exp(np.einsum('n,x->nx', Pow, np.log(k))) )\n",
    "        return k**3 * P11k * np.real( np.einsum('nx,n->x', CoefxPow, self.M[i]) )\n",
    "        # return np.real( np.einsum('n,x,nx->x', Coef, P11k, self.MxPow[i] ) )"
   ]
  },
  {
   "cell_type": "code",
   "execution_count": 781,
   "metadata": {},
   "outputs": [
    {
     "name": "stdout",
     "output_type": "stream",
     "text": [
      "0.05259299278259277\n"
     ]
    }
   ],
   "source": [
    "start = time.time()\n",
    "ps22 = P22(P11.Pow, kp, load=True, save=False, path = './')\n",
    "ps13 = P13(P11.Pow, kp, load=True, save=False, path = './')\n",
    "stop = time.time()\n",
    "print(stop-start)"
   ]
  },
  {
   "cell_type": "code",
   "execution_count": 795,
   "metadata": {},
   "outputs": [
    {
     "name": "stdout",
     "output_type": "stream",
     "text": [
      "0.10525703430175781\n"
     ]
    }
   ],
   "source": [
    "loop22 = np.empty(ps22.N)\n",
    "loop13 = np.empty(ps13.N)\n",
    "\n",
    "start = time.time()\n",
    "for i in range(ps22.N): loop22 = ps22.makeloop(i, P11.Coef, P11.Pow, kp)\n",
    "P11kp = P11.F(kp)\n",
    "for i in range(ps13.N): loop13 = ps13.makeloop(i, P11.Coef, P11.Pow, kp, P11kp)\n",
    "stop = time.time()\n",
    "print(stop-start)"
   ]
  },
  {
   "cell_type": "markdown",
   "metadata": {},
   "source": [
    "# In Dev"
   ]
  },
  {
   "cell_type": "code",
   "execution_count": 790,
   "metadata": {},
   "outputs": [],
   "source": [
    "fitCMASS = {'b1': 2.22, 'b2': 1.2 / np.sqrt(2.), 'b3': 0.1, 'b4': 1.2 / np.sqrt(2.),\n",
    "        'b5': 0.4, 'b6': -7.7, 'b7': 0., 'b8': 0.0,\n",
    "        'b9': 0., 'b10': -3.7, 'b11': 0,\n",
    "        'e1': 0, 'e2': 0}\n",
    "\n",
    "def get_biasloop(d_fit):\n",
    "    return np.array([#0, 1., d_fit['b1'], d_fit['b1']**2, \n",
    "                      1., d_fit['b1'], d_fit['b2'], d_fit['b3'], d_fit['b4'],\n",
    "                      d_fit['b1']**2, d_fit['b1'] * d_fit['b2'], d_fit['b1'] * d_fit['b3'], d_fit['b1'] * d_fit['b4'],\n",
    "                      d_fit['b2']**2, d_fit['b2'] * d_fit['b4'], d_fit['b4']**2,\n",
    "                      d_fit['b1'] * d_fit['b5'] / knl**2, d_fit['b1'] * d_fit['b6'] / km**2,\n",
    "                      d_fit['b1'] * d_fit['b7'] / km**2, d_fit['b5'] / knl**2, d_fit['b6'] / km**2, d_fit['b7'] / km**2])\n",
    "\n",
    "def get_PSbias(name, dfit):\n",
    "    \n",
    "    PS = np.einsum('c,mkc->mk', get_biasloop(dfit), ploop)\n",
    "    PS[0] = PS[0] + dfit['b8'] / nd + dfit['b9'] / nd / km**2 * k**2\n",
    "    PS[1] = PS[1] + dfit['b10'] / nd / km**2 * k**2\n",
    "    return k, PS"
   ]
  },
  {
   "cell_type": "code",
   "execution_count": null,
   "metadata": {},
   "outputs": [],
   "source": [
    "plt.plot()"
   ]
  },
  {
   "cell_type": "code",
   "execution_count": null,
   "metadata": {},
   "outputs": [],
   "source": []
  }
 ],
 "metadata": {
  "kernelspec": {
   "display_name": "Python 3",
   "language": "python",
   "name": "python3"
  },
  "language_info": {
   "codemirror_mode": {
    "name": "ipython",
    "version": 3
   },
   "file_extension": ".py",
   "mimetype": "text/x-python",
   "name": "python",
   "nbconvert_exporter": "python",
   "pygments_lexer": "ipython3",
   "version": "3.7.3"
  }
 },
 "nbformat": 4,
 "nbformat_minor": 2
}
